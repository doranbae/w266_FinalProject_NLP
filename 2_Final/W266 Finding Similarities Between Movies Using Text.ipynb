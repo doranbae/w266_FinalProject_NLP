{
 "cells": [
  {
   "cell_type": "markdown",
   "metadata": {},
   "source": [
    "# Project Description\n",
    "\n",
    "The goal of this project is to find out whether textual information can be a sole factor to distinguish one screenplay from another. The first part of this project will cover computing similarities between different movies based on text. The second part of this experiment will cover a simple Random Forest model to predict a movie's box-office revenue based on text."
   ]
  },
  {
   "cell_type": "markdown",
   "metadata": {},
   "source": [
    "#### Table of Contents\n",
    "1. Prepare Dataset\n",
    "2. Compute Similarities using LSA, tf-idf, and cosine similarity\n",
    "3. Predict movie revenue using BOW and Random Forest classifier"
   ]
  },
  {
   "cell_type": "markdown",
   "metadata": {},
   "source": [
    "### 1. Prepare Dataset\n",
    "- Scrape and join dataset\n",
    "- Standard preprocessing\n",
    "- Additional preprocessing"
   ]
  },
  {
   "cell_type": "code",
   "execution_count": 1,
   "metadata": {
    "collapsed": false
   },
   "outputs": [],
   "source": [
    "# Import\n",
    "import csv\n",
    "from BeautifulSoup import BeautifulSoup\n",
    "from collections import Counter\n",
    "import urllib\n",
    "import importlib\n",
    "import numpy as np\n",
    "import json\n",
    "import os\n",
    "import re\n",
    "import sys\n",
    "import math\n",
    "import pandas as pd\n",
    "from sklearn import metrics\n",
    "from sklearn.feature_extraction.text import CountVectorizer\n",
    "from sklearn.ensemble import RandomForestClassifier\n",
    "from nltk.stem import PorterStemmer\n",
    "from nltk.tokenize import sent_tokenize, word_tokenize\n",
    "from string import digits\n",
    "import copy\n",
    "import nltk\n",
    "from gensim import corpora, models, similarities\n",
    "import gensim\n",
    "import itertools\n",
    "import math\n",
    "from textblob import TextBlob as tb\n",
    "from nltk.corpus import stopwords\n",
    "import copy\n",
    "import csv\n",
    "from nltk.stem import SnowballStemmer\n",
    "import matplotlib.pyplot as plt"
   ]
  },
  {
   "cell_type": "markdown",
   "metadata": {},
   "source": [
    "#### 1-1. Scraping and saving into csv file"
   ]
  },
  {
   "cell_type": "markdown",
   "metadata": {},
   "source": [
    "For the purpose of this study, movie meta data is already scraped and saved using publically available scraping python codes\n",
    "(For example, https://github.com/skozilla/BoxOfficeMojo/tree/master/boxofficemojoAPI). \n",
    "\n",
    "From a set of movie titles and revenue (\"movie_data_625.csv\"), the following scrapes corresponding movie scrips. Run them if you want to gather it yourself, but saved files are provided in the folder so you may want to just read in those csv files."
   ]
  },
  {
   "cell_type": "code",
   "execution_count": 3,
   "metadata": {
    "collapsed": false
   },
   "outputs": [],
   "source": [
    "class upload_dataset:\n",
    "    def __init__(self):\n",
    "        self.upload_revenue = []\n",
    "        self.upload_title_list = []\n",
    "\n",
    "    def upload_movieList(self):\n",
    "        #with open(\"movie_data_romance.csv\", 'r') as f:\n",
    "        with open(\"movie_data_625.csv\", 'r') as f:\n",
    "            reader = csv.reader(f, delimiter=',')\n",
    "            for row in reader:\n",
    "                self.upload_title_list.append(row[0]) \n",
    "                self.upload_revenue.append(row[1])\n",
    "            print(\"Uploaded %s total movie lists\" %len(self.upload_title_list))\n",
    "            #print(\"Uploaded %s Box Office revenue\" %len(self.upload_revenue))\n",
    "            return self.upload_title_list, self.upload_revenue"
   ]
  },
  {
   "cell_type": "code",
   "execution_count": 7,
   "metadata": {
    "collapsed": false
   },
   "outputs": [],
   "source": [
    "class scrape_data:\n",
    "    def __init__(self,upload_title_list,upload_revenue):\n",
    "        self.upload_title_list = upload_title_list\n",
    "        self.upload_revenue = upload_revenue\n",
    "        self.y = []             # y labels: global box-office for each movie\n",
    "        self.x = []             # x input: screenplay text\n",
    "        self.title_list =[]     # look-up movie titles for each x value\n",
    "        self.fail_screenplay = 0\n",
    "        self.success_screenplay = 0\n",
    "        self.y = []\n",
    "        \n",
    "    def input_data_save2file(self):  # Go through the title list and scrape screenplay text\n",
    "        for m in self.upload_title_list:\n",
    "            self.x.append(scrape_data.scrape_screenplay(self,m))\n",
    "            self.y.append(self.upload_revenue[self.upload_title_list.index(m)])\n",
    "            self.title_list.append(m)\n",
    "        \n",
    "        # Filter out none values\n",
    "        for index, item in enumerate(self.x):\n",
    "            if item == 0:\n",
    "                self.y[index] = 0\n",
    "                self.title_list[index] = 0\n",
    "\n",
    "        self.x = filter(lambda a: a != 0, self.x)\n",
    "        #print(self.x)\n",
    "        #print(type(self.x))\n",
    "        self.y = filter(lambda a: a != 0, self.y)\n",
    "        #print(self.y)\n",
    "        #print(type(self.y))\n",
    "        self.title_list = filter(lambda a: a!= 0, self.title_list)\n",
    "        #print(self.title_list)\n",
    "        #print(type(self.title_list))\n",
    "\n",
    "        # Test:\n",
    "        with open('625_x.csv', 'wb') as f:\n",
    "            writer = csv.writer(f, delimiter = ',')\n",
    "            writer.writerow(self.x)\n",
    "\n",
    "        with open('625_y.csv', 'wb') as csv_file:\n",
    "            writer = csv.writer(csv_file, delimiter = ',')\n",
    "            writer.writerow(self.y)\n",
    "        \n",
    "        with open('625_title.csv', 'wb') as f:\n",
    "            writer = csv.writer(f, delimiter = ',')\n",
    "            writer.writerow(self.title_list)\n",
    "        \n",
    "        # Entire set\n",
    "        print('Number of success movies: ', self.success_screenplay)\n",
    "        print('Number of fail movies: ', self.fail_screenplay)\n",
    "        #return self.x, self.y, self.title_list\n",
    "\n",
    "    def scrape_screenplay(self, movie_title):\n",
    "        try:\n",
    "            url = 'http://www.imsdb.com/scripts/%s.html' % movie_title\n",
    "            page = urllib.urlopen(url)\n",
    "            soup = BeautifulSoup(page.read())\n",
    "            rawtext = str(soup.find(\"td\", {\"class\": \"scrtext\"}))\n",
    "            clean = re.sub('<[^<]+?>','',rawtext)\n",
    "            clean = re.sub('[^a-zA-Z0-9 \\n\\.]', '', clean)\n",
    "            clean = re.sub('&nbsp','',clean)\n",
    "            words = clean.split()\n",
    "            if len(words) > 200:\n",
    "                self.success_screenplay += 1\n",
    "                results = \" \".join(words) # Back into string separated by space\n",
    "                return results\n",
    "            else: \n",
    "                self.fail_screenplay += 1\n",
    "                #print(\"%s movie screenplay is not available\" %movie_title)\n",
    "                return 0\n",
    "        except:  # If movie URL is dead, skip it\n",
    "            pass"
   ]
  },
  {
   "cell_type": "markdown",
   "metadata": {
    "collapsed": false,
    "scrolled": true
   },
   "source": [
    "Uncomment the following if you want to gather dataset yourself. However, the data is already downloaded and provided as csv files."
   ]
  },
  {
   "cell_type": "code",
   "execution_count": 8,
   "metadata": {
    "collapsed": false
   },
   "outputs": [
    {
     "name": "stdout",
     "output_type": "stream",
     "text": [
      "('Number of success movies: ', 436)\n",
      "('Number of fail movies: ', 188)\n"
     ]
    }
   ],
   "source": [
    "#upload = upload_dataset()\n",
    "#upload_title_list, upload_revenue = upload.upload_movieList()\n",
    "#step_one = scrape_data(upload_title_list,upload_revenue)\n",
    "#step_one.input_data_save2file()"
   ]
  },
  {
   "cell_type": "markdown",
   "metadata": {},
   "source": [
    "Otherwise, please read in the folloiwng csv files."
   ]
  },
  {
   "cell_type": "code",
   "execution_count": 2,
   "metadata": {
    "collapsed": false
   },
   "outputs": [
    {
     "name": "stdout",
     "output_type": "stream",
     "text": [
      "187733202\n",
      "437\n"
     ]
    }
   ],
   "source": [
    "# Load y-value (movie revenue)\n",
    "\n",
    "with open('625_y.csv', 'rb') as f:\n",
    "    reader = csv.reader(f, delimiter = ',')\n",
    "    temp_y = list(reader)\n",
    "\n",
    "y_boxoffice = []\n",
    "for sublist in temp_y:\n",
    "    for val in sublist:\n",
    "        y_boxoffice.append(val)\n",
    "print(y_boxoffice[1])\n",
    "print(len(y_boxoffice)) "
   ]
  },
  {
   "cell_type": "code",
   "execution_count": 3,
   "metadata": {
    "collapsed": false
   },
   "outputs": [
    {
     "data": {
      "text/plain": [
       "131072"
      ]
     },
     "execution_count": 3,
     "metadata": {},
     "output_type": "execute_result"
    }
   ],
   "source": [
    "# Load x-value (movie text)\n",
    "csv.field_size_limit(sys.maxsize)\n",
    "\n",
    "with open('625_x.csv', 'rb') as f:\n",
    "    reader = csv.reader(f, delimiter = ',')\n",
    "    temp_x = list(reader)\n",
    "\n",
    "x_scrtext = []\n",
    "for sublist in temp_x:\n",
    "    for val in sublist:\n",
    "        x_scrtext.append(val)\n",
    "#print(len(x_scrtext))"
   ]
  },
  {
   "cell_type": "code",
   "execution_count": 5,
   "metadata": {
    "collapsed": false
   },
   "outputs": [
    {
     "name": "stdout",
     "output_type": "stream",
     "text": [
      "500-Days-of-Summer\n",
      "437\n"
     ]
    }
   ],
   "source": [
    "# Load titles for reference.\n",
    "\n",
    "with open('625_title.csv', 'rb') as f:\n",
    "    reader = csv.reader(f, delimiter = ',')\n",
    "    temp_title = list(reader)\n",
    "\n",
    "movie_title = []\n",
    "for sublist in temp_title:\n",
    "    for val in sublist:\n",
    "        movie_title.append(val)\n",
    "print(movie_title[0])\n",
    "print(len(movie_title))"
   ]
  },
  {
   "cell_type": "markdown",
   "metadata": {},
   "source": [
    "#### 1-2. Preprocessing (Standard + Additional)"
   ]
  },
  {
   "cell_type": "code",
   "execution_count": 8,
   "metadata": {
    "collapsed": false
   },
   "outputs": [],
   "source": [
    "def preprocessing_removeName(movie_text):\n",
    "    movie_text_1 = []\n",
    "    progress = 0\n",
    "    for movie in movie_text:\n",
    "        movie_split = movie.split()\n",
    "        #print('Originally this many words: ',len(movie_split))\n",
    "        for single_word in movie_split:\n",
    "            try: \n",
    "                for w in nltk.ne_chunk(nltk.pos_tag(nltk.word_tokenize(single_word))):\n",
    "                    if w.label() == 'PERSON':\n",
    "                        movie_split.remove(single_word)\n",
    "            except:\n",
    "                continue\n",
    "        #print('After moving names:', len(movie_split))\n",
    "        movie_text_1.append(movie_split)\n",
    "        progress += 1\n",
    "        if progress%10 == 0:\n",
    "            print('This many done: ', progress)\n",
    "    #print(len(movie_text_1))\n",
    "    #print(type(movie_text_1))\n",
    "    return movie_text_1"
   ]
  },
  {
   "cell_type": "code",
   "execution_count": 9,
   "metadata": {
    "collapsed": false
   },
   "outputs": [
    {
     "name": "stdout",
     "output_type": "stream",
     "text": [
      "('This many done: ', 10)\n",
      "('This many done: ', 20)\n",
      "('This many done: ', 30)\n",
      "('This many done: ', 40)\n",
      "('This many done: ', 50)\n",
      "('This many done: ', 60)\n",
      "('This many done: ', 70)\n",
      "('This many done: ', 80)\n",
      "('This many done: ', 90)\n",
      "('This many done: ', 100)\n",
      "('This many done: ', 110)\n",
      "('This many done: ', 120)\n",
      "('This many done: ', 130)\n",
      "('This many done: ', 140)\n",
      "('This many done: ', 150)\n",
      "('This many done: ', 160)\n",
      "('This many done: ', 170)\n",
      "('This many done: ', 180)\n",
      "('This many done: ', 190)\n",
      "('This many done: ', 200)\n",
      "('This many done: ', 210)\n",
      "('This many done: ', 220)\n",
      "('This many done: ', 230)\n",
      "('This many done: ', 240)\n",
      "('This many done: ', 250)\n",
      "('This many done: ', 260)\n",
      "('This many done: ', 270)\n",
      "('This many done: ', 280)\n",
      "('This many done: ', 290)\n",
      "('This many done: ', 300)\n",
      "('This many done: ', 310)\n",
      "('This many done: ', 320)\n",
      "('This many done: ', 330)\n",
      "('This many done: ', 340)\n",
      "('This many done: ', 350)\n",
      "('This many done: ', 360)\n",
      "('This many done: ', 370)\n",
      "('This many done: ', 380)\n",
      "('This many done: ', 390)\n",
      "('This many done: ', 400)\n",
      "('This many done: ', 410)\n",
      "('This many done: ', 420)\n",
      "('This many done: ', 430)\n"
     ]
    }
   ],
   "source": [
    "x_scrtext = preprocessing_removeName(x_scrtext)"
   ]
  },
  {
   "cell_type": "code",
   "execution_count": 10,
   "metadata": {
    "collapsed": true
   },
   "outputs": [],
   "source": [
    "# The above process took a while, so better save it and call it later. \n",
    "with open('625_x_removeName.csv', 'wb') as f:\n",
    "            writer = csv.writer(f, delimiter = ',')\n",
    "            writer.writerow(x_scrtext)"
   ]
  },
  {
   "cell_type": "code",
   "execution_count": 15,
   "metadata": {
    "collapsed": false
   },
   "outputs": [],
   "source": [
    "#print(x_scrtext[3])"
   ]
  },
  {
   "cell_type": "code",
   "execution_count": 6,
   "metadata": {
    "collapsed": false
   },
   "outputs": [
    {
     "name": "stdout",
     "output_type": "stream",
     "text": [
      "437\n"
     ]
    }
   ],
   "source": [
    "# THEN OPEN IT BACK ... \n",
    "with open('625_x_removeName.csv', 'rb') as f:\n",
    "    reader = csv.reader(f, delimiter = ',')\n",
    "    temp_x = list(reader)\n",
    "\n",
    "x_scrtext_sample = []\n",
    "for sublist in temp_x:\n",
    "    for val in sublist:\n",
    "        x_scrtext_sample.append(sublist)\n",
    "print(len(x_scrtext_sample))"
   ]
  },
  {
   "cell_type": "code",
   "execution_count": 7,
   "metadata": {
    "collapsed": false
   },
   "outputs": [],
   "source": [
    "# Make it flat. for some reason...\n",
    "flat_x_scrtext = x_scrtext_sample[0]\n",
    "#print(flat_x_scrtext[1])"
   ]
  },
  {
   "cell_type": "code",
   "execution_count": 8,
   "metadata": {
    "collapsed": true
   },
   "outputs": [],
   "source": [
    "MovieTransform1 = []\n",
    "for movie in flat_x_scrtext:\n",
    "    new = movie.replace(',', '')\n",
    "    new1 = new.replace('.', '')\n",
    "    new2 = new1.replace(\"'\", \"\")\n",
    "    new3 = new2.replace(\"[\", \"\")\n",
    "    new4 = new3.replace(\"]\", \"\")\n",
    "    new5 = new4.split()\n",
    "    MovieTransform1.append(new5)"
   ]
  },
  {
   "cell_type": "code",
   "execution_count": 9,
   "metadata": {
    "collapsed": false
   },
   "outputs": [
    {
     "name": "stdout",
     "output_type": "stream",
     "text": [
      "SUMMER\n"
     ]
    }
   ],
   "source": [
    "print(MovieTransform1[0][3])"
   ]
  },
  {
   "cell_type": "code",
   "execution_count": 10,
   "metadata": {
    "collapsed": true
   },
   "outputs": [],
   "source": [
    "def preprocessing_removeScene(movie_text):\n",
    "    movie_text2 = []\n",
    "    progress = 0\n",
    "    for movie in movie_text:\n",
    "        #print(type(movie))\n",
    "        #print('Originally this many words:', len(movie))\n",
    "        for w in movie:\n",
    "            #print(w)\n",
    "            if w.isupper():\n",
    "                movie.remove(w)\n",
    "        #print('After removing scene direcitions:', len(movie))\n",
    "        movie_text2.append(movie)\n",
    "        progress += 1\n",
    "        if progress%50 == 0:\n",
    "            print('This many done: ', progress)\n",
    "    #print(len(movie_text2))\n",
    "    #print(type(movie_text2))\n",
    "    return(movie_text2)"
   ]
  },
  {
   "cell_type": "code",
   "execution_count": 11,
   "metadata": {
    "collapsed": false
   },
   "outputs": [
    {
     "name": "stdout",
     "output_type": "stream",
     "text": [
      "('This many done: ', 50)\n",
      "('This many done: ', 100)\n",
      "('This many done: ', 150)\n",
      "('This many done: ', 200)\n",
      "('This many done: ', 250)\n",
      "('This many done: ', 300)\n",
      "('This many done: ', 350)\n",
      "('This many done: ', 400)\n"
     ]
    }
   ],
   "source": [
    "x_scrtext_2 = preprocessing_removeScene(MovieTransform1)"
   ]
  },
  {
   "cell_type": "code",
   "execution_count": 43,
   "metadata": {
    "collapsed": false
   },
   "outputs": [
    {
     "name": "stdout",
     "output_type": "stream",
     "text": [
      "['DARK', 'Written', 'by', 'Boal', 'October', '3rd', '2011', 'EMERGE', 'We', 'hear', 'the', 'actual', 'recorded', 'emergency', 'calls', 'made', 'by', 'World', 'Trade', 'office', 'workers', 'to', 'police', 'and', 'fire', 'departments', 'after', 'the', 'planes', 'struck', 'on', '911', 'just', 'before', 'the', 'buildings', 'collapsed', '11', '2001', 'We', 'listen', 'to', 'fragments', 'from', 'a', 'number', 'of', 'these', 'callsstarting', 'with', 'pleas', 'for', 'help', 'building', 'to', 'a', 'panic', 'ending', 'with', 'the', 'callers', 'grim', 'acceptance', 'that', 'help', 'will', 'not', 'arrive', 'that', 'the', 'situation', 'is', 'hopeless', 'that', 'they', 'are', 'about', 'to', 'die', 'YEARS', 'own', 'you', 'Ammar', 'You', 'belong', 'to', 'me', 'Look', 'at', 'me', 'This', 'is', 'STANTON', 'the', 'CIAs', 'man', 'in', 'Islamabad', 'a', 'big', 'American', 'late', '30s', 'with', 'a', 'long', 'anarchical', 'beard', 'snaking', 'down', 'to', 'his', 'tattooed', 'neck', 'He', 'looks', 'like', 'a', 'paramilitary', 'hipster', 'a', 'punk', 'rocker', 'with', 'a', 'Glock', 'explaining', 'the', 'rules', 'If', 'you', 'dont', 'look', 'at', 'me', 'when', 'talk', 'to', 'you', 'hurt', 'you', 'If', 'you', 'step', 'off', 'this', 'mat', 'hurt', 'you', 'If', 'you', 'lie', 'to', 'me', 'Im', 'gonna', 'hurt', 'you', 'Now', 'Look', 'at', 'me', 'His', 'prisoner', 'stands', 'on', 'a', 'decaying', 'gym', 'mat', 'surrounded', 'by', 'four', 'whose', 'faces', 'are', 'covered', 'in', 'ski', 'masks', 'Ammar', 'looks', 'down', 'Instantly', 'the', 'guards', 'rush', 'Ammar', 'punching', 'and', 'kicking', 'Look', 'at', 'me', 'Ammar', 'Notably', 'one', 'of', 'the', 'wearing', 'a', 'ski', 'mask', 'does', 'not', 'take', 'part', 'in', 'the', 'beating', '2', 'and', 'the', 'masked', 'figures', 'emerge', 'from', 'the', 'interrogation', 'room', 'into', 'the', 'light', 'of', 'day', 'They', 'remove', 'their', 'masks', 'and', 'we', 'see', 'that', 'one', 'is', 'a', 'beautiful', 'young', 'woman', 'in', 'her', 'midtwenties', 'She', 'has', 'a', 'pale', 'milky', 'innocence', 'and', 'bright', 'blue', 'eyes', 'thin', 'and', 'somewhat', 'frail', 'looking', 'yet', 'possessing', 'a', 'steely', 'core', 'that', 'we', 'will', 'come', 'to', 'realize', 'is', 'offthecharts', 'This', 'is', 'a', 'targeter', 'and', 'subjectmatter', 'expert', 'on', 'her', 'first', 'overseas', 'assignment', 'to', 'the', 'guard', 'Are', 'we', 'gonna', 'board', 'up', 'these', 'windows', 'or', 'what', 'Just', 'off', 'the', 'plane', 'from', 'Washington', 'youre', 'rocking', 'your', 'best', 'suit', 'for', 'your', 'first', 'interrogation', 'and', 'then', 'you', 'get', 'this', 'guy', 'Its', 'not', 'always', 'this', 'intense', 'Im', 'fine', 'Shes', 'not', 'Just', 'so', 'you', 'know', 'its', 'going', 'to', 'take', 'awhile', 'He', 'has', 'to', 'learn', 'how', 'helpless', 'he', 'is', 'Lets', 'get', 'a', 'coffee', 'No', 'we', 'should', 'go', 'back', 'in', 'Something', 'about', 'the', 'strange', 'intensity', 'of', 'her', 'expression', 'makes', 'reconsider', 'and', 'he', 'turns', 'back', 'to', 'the', 'interrogation', 'room', 'You', 'know', 'theres', 'no', 'shame', 'if', 'you', 'wanna', 'watch', 'from', 'the', 'monitor', 'She', 'shakes', 'her', 'head', 'Alright', 'At', 'the', 'door', 'hands', 'the', 'ski', 'mask', 'back', 'to', 'Maya', 'You', 'might', 'want', 'to', 'put', 'this', 'on', '3', 'Youre', 'not', 'wearing', 'one', 'Is', 'he', 'ever', 'getting', 'out', 'Never', 'INTERROGATION', 'LOCATION', 'Ammar', 'bruised', 'from', 'the', 'beating', 'is', 'restrained', 'with', 'ropes', 'Maya', 'stands', 'a', 'few', 'feet', 'behind', 'attentive', 'wary', 'of', 'what', 'is', 'to', 'come', 'This', 'is', 'her', 'first', 'interrogation', 'and', 'she', 'is', 'on', 'the', 'verge', 'of', 'vomiting', 'from', 'the', 'stench', 'in', 'the', 'room', 'She', 'looks', 'around', 'at', 'the', 'soundproofed', 'walls', 'the', 'puddles', 'of', 'water', 'on', 'the', 'floor', 'Right', 'now', 'this', 'is', 'about', 'you', 'coming', 'to', 'terms', 'with', 'your', 'situation', 'Its', 'you', 'and', 'me', 'bro', 'want', 'you', 'to', 'understand', 'that', 'know', 'you', 'that', 'Ive', 'been', 'studying', 'you', 'for', 'a', 'very', 'long', 'time', 'could', 'have', 'had', 'you', 'killed', 'Karachi', 'But', 'let', 'you', 'live', 'so', 'you', 'and', 'could', 'talk', 'RESISTANT', 'You', 'beat', 'me', 'when', 'my', 'hands', 'are', 'tied', 'wont', 'talk', 'to', 'you', 'Life', 'isnt', 'always', 'fair', 'my', 'friend', 'Did', 'you', 'really', 'think', 'that', 'when', 'we', 'got', 'you', 'Id', 'be', 'a', 'nice', 'fucking', 'guy', 'Youre', 'a', 'midlevel', 'guy', 'Youre', 'a', 'garbage', 'man', 'in', 'a', 'corporation', 'Why', 'should', 'respect', 'you', 'And', 'youre', 'a', 'money', 'man', 'paperboy', 'paces', 'around', 'Ammar', 'anger', 'rising', 'disgrace', 'to', 'humanity', '4', 'You', 'and', 'your', 'uncle', 'murdered', 'three', 'thousand', 'innocent', 'people', 'have', 'your', 'name', 'on', 'a', 'fivethousand', 'dollar', 'transfer', 'via', 'Western', 'Union', 'to', 'a', '911', 'hijacker', 'He', 'leans', 'into', 'Ammars', 'ear', 'Uncomfortably', 'close', 'And', 'you', 'got', 'popped', 'with', '150', 'kilograms', 'of', 'high', 'explosives', 'in', 'your', 'house', 'THEN', 'DARE', 'ME', 'And', 'then', 'smiles', 'laughs', 'Mercurial', 'Im', 'just', 'fucking', 'with', 'you', 'Beat', 'He', 'laughs', 'again', 'CONTD', 'dont', 'want', 'to', 'talk', 'about', '911', 'What', 'want', 'to', 'focus', 'on', 'is', 'the', 'Saudi', 'group', 'shows', 'him', 'a', 'photo', 'CONTD', 'That', 'there', 'is', 'Hazem', 'alKashmiri', 'And', 'know', 'this', 'dude', 'is', 'up', 'to', 'some', 'serious', 'shit', 'and', 'what', 'want', 'from', 'you', 'is', 'his', 'Saudi', 'email', 'Feel', 'free', 'to', 'jump', 'in', 'Ammar', 'bro', 'know', 'that', 'you', 'know', 'this', 'dude', 'just', 'give', 'me', 'his', 'emailand', 'will', 'give', 'you', 'a', 'blanket', 'will', 'give', 'you', 'a', 'blanket', 'and', 'some', 'solid', 'food', 'No', 'response', 'from', 'Ammar', 'starts', 'putting', 'on', 'his', 'gloves', 'CONTD', 'know', 'that', 'you', 'know', 'him', 'told', 'you', 'before', 'wont', 'talk', 'to', 'you', 'Have', 'it', 'your', 'way', '5', 'CONTD', 'to', 'the', 'masks', 'Lets', 'go', 'It', 'all', 'happens', 'in', 'a', 'flash', 'in', 'one', 'swift', 'motion', 'pushes', 'Ammar', 'to', 'the', 'floor', 'the', 'guards', 'pin', 'his', 'limbs', 'and', 'smothers', 'Ammars', 'face', 'with', 'a', 'towel', 'Ammar', 'thrashes', 'considers', 'his', 'next', 'move', 'CONTD', 'Grab', 'the', 'bucket', 'Maya', 'follows', 'Daniels', 'gesture', 'to', 'the', 'corner', 'of', 'the', 'room', 'where', 'theres', 'an', 'CHEST', 'filled', 'with', 'and', 'a', 'PITCHER', 'CONTD', 'Put', 'some', 'water', 'in', 'it', 'She', 'dips', 'the', 'pitcher', 'in', 'the', 'water', 'hands', 'shaking', 'CONTD', 'Cmon', 'lets', 'go', 'The', 'stress', 'and', 'strain', 'on', 'her', 'face', 'is', 'enormous', 'as', 'she', 'brings', 'the', 'bucket', 'back', 'to', 'starts', 'pouring', 'the', 'water', 'on', 'Ammars', 'face', 'which', 'is', 'now', 'covered', 'by', 'a', 'towel', 'Ammar', 'thrashes', 'with', 'rising', 'panic', 'CONTD', 'Hazem', 'was', 'a', 'friend', 'of', 'Ramzi', 'Yousef', 'you', 'guys', 'met', 'in', 'Tunisia', 'back', 'in', 'the', '70s', 'gasping', 'for', 'breath', 'dont', 'know', 'you', 'asshole', 'Maya', 'shakes', 'her', 'head', 'no', 'Thats', 'not', 'credible', 'SCREAMING', 'Why', 'are', 'you', 'doing', 'this', 'to', 'me', 'Youre', 'a', 'terrorist', 'thats', 'why', 'Im', 'doing', 'it', 'to', 'you', '6', 'Fuck', 'you', 'pours', 'water', 'over', 'the', 'towel', 'so', 'it', 'hits', 'Ammars', 'nose', 'want', 'emails', 'of', 'the', 'rest', 'of', 'the', 'Saudi', 'group', 'Give', 'me', 'emails', 'of', 'the', 'rest', 'of', 'the', 'Saudi', 'group', 'Give', 'me', 'one', 'email', 'and', 'will', 'stop', 'this', 'Ammar', 'doesnt', 'speak', 'He', 'cant', 'CONTD', 'Whos', 'in', 'the', 'Saudi', 'group', 'and', 'whats', 'the', 'target', 'Where', 'was', 'the', 'last', 'time', 'you', 'saw', 'bin', 'Laden', 'WAS', 'LAST', 'YOU', 'BIN', 'throws', 'the', 'pitcher', 'rips', 'the', 'rag', 'off', 'Ammars', 'mouth', 'and', 'water', 'spurts', 'out', 'Ammar', 'nearly', 'drowned', 'He', 'gasps', 'for', 'air', 'CONTD', 'This', 'is', 'what', 'defeat', 'looks', 'like', 'bro', 'Your', 'jihad', 'is', 'over', 'stands', 'CONTD', 'Get', 'him', 'up', 'The', 'guards', 'bring', 'Ammar', 'to', 'his', 'feet', 'shifting', 'his', 'persona', 'yet', 'again', 'touches', 'Ammars', 'face', 'and', 'speaks', 'to', 'him', 'with', 'the', 'comforting', 'tenor', 'of', 'a', 'therapist', 'CONTD', 'Try', 'to', 'understand', 'the', 'concept', 'here', 'have', 'time', 'you', 'dont', 'have', 'other', 'things', 'to', 'do', 'you', 'dont', 'Its', 'cool', 'that', 'youre', 'strong', 'respect', 'it', 'do', 'But', 'in', 'the', 'end', 'everybody', 'breaks', 'bro', 'Its', 'biology', 'Dan', 'and', 'Maya', 'exit', 'Theyve', 'learned', 'nothing', '7', 'colorful', 'dusty', 'city', 'Busy', 'markets', 'Poor', 'children', 'Dense', 'traffic', 'Meanwhile', 'across', 'town', 'DIPLOMATIC', 'National', 'flags', 'Imposing', 'buildings', 'Armed', 'guards', 'The', 'outpost', 'of', 'a', 'superpower', 'Maya', 'drives', 'through', 'the', 'checkpoint', 'and', 'up', 'to', 'the', 'main', 'gate', 'UNITED', 'Descending', 'the', 'lobby', 'staircase', 'with', 'is', 'Chief', 'of', 'Station', 'Pakistan', 'a', 'smooth', 'vain', 'sophisticated', 'former', 'case', 'officer', 'who', 'hasnt', 'quite', 'buffed', 'all', 'the', 'blood', 'out', 'of', 'his', 'fingernails', 'How', 'did', 'it', 'go', 'the', 'other', 'night', 'It', 'was', 'good', 'The', 'local', 'cops', 'need', 'tactical', 'help', 'But', 'hes', 'Tier', 'fucking', 'One', 'baby', 'Theres', 'your', 'money', 'maker', 'This', 'is', 'the', 'guy', 'thats', 'KSMs', 'nephew', 'Whats', 'his', 'issue', 'Hes', 'being', 'a', 'dick', 'If', 'hes', 'trying', 'to', 'outsmart', 'you', 'tell', 'him', 'about', 'your', 'PhD', 'am', 'going', 'to', 'have', 'to', 'turn', 'up', 'the', 'heat', 'He', 'needs', 'to', 'give', 'us', 'the', 'Saudi', 'group', 'now', 'They', 'reach', 'the', 'lobby', 'where', 'they', 'can', 'see', 'Maya', 'sitting', 'in', 'the', 'holding', 'area', 'They', 'walk', 'towards', 'her', 'as', 'considers', 'what', 'is', 'asking', 'for', '8', 'STAIRCASELOBBY', 'Hes', 'gotta', 'have', 'that', 'given', 'the', 'family', 'ties', 'Permission', 'granted', 'reassures', 'his', 'boss', 'Tight', 'with', 'his', 'uncle', 'prints', 'all', 'over', 'the', '911', 'money', 'knocks', 'on', 'the', 'glass', 'for', 'Maya', 'to', 'come', 'in', 'CONTD', 'to', 'clocking', 'her', 'good', 'looks', 'Was', 'lying', 'or', 'what', 'The', 'guard', 'opens', 'the', 'door', 'and', 'Maya', 'comes', 'through', 'not', 'many', 'females', 'come', 'through', 'that', 'door', 'CONTD', 'Maya', 'this', 'is', 'Joseph', 'our', 'illustrious', 'station', 'chief', 'as', 'they', 'shake', 'hands', 'and', 'did', 'Iraq', 'together', 'And', 'we', 'continue', 'our', 'Christian', 'mission', 'here', 'Nice', 'to', 'meet', 'you', 'You', 'too', 'Sir', 'How', 'was', 'your', 'flight', 'They', 'walk', 'down', 'the', 'lobby', 'towards', 'the', 'Secure', 'Wing', 'Fine', 'Shes', 'been', 'having', 'a', 'great', 'time', 'ever', 'since', 'she', 'got', 'in', 'isnt', 'that', 'right', 'How', 'do', 'you', 'like', 'Pakistan', 'so', 'far', 'Its', 'kinda', 'fucked', 'up', '9', 'You', 'volunteered', 'for', 'this', 'didnt', 'you', 'No', 'smiles', 'He', 'knew', 'she', 'didnt', 'volunteer', 'They', 'reach', 'a', 'secure', 'area', 'and', 'checks', 'Maya', 'through', 'an', 'electronic', 'door', 'Third', 'floor', 'northeast', 'corner', 'She', 'goes', 'through', 'and', 'and', 'watch', 'her', 'walk', 'away', 'Dont', 'you', 'think', 'shes', 'a', 'little', 'young', 'for', 'the', 'hard', 'stuff', 'Washington', 'says', 'shes', 'a', 'killer', 'The', 'childrens', 'crusade', 'They', 'want', 'the', 'next', 'generation', 'on', 'the', 'field', 'Listen', 'have', 'a', 'meeting', 'with', 'in', 'twenty', 'minutes', 'Theyre', 'slow', 'rolling', 'us', 'in', 'Lahore', 'you', 'might', 'want', 'to', 'bitch', 'about', 'that', 'Did', 'you', 'see', 'the', 'cable', 'from', 'London', 'Dude', 'Ive', 'been', 'in', 'a', 'dark', 'room', 'with', 'another', 'man', 'for', 'the', 'last', 'two', 'days', 'Maya', 'finds', 'her', 'desk', 'Its', 'covered', 'with', 'grime', 'She', 'tries', 'to', 'clean', 'it', 'as', 'best', 'she', 'can', 'then', 'sits', 'and', 'looks', 'at', 'the', 'blank', 'login', 'screen', 'of', 'her', 'computer', 'AMERICAN', 'CONFERENCE', 'group', 'of', 'thirtysomethings', 'filing', 'in', 'for', 'a', 'meeting', 'chatting', 'comradery', 'taking', 'seats', 'around', 'a', 'conference', 'table', '10', 'We', 'will', 'get', 'to', 'know', 'mid40s', 'a', 'scruffy', 'teddy', 'bear', 'the', 'liaison', 'from', 'the', 'National', 'Security', 'Agency', '30s', 'an', 'experienced', 'targeter', 'and', 'the', 'only', 'woman', 'in', 'the', 'station', 'who', 'wears', 'a', 'skirt', 'Some', 'dude', 'tells', 'the', 'Malaysian', 'station', 'that', 'his', 'nephew', 'works', 'with', 'a', 'guy', 'who', 'knows', 'a', 'guy', 'Here', 'we', 'go', 'Hold', 'on', 'He', 'goes', 'to', 'a', 'big', 'feast', 'in', 'Bangkok', 'about', 'a', 'year', 'ago', 'The', 'guest', 'of', 'honor', 'Usama', 'bin', 'Laden', 'Laughter', 'in', 'the', 'room', 'CONTD', 'So', 'say', 'was', 'Tupac', 'there', 'too', 'Right', 'but', 'you', 'forgot', 'you', 'forgot', 'Mullah', 'Omar', 'and', 'two', 'case', 'officers', 'continue', 'the', 'banter', 'SARCASTICALLY', 'This', 'is', 'worth', '5', 'million', 'bucks', 'You', 'know', 'were', 'going', 'to', 'have', 'to', 'chase', 'it', 'down', 'Thats', 'me', 'man', 'No', 'job', 'too', 'small', 'Thats', 'why', 'have', 'a', 'gift', 'for', 'you', 'my', 'friend', 'Jack', 'hands', 'Jeremy', 'a', 'piece', 'of', 'paper', 'and', 'Maya', 'enter', 'a', 'little', 'late', 'Everyone', 'this', 'is', 'Maya', 'Maya', 'everyone', '11', 'CONTD', 'Please', 'dont', 'ask', 'how', 'its', 'going', 'with', 'Ammar', 'because', 'shes', 'not', 'going', 'to', 'fucking', 'tell', 'you', 'Ammar', 'is', 'withholding', 'nods', 'CONTD', 'reading', 'from', 'her', 'Washington', 'assesses', 'that', 'Abu', 'Faraj', 'is', 'officially', 'our', 'new', 'number', 'three', 'moves', 'to', 'a', 'wall', 'chart', 'of', 'leadership', 'and', 'repositions', 'Abu', 'Farajs', 'mugshot', 'to', 'number', 'three', 'in', 'the', 'line', 'two', 'down', 'from', 'Usama', 'bin', 'Laden', 'Meanwhile', 'in', 'the', 'background', 'the', 'riffs', 'continue', 'Best', 'man', 'for', 'it', 'London', 'station', 'is', 'already', 'asking', 'if', 'we', 'think', 'hes', 'in', 'contact', 'with', 'anyone', 'in', 'the', 'Like', 'were', 'just', 'keeping', 'it', 'from', 'them', 'Jessica', 'sits', 'back', 'down', 'and', 'gets', 'down', 'to', 'business', 'The', 'Jordanians', 'are', 'being', 'really', 'helpful', 'with', 'Ammars', 'transit', 'papers', 'Jessica', 'passes', 'a', 'file', 'Any', 'imminent', 'threats', 'in', 'here', 'They', 'want', 'the', 'Consulate', 'the', 'Marriott', 'its', 'low', 'security', 'And', 'theyve', 'got', 'Majid', 'Kahn', 'talking', 'about', 'gas', 'stations', 'in', 'the', 'And', 'thats', 'a', 'conversation', 'Jessica', 'shrugs', 'At', 'this', 'point', 'she', 'believes', 'that', 'it', 'is', 'merely', 'a', 'conversation', 'not', 'a', 'fully', 'realized', 'plot', '12', 'Honestly', 'There', 'are', 'six', 'hundred', 'questions', 'in', 'there', 'Id', 'concentrate', 'on', 'Heathrow', 'The', 'Saudis', 'Does', 'it', 'matter', 'what', 'Faraj', 'thinks', 'about', 'Heathrow', 'How', 'much', 'latitude', 'does', 'he', 'get', 'to', 'pick', 'targets', 'think', 'hell', 'give', 'up', 'the', 'Saudis', 'But', 'Heathrow', 'is', 'gonna', 'be', 'tough', 'Anyway', 'Anything', 'from', 'last', 'night', 'Quetta', 'base', 'thinks', 'they', 'have', 'a', 'bead', 'on', 'the', 'Arabs', 'that', 'escaped', 'and', 'theyre', 'going', 'to', 'meet', 'with', 'the', 'this', 'afternoon', 'hopefully', 'to', 'set', 'up', 'a', 'raid', 'down', 'there', 'Great', 'And', 'Lahore', 'reporting', 'down', 'there', 'was', 'painfully', 'slow', 'last', 'night', 'Again', 'Im', 'beginning', 'to', 'think', 'its', 'not', 'incompetence', 'agree', 'spoke', 'to', 'the', 'Chief', 'about', 'that', 'Anything', 'on', 'bin', 'Laden', 'reading', 'from', 'a', 'cable', 'farmer', 'on', 'the', 'Afghan', 'border', 'near', 'Tora', 'Bora', 'reports', 'a', 'diamond', 'shaped', 'pattern', 'in', 'the', 'hills', 'tall', 'male', 'in', 'the', 'center', 'of', 'the', 'diamond', 'flanked', 'by', 'four', 'guards', 'Its', 'consistent', 'with', 'UBLs', 'movements', 'Thats', 'supposed', 'to', 'be', 'his', 'royal', 'guard', 'Thats', 'pre911', 'behavior', 'Jessica', 'doesnt', 'appreciate', 'the', 'challenge', 'CHILLY', 'We', 'dont', 'have', 'reason', 'to', 'believe', 'hes', 'changed', 'security', 'tactics', '13', 'We', 'invaded', 'Afghanistan', 'Thats', 'a', 'reason', 'And', 'so', 'the', 'rivalry', 'begins', 'Hey', 'boss', 'got', 'a', 'guy', 'for', 'five', 'thousand', 'bucks', 'he', 'can', 'set', 'up', 'a', 'taxi', 'stand', 'and', 'snoop', 'around', 'a', 'bit', 'No', 'dont', 'need', 'him', 'the', 'diamond', 'sighting', 'is', 'bullshit', 'See', 'if', 'the', 'Paks', 'will', 'send', 'someone', 'to', 'talk', 'to', 'the', 'farmer', 'Anything', 'else', 'We', 'need', 'to', 'be', 'putting', 'runs', 'on', 'the', 'board', 'against', 'Faraj', 'Speak', 'to', 'the', 'case', 'officers', 'who', 'didnt', 'see', 'fit', 'to', 'make', 'it', 'today', 'And', 'thank', 'them', 'MAYAS', 'ISLAMABAD', 'The', 'loud', 'of', 'the', 'early', 'morning', 'call', 'to', 'prayer', 'from', 'the', 'loudspeakers', 'of', 'a', 'nearby', 'mosque', 'wakes', 'Maya', 'on', 'the', 'couch', 'AFTERNOON', 'and', 'the', 'guards', 'enter', 'Ammars', 'cell', 'with', 'Maya', 'switches', 'on', 'a', 'floodlight', 'awakening', 'Ammar', 'Lets', 'take', 'it', 'easy', 'today', 'huh', 'hands', 'Ammar', 'a', 'bottle', 'of', 'orange', 'juice', 'and', 'a', 'bag', 'of', 'falafel', 'CONTD', 'Hungry', 'The', 'food', 'in', 'here', 'sucks', 'so', 'got', 'you', 'some', 'of', 'this', 'Ammar', 'grabs', 'the', 'lunch', 'sack', 'and', 'scarfs', 'down', 'the', 'falafels', 'CONTD', 'Reid', 'wow', 'was', 'thinking', 'about', 'him', 'The', 'guy', 'gets', 'a', 'bomb', 'in', 'his', 'shoe', 'on', 'a', 'plane', 'Unbelievable', 'You', 'know', 'him', 'dont', 'you', 'Slowly', 'Ammar', 'nods', '14', 'Yes', 'Im', 'glad', 'you', 'said', 'that', 'have', 'an', 'email', 'from', 'you', 'to', 'him', 'Ive', 'had', 'all', 'your', 'coms', 'for', 'years', 'bro', 'Who', 'else', 'is', 'in', 'your', 'Saudi', 'group', 'just', 'handed', 'out', 'some', 'cash', 'for', 'them', 'didnt', 'know', 'who', 'the', 'guys', 'were', 'When', 'you', 'lie', 'to', 'me', 'hurt', 'you', 'Please', 'believe', 'you', 'do', 'believe', 'you', 'Beat', 'CONTD', 'Do', 'you', 'want', 'the', 'water', 'again', 'or', 'do', 'you', 'want', 'something', 'else', 'Please', 'Just', 'give', 'me', 'a', 'name', 'jumps', 'up', 'CONTD', 'dont', 'know', 'kicks', 'out', 'the', 'chair', 'from', 'under', 'Ammar', 'The', 'masked', 'guards', 'walk', 'to', 'the', 'rope', 'pulleys', 'You', 'see', 'how', 'this', 'works', 'You', 'dont', 'mind', 'if', 'my', 'female', 'colleague', 'sees', 'your', 'junk', 'do', 'you', 'pulls', 'down', 'Ammars', 'pants', 'Maya', 'flinches', 'at', 'the', 'bare', 'nakedness', 'CONTD', 'Dude', 'you', 'shit', 'your', 'pants', '15', 'turns', 'to', 'Maya', 'CONTD', 'You', 'stay', 'here', 'Ill', 'be', 'back', 'goes', 'out', 'leaving', 'Maya', 'standing', 'alone', 'in', 'front', 'of', 'the', 'naked', 'chained', 'man', 'Ammar', 'looks', 'at', 'her', 'imploringly', 'and', 'she', 'struggles', 'to', 'meet', 'his', 'eyes', 'Your', 'friend', 'is', 'an', 'animal', 'Please', 'help', 'me', 'Please', 'long', 'beat', 'You', 'can', 'help', 'yourself', 'by', 'being', 'truthful', 'The', 'door', 'handle', 'turns', 'It', 'occurs', 'to', 'Maya', 'that', 'perhaps', 'was', 'testing', 'her', 'resilience', 'too', 'as', 'reenters', 'with', 'a', 'COLLAR', 'in', 'his', 'hand', 'This', 'is', 'a', 'dog', 'collar', 'unhooks', 'Ammar', 'snaps', 'the', 'collar', 'and', 'leash', 'around', 'his', 'neck', 'as', 'Ammar', 'cries', 'out', 'against', 'the', 'humiliation', 'Maya', 'flinches', 'is', 'relentless', 'CONTD', 'You', 'determine', 'how', 'treat', 'you', 'Now', 'drags', 'Ammar', 'on', 'all', 'fours', 'pulling', 'him', 'by', 'the', 'leash', 'CONTD', 'Im', 'going', 'to', 'walk', 'you', 'Maya', 'watches', 'in', 'horror', 'as', 'walks', 'Ammar', 'to', 'a', 'far', 'corner', 'of', 'the', 'room', 'then', 'leans', 'down', 'to', 'address', 'his', 'victim', 'CONTD', 'What', 'the', 'fuck', 'do', 'you', 'think', 'is', 'going', 'on', 'Ammar', 'Wahleed', 'has', 'already', 'told', 'me', 'that', 'you', 'know', 'At', 'last', 'reaches', 'an', 'area', 'of', 'the', 'room', 'where', 'there', 'is', 'a', 'large', 'wooden', 'box', 'resting', 'on', 'a', 'platform', '16', 'CONTD', 'This', 'box', 'sucks', 'Im', 'going', 'to', 'put', 'you', 'in', 'it', 'Ammar', 'tries', 'to', 'speak', 'but', 'cant', 'get', 'a', 'word', 'out', 'CONTD', 'When', 'is', 'the', 'attack', 'VERY', 'Sunday', 'Sunday', 'Sunday', 'where', 'This', 'Sunday', 'or', 'next', 'Sunday', 'Ammar', 'mumbles', 'almost', 'inaudibly', 'Monday', 'Is', 'it', 'Sunday', 'or', 'Monday', 'Ammar', 'doesnt', 'answer', 'The', 'masked', 'men', 'approach', 'CONTD', 'Which', 'day', 'is', 'it', 'Partial', 'information', 'is', 'treated', 'as', 'a', 'lie', 'Saturday', 'Beat', 'The', 'masked', 'men', 'open', 'the', 'box', 'CONTD', 'Sunday', 'The', 'guards', 'grab', 'Ammar', 'and', 'carry', 'him', 'to', 'his', 'wooden', 'tomb', 'He', 'shouts', 'with', 'his', 'last', 'reserve', 'of', 'energy', 'CONTD', 'Monday', 'Ammar', 'which', 'day', 'MUMBLING', 'Monday', 'Tuesday', 'Beat', '17', 'CONTD', 'Thursday', 'Beat', 'CONTD', 'Friday', 'slams', 'the', 'box', 'shut', 'Once', 'again', 'hes', 'learned', 'nothing', 'SAUDI', 'a', 'magazine', 'into', 'the', 'receiver', 'of', 'a', 'black', 'assault', 'rifle', 'The', 'weapon', 'carried', 'by', 'a', 'ARAB', 'dressed', 'in', 'street', 'clothes', 'rises', 'to', 'shoulder', 'height', 'KHOBAR', 'The', 'man', 'enters', 'the', 'hallway', 'of', 'the', 'KHOBAR', 'RESIDENTIAL', 'And', 'immediately', 'opens', 'fire', 'on', 'WESTERN', 'he', 'happens', 'to', 'find', 'inside', 'killing', 'them', 'both', '29', '2004', 'The', 'of', 'the', 'shots', 'sends', 'the', 'rest', 'of', 'the', 'residents', 'into', 'a', 'panicky', 'screaming', 'dash', 'for', 'cover', 'As', 'he', 'strides', 'quickly', 'down', 'the', 'hall', 'he', 'finds', 'three', 'other', 'scrambling', 'for', 'safety', 'and', 'shoots', 'and', 'kills', 'them', 'all', 'AMERICAN', 'CONFERENCE', 'news', 'footage', 'of', 'the', 'massacre', 'Jessica', 'and', 'Maya', 'look', 'on', 'in', 'defeat', 'The', 'Saudi', 'attack', 'they', 'tried', 'to', 'prevent', 'by', 'pressuring', 'Ammar', 'has', 'occurred', 'Dont', 'worry', 'about', 'the', 'Saudis', 'theyll', 'take', 'care', 'of', 'business', 'Yeah', 'now', '18', 'You', 'warned', 'them', 'they', 'didnt', 'take', 'you', 'seriously', 'this', 'is', 'what', 'happens', 'Its', 'not', 'on', 'you', 'Who', 'said', 'that', 'Zied', 'Fuck', 'him', 'This', 'is', 'on', 'me', 'Ammar', 'is', 'on', 'me', 'And', 'its', 'on', 'her', 'pointing', 'to', 'Maya', 'We', 'cant', 'let', 'this', 'be', 'a', 'winwin', 'for', 'No', 'no', 'no', 'You', 'had', 'what', 'days', 'brief', 'custody', 'and', 'an', 'unresponsive', 'ally', 'The', 'way', 'you', 'do', 'this', 'is', 'you', 'look', 'ahead', 'London', 'Heathrow', 'Mass', 'casualties', 'That', 'plan', 'is', 'still', 'active', 'Ammar', 'doesnt', 'have', 'a', 'clue', 'about', 'what', 'happened', 'He', 'knows', 'How', 'You', 'have', 'to', 'be', 'really', 'careful', 'with', 'people', 'in', 'KSMs', 'circle', 'theyre', 'devious', 'Hes', 'not', 'going', 'to', 'talk', 'about', 'attacks', 'on', 'the', 'homeland', 'Hes', 'going', 'to', 'withhold', 'operational', 'details', 'on', 'the', 'network', 'and', 'probably', 'on', 'bin', 'Laden', 'flipping', 'her', 'argument', 'But', 'hes', 'been', 'in', 'complete', 'isolation', 'he', 'doesnt', 'know', 'we', 'failed', 'We', 'can', 'tell', 'him', 'anything', 'Bluff', 'him', 'He', 'hasnt', 'slept', 'Dan', 'Hes', 'clueless', '19', 'AFTERNOON', 'PRELAP', 'You', 'dont', 'remember', 'do', 'you', 'You', 'me', 'same', 'same', 'Bad', 'memory', 'While', 'move', 'in', 'the', 'deep', 'bg', 'and', 'Maya', 'are', 'seated', 'at', 'a', 'picnic', 'table', 'with', 'an', 'appetizing', 'spread', 'of', 'food', 'PRELAP', 'CONTD', 'Short', 'term', 'memory', 'loss', 'is', 'a', 'side', 'effect', 'of', 'sleep', 'deprivation', 'It', 'should', 'come', 'back', 'to', 'you', 'The', 'Guards', 'bring', 'a', 'prisoner', 'to', 'the', 'table', 'and', 'remove', 'his', 'hood', 'Ammar', 'He', 'stares', 'weakly', 'at', 'the', 'table', 'CAREFULLY', 'dont', 'know', 'How', 'can', 'remember', 'After', 'we', 'kept', 'you', 'awake', 'for', '96', 'hours', 'you', 'gave', 'us', 'names', 'of', 'some', 'of', 'your', 'brothers', 'and', 'saved', 'the', 'lives', 'of', 'a', 'lot', 'of', 'innocent', 'people', 'Which', 'is', 'the', 'smart', 'thing', 'to', 'do', 'youre', 'starting', 'to', 'think', 'for', 'yourself', 'Ammar', 'is', 'lost', 'But', 'the', 'food', 'is', 'tempting', 'CONTD', 'Eat', 'up', 'You', 'earned', 'it', 'Ammar', 'eats', 'CONTD', 'So', 'you', 'flew', 'via', 'Amman', 'to', 'Kabul', 'to', 'hang', 'out', 'with', 'your', 'uncle', 'Mukhtar', 'How', 'did', 'you', 'know', 'that', 'told', 'you', 'man', 'know', 'you', 'Alright', 'you', 'got', 'me', 'flight', 'manifests', 'It', 'mustve', 'been', 'pretty', 'fucked', 'up', 'for', 'you', 'guys', 'after', '911', 'What', 'did', 'you', 'do', 'after', 'the', 'invasion', 'and', 'before', 'you', 'went', 'back', 'to', 'Pesh', '20', 'After', '911', 'had', 'to', 'choose', 'fight', 'to', 'protect', 'our', 'turf', 'or', 'run', 'SYMPATHETIC', 'You', 'chose', 'to', 'fight', 'Ammar', 'looks', 'right', 'in', 'the', 'eyes', 'wanted', 'to', 'kill', 'Americans', 'We', 'tried', 'to', 'get', 'into', 'Tora', 'Bora', 'but', 'the', 'bombing', 'was', 'too', 'high', 'We', 'couldnt', 'cross', 'who', 'is', 'the', 'we', 'in', 'that', 'sentence', 'Me', 'and', 'some', 'guys', 'who', 'were', 'hanging', 'around', 'at', 'that', 'time', 'CASUALLY', 'can', 'eat', 'with', 'some', 'other', 'dude', 'and', 'hook', 'you', 'back', 'up', 'to', 'the', 'ceiling', 'Hamza', 'Rabia', 'Khabab', 'alMasri', 'and', 'Abu', 'Ahmed', 'Maya', 'makes', 'notes', 'on', 'her', 'pad', 'Whos', 'Abu', 'Ahmed', 'Ive', 'heard', 'of', 'the', 'other', 'guys', 'He', 'was', 'a', 'computer', 'guy', 'with', 'us', 'at', 'the', 'time', 'After', 'Tora', 'Bora', 'went', 'back', 'to', 'Pesh', 'as', 'you', 'know', 'and', 'he', 'went', 'North', 'think', 'to', 'Kunar', 'Whats', 'his', 'family', 'name', 'Abu', 'Ahmed', 'alKuwaiti', 'Abu', 'Ahmed', 'means', 'father', 'of', 'Ahmed', 'its', 'a', 'kunya', '21', 'CONTD', 'Ammar', 'know', 'the', 'difference', 'between', 'a', 'war', 'name', 'and', 'an', 'name', 'She', 'got', 'you', 'there', 'dude', 'swear', 'to', 'you', 'both', 'dont', 'know', 'his', 'family', 'name', 'would', 'have', 'never', 'asked', 'him', 'something', 'like', 'that', 'Its', 'not', 'how', 'my', 'uncle', 'worked', 'My', 'uncle', 'told', 'me', 'he', 'worked', 'for', 'bin', 'Laden', 'did', 'see', 'him', 'once', 'about', 'a', 'year', 'ago', 'in', 'Karachi', 'He', 'read', 'us', 'all', 'a', 'letter', 'from', 'the', 'Sheikh', 'letter', 'What', 'did', 'it', 'say', 'offers', 'Ammar', 'a', 'smoke', 'CONTD', 'Cigarette', 'Ammar', 'accepts', 'Daniels', 'lights', 'it', 'It', 'said', 'Continue', 'the', 'jihad', 'The', 'work', 'will', 'go', 'on', 'for', 'a', 'hundred', 'years', 'AMERICAN', 'RESEARCH', 'We', 'fade', 'into', 'a', 'dimly', 'lit', 'research', 'room', 'where', 'Maya', 'is', 'alone', 'watching', 'interrogation', 'video', 'recordings', 'on', 'an', 'array', 'of', 'monitors', 'Some', 'of', 'the', 'videos', 'are', 'rough', 'but', 'most', 'simply', 'depict', 'two', 'people', 'talking', 'The', 'video', 'shes', 'watching', 'now', 'shows', 'a', 'hooded', 'prisoner', 'sitting', 'in', 'a', 'filthy', 'room', 'the', 'walls', 'smeared', 'with', 'red', 'stains', 'You', 'and', 'are', 'gonna', 'talk', 'about', 'some', 'of', 'the', 'guys', 'in', 'the', 'training', 'camps', 'yeah', 'The', 'prisoner', 'sits', 'in', 'a', 'chair', 'Hes', 'hooded', 'but', 'relaxed', '22', 'Ok', 'Some', 'of', 'these', 'brothers', 'have', 'done', 'some', 'bad', 'things', 'and', 'what', 'want', 'to', 'do', 'is', 'want', 'to', 'separate', 'them', 'from', 'the', 'people', 'like', 'you', 'Definitely', 'yeah', 'There', 'was', 'a', 'guy', 'called', 'Abu', 'Ahmed', 'from', 'Kuwait', 'Yes', 'remember', 'him', 'nice', 'guy', 'How', 'close', 'was', 'he', 'What', 'was', 'his', 'relationship', 'to', 'the', 'leadership', 'dont', 'know', 'Did', 'he', 'eat', 'with', 'you', 'guys', 'did', 'he', 'eat', 'with', 'the', 'good', 'guys', 'or', 'did', 'he', 'eat', 'with', 'the', 'leadership', 'dont', 'know', 'sir', 'have', 'no', 'idea', 'about', 'things', 'like', 'that', 'Yes', 'you', 'do', 'you', 'dont', 'need', 'an', 'idea', 'THINGS', 'Maya', 'hits', 'pause', 'and', 'we', 'see', 'that', 'her', 'desk', 'is', 'filled', 'with', 'open', 'windows', 'of', 'interrogations', 'she', 'is', 'analyzing', 'ten', 'videos', 'simultaneously', 'comparing', 'them', 'to', 'each', 'other', 'RESEARCH', 'MOMENTS', 'She', 'plays', 'another', 'video', 'showing', 'a', 'Turkish', 'prison', 'When', 'you', 'met', 'with', 'Khalid', 'Sheikh', 'Mohammed', 'was', 'this', 'one', 'of', 'the', 'facilitators', 'The', 'Interrogator', 'flashes', 'a', 'picture', 'The', 'prisoner', 'moans', '23', 'CONTD', 'Is', 'this', 'Abu', 'Ahmed', 'Yes', 'RESEARCH', 'She', 'fast', 'forwards', 'a', 'video', 'shot', 'in', 'a', 'Polish', 'facility', 'The', 'prisoner', 'appears', 'to', 'be', 'cold', 'your', 'boss', 'Mukhtar', 'Mukhtarpotato', 'you', 'say', 'potahto', 'say', 'fucking', 'but', 'yeah', 'Mukhtar', 'After', 'Mukhtar', 'was', 'captured', 'what', 'did', 'Abu', 'Ahmed', 'do', 'Abu', 'Ahmed', 'believe', 'he', 'went', 'to', 'work', 'for', 'The', 'Sheikh', 'RESEARCH', 'Maya', 'is', 'still', 'in', 'the', 'research', 'room', 'Shes', 'been', 'going', 'at', 'this', 'for', 'hours', 'and', 'looks', 'fatigued', 'a', 'different', 'from', 'the', 'previous', 'video', 'is', 'an', 'older', 'man', 'chained', 'to', 'a', 'desk', 'The', 'exchange', 'is', 'in', 'with', 'an', 'English', 'subtitle', 'on', 'the', 'screen', 'In', 'Karachi', 'in', '2003', 'or', '2004', 'He', 'was', 'carrying', 'a', 'letter', 'from', 'bin', 'Laden', 'RESEARCH', 'Still', 'going', 'looking', 'exhausted', 'now', 'Maya', 'manipulates', 'the', 'controls', 'of', 'yet', 'another', 'video', 'clip', 'with', 'a', 'different', 'INTERROGATOR', 'and', 'Were', 'now', 'in', 'a', 'Moroccan', 'facility', 'The', 'interrogator', 'shows', 'him', 'a', 'photograph', 'of', 'a', 'bearded', 'man', 'Henceforth', 'The', 'Photograph', '24', 'INTERROGATOR', 'Is', 'that', 'him', 'NODS', 'Abu', 'Ahmed', 'The', 'interrogator', 'holds', 'The', 'Photograph', 'right', 'in', 'front', 'of', 'the', 'prisoners', 'face', 'allowing', 'us', 'to', 'see', 'it', 'as', 'well', 'INTERROGATOR', 'Say', 'again', 'Abu', 'Ahmed', 'Abu', 'Ahmed', 'Abu', 'Ahmed', 'Freeze', 'frame', 'TO', 'RESEARCH', 'Yemeni', 'prison', 'the', 'dialogue', 'is', 'a', 'mix', 'of', 'French', 'and', 'English', 'INTERROGATOR', 'Abu', 'Ahmed', 'is', 'he', 'the', 'courier', 'for', 'bin', 'Laden', 'Who', 'knows', 'who', 'works', 'directly', 'for', 'bin', 'Laden', 'Lets', 'say', 'hes', 'part', 'of', 'the', 'mix', 'INTERROGATOR', 'Were', 'there', 'other', 'people', 'who', 'carried', 'messages', 'from', 'bin', 'Laden', 'Sure', 'INTERROGATOR', 'How', 'many', 'other', 'people', 'THINKING', 'Four', 'or', 'five', 'INTERROGATOR', 'Lets', 'talk', 'about', 'them', 'The', 'image', 'freezes', 'Maya', 'stares', 'at', 'the', 'screen', '25', 'AMERICAN', 'KITCHEN', 'Maya', 'is', 'in', 'the', 'kitchen', 'grabbing', 'something', 'to', 'eat', 'Jessica', 'the', 'only', 'other', 'person', 'working', 'this', 'late', 'walks', 'in', 'pours', 'herself', 'some', 'coffee', 'Hows', 'the', 'needle', 'in', 'the', 'haystack', 'Fine', 'Facilitators', 'come', 'and', 'go', 'but', 'one', 'thing', 'you', 'can', 'count', 'on', 'in', 'life', 'is', 'that', 'everyone', 'wants', 'money', 'The', 'rivalry', 'is', 'in', 'full', 'bloom', 'Sometimes', 'its', 'friendly', 'Sometimes', 'its', 'not', 'so', 'friendly', 'SMILING', 'Youre', 'assuming', 'that', 'Al', 'Qaeda', 'members', 'are', 'motivated', 'by', 'financial', 'rewards', 'Theyre', 'radicals', 'BIGGER', 'Correct', 'Youre', 'assuming', 'that', 'greed', 'wont', 'override', 'ideology', 'in', 'some', 'of', 'the', 'weaker', 'members', 'Money', 'for', 'walkins', 'worked', 'great', 'in', 'the', 'cold', 'war', 'Ill', 'give', 'you', 'that', 'Thank', 'you', 'Just', 'not', 'sure', 'those', 'tactics', 'are', 'applicable', 'to', 'the', 'Middle', 'East', 'TO', 'MAYAS', 'Maya', 'hastily', 'throws', 'her', 'clothes', 'and', 'a', 'wig', 'into', 'a', 'suitcase', 'the', 'worlds', 'fastest', 'packing', 'job', 'TO', '26', 'WARSAW', 'WARSAW', 'sprawling', 'shipyard', 'in', 'an', 'industrial', 'area', 'large', 'FRIGATE', 'sits', 'in', 'the', 'harbor', 'dark', 'haired', 'and', 'a', 'board', 'the', 'ship', 'TO', 'FRIGATE', 'POLAND', 'At', 'first', 'we', 'dont', 'recognize', 'the', 'woman', 'with', 'heavy', 'makeup', 'walking', 'down', 'the', 'narrow', 'corridor', 'and', 'then', 'we', 'realize', 'its', 'Maya', 'in', 'disguise', 'She', 'enters', 'a', 'vast', 'cavernous', 'hold', 'accompanied', 'by', 'a', 'middle', 'aged', 'Afghan', 'man', 'thick', 'shouldered', 'with', 'years', 'of', 'hard', 'experience', 'in', 'his', 'kind', 'somewhat', 'sad', 'eyes', 'This', 'fatherly', 'man', 'is', 'a', 'former', 'political', 'prisoner', 'in', 'Afghanistan', 'and', 'one', 'of', 'the', 'CIAs', 'most', 'important', 'assets', 'In', 'the', 'galley', 'a', 'is', 'chained', 'to', 'a', 'table', 'Hakim', 'slides', 'him', 'The', 'Photograph', 'The', 'prisoner', 'speaks', 'in', 'He', 'says', 'he', 'looks', 'like', 'Abu', 'Ahmed', 'Who', 'did', 'he', 'work', 'for', 'Hakim', 'translates', 'Then', 'the', 'prisoner', 'speaks', 'TRANSLATING', 'It', 'was', 'mostly', 'with', 'Abu', 'Faraj', 'they', 'were', 'always', 'together', 'What', 'did', 'he', 'do', 'for', 'Faraj', 'TRANSLATING', 'He', 'carried', 'messages', 'from', 'Faraj', 'to', 'bin', 'Laden', 'and', 'from', 'bin', 'Laden', 'back', 'to', 'Faraj', 'Maya', 'leans', 'into', 'Hakim', '27', 'We', 'need', 'to', 'ask', 'him', 'something', 'to', 'see', 'if', 'hes', 'telling', 'the', 'truth', 'We', 'dont', 'know', 'if', 'he', 'really', 'knew', 'Faraj', 'Hakim', 'speaks', 'to', 'the', 'prisoner', 'He', 'just', 'told', 'me', 'the', 'names', 'of', 'all', 'of', 'Farajs', 'children', 'think', 'hes', 'telling', 'the', 'truth', 'TO', 'AMERICAN', 'Maya', 'is', 'pitching', 'in', 'his', 'office', 'sits', 'with', 'his', 'feet', 'up', 'on', 'his', 'desk', 'holding', 'The', 'Photograph', 'is', 'slouched', 'on', 'the', 'couch', 'in', 'back', 'Jessica', 'is', 'perched', 'on', 'the', 'arm', 'of', 'the', 'couch', 'bare', 'legs', 'crossed', 'notices', 'Maya', 'stands', 'Twenty', 'detainees', 'recognize', 'that', 'photo', 'of', 'Abu', 'Ahmed', 'They', 'say', 'hes', 'part', 'of', 'the', 'inner', 'circle', 'of', 'guys', 'who', 'were', 'hanging', 'out', 'in', 'Afghanistan', 'pre911', 'lot', 'of', 'them', 'say', 'that', 'after', '911', 'he', 'went', 'to', 'work', 'for', 'When', 'got', 'captured', 'he', 'went', 'to', 'work', 'for', 'Abu', 'Faraj', 'primarily', 'as', 'a', 'courier', 'from', 'Faraj', 'to', 'bin', 'Laden', 'Well', 'thats', 'good', 'You', 'still', 'Yeah', 'we', 'dont', 'know', 'if', 'Abu', 'is', 'on', 'the', 'outside', 'of', 'the', 'network', 'part', 'of', 'a', 'series', 'of', 'cutouts', 'and', 'dead', 'drops', 'or', 'if', 'he', 'has', 'a', 'direct', 'connection', 'to', 'bin', 'Laden', 'Does', 'bin', 'Laden', 'invite', 'him', 'into', 'the', 'living', 'room', 'and', 'hand', 'him', 'a', 'letter', 'directly', 'Or', 'is', 'Abu', 'just', 'the', 'last', 'guy', 'in', 'a', 'long', 'line', 'of', 'couriers', 'so', 'thats', 'why', 'everybody', 'knows', 'him', '28', 'Thats', 'not', 'all', 'you', 'dont', 'know', 'You', 'dont', 'have', 'his', 'true', 'name', 'and', 'you', 'dont', 'have', 'a', 'clue', 'of', 'where', 'he', 'is', 'We', 'know', 'that', 'hes', 'important', 'The', 'fact', 'that', 'everybodys', 'heard', 'of', 'Abu', 'Ahmed', 'but', 'nobody', 'will', 'tell', 'me', 'where', 'he', 'is', 'suggests', 'that', 'Maybe', 'Detainees', 'could', 'withhold', 'his', 'location', 'for', 'any', 'number', 'of', 'reasons', 'Perhaps', 'they', 'dont', 'know', 'perhaps', 'this', 'Abu', 'is', 'just', 'a', 'cover', 'story', 'and', 'hes', 'really', 'a', 'fucking', 'unicorn', 'The', 'withholding', 'doesnt', 'reveal', 'what', 'you', 'want', 'it', 'to', 'does', 'it', 'No', 'And', 'if', 'you', 'did', 'find', 'him', 'you', 'dont', 'know', 'that', 'hed', 'be', 'with', 'bin', 'Laden', 'We', 'dont', 'know', 'what', 'we', 'dont', 'know', 'TO', 'What', 'the', 'fuck', 'is', 'that', 'supposed', 'to', 'mean', 'Its', 'a', 'tautology', 'back', 'to', 'Maya', 'Listen', 'not', 'one', 'single', 'detainee', 'has', 'said', 'that', 'hes', 'located', 'with', 'the', 'big', 'guy', 'just', 'that', 'he', 'delivers', 'messages', 'Am', 'wrong', 'No', 'No', 'Its', 'still', 'good', 'work', '29', 'CONTD', 'Let', 'me', 'know', 'when', 'youve', 'got', 'some', 'actionable', 'intelligence', 'preferably', 'something', 'that', 'leads', 'to', 'a', 'strike', 'TO', 'TAVISTOCK', 'The', 'city', 'is', 'in', 'full', 'swing', 'on', 'this', 'bright', 'midsummer', 'morning', 'and', 'roll', 'through', 'the', 'crowded', 'streets', 'DOUBLE', 'BUS', 'LONDON', 'JULY', '7', '2005', 'Passengers', 'inside', 'the', 'bus', 'read', 'newspapers', 'listen', 'to', 'music', 'another', 'ordinary', 'day', 'Then', 'the', 'bus', 'explodes', 'TO', 'File', 'footage', 'of', 'the', 'aftermath', 'This', 'is', 'what', 'remains', 'of', 'the', '10', 'bus', 'which', 'was', 'traveling', 'through', 'Tavistock', 'Square', 'AMERICAN', 'Joseph', 'sits', 'at', 'his', 'desk', 'The', 'weight', 'of', 'the', 'world', 'on', 'his', 'shoulders', 'On', 'the', 'television', 'in', 'the', 'background', 'the', 'news', 'report', 'continues', 'showing', 'disaster', 'footage', 'of', 'bloodied', 'screaming', 'TO', 'The', 'war', 'on', 'terror', 'is', 'growing', 'and', 'spreading', 'like', 'an', 'octopus', 'throughout', 'the', 'base', 'We', 'trace', 'the', 'new', 'tentacles', 'of', 'the', 'facility', 'more', 'hangars', 'vehicles', 'moving', 'to', 'and', 'fro', 'All', 'around', 'groups', 'of', 'Londoners', 'are', 'standing', 'on', 'corners', 'asking', 'themselves', '30', 'OS', 'CONTD', 'what', 'has', 'happened', 'here', 'and', 'who', 'could', 'possibly', 'have', 'done', 'this', 'We', 'find', 'trying', 'to', 'catch', 'a', 'moment', 'of', 'solitudeeating', 'an', 'ice', 'cream', 'cone', 'and', 'standing', 'in', 'front', 'of', 'a', 'makeshift', 'cage', 'filled', 'with', 'wild', 'The', 'monkeys', 'are', 'watching', 'intently', 'their', 'hands', 'gripping', 'the', 'wire', 'cage', 'playfully', 'feeds', 'them', 'some', 'of', 'his', 'ice', 'cream', 'approaches', 're', 'the', 'monkeys', 'You', 'Agency', 'guys', 'are', 'twisted', 'The', 'detainee', 'is', 'ready', 'nods', 'weary', 'Then', 'a', 'monkey', 'reaches', 'through', 'the', 'bars', 'and', 'steals', 'the', 'remainder', 'of', 'Daniels', 'ice', 'cream', 'cone', 'He', 'looks', 'at', 'the', 'monkey', 'and', 'laughs', 'TO', 'ISLAMABAD', 'YEARS', 'Rain', 'pelts', 'the', 'brown', 'city', 'turning', 'the', 'gutter', 'water', 'black', 'PRELAP', 'want', 'you', 'to', 'understand', 'that', 'know', 'you', 'have', 'been', 'following', 'you', 'and', 'studying', 'you', 'for', 'a', 'long', 'time', 'chased', 'you', 'in', 'Lahore', 'We', 'find', 'Maya', 'entering', 'the', 'gates', 'of', 'a', 'Pakistani', 'prison', 'The', 'weather', 'makes', 'the', 'place', 'seem', 'especially', 'bleak', 'MILITARY', 'ISLAMABAD', 'HASSAN', 'Al', 'Qaeda', 'financier', 'sits', 'manacled', 'to', 'a', 'desk', 'had', 'you', 'picked', 'up', 'instead', 'of', 'killing', 'you', 'because', 'youre', 'not', 'a', 'violent', 'man', 'and', 'you', 'dont', 'deserve', 'to', 'die', 'Thank', 'you', '31', 'But', 'you', 'do', 'have', 'deep', 'ties', 'to', 'Al', 'Qaeda', 'that', 'want', 'to', 'ask', 'you', 'about', 'before', 'you', 'get', 'sent', 'to', 'your', 'next', 'location', 'which', 'might', 'be', 'Israel', 'Ghul', 'looks', 'ashen', 'CONTD', 'However', 'depending', 'on', 'how', 'candid', 'you', 'are', 'today', 'may', 'be', 'able', 'to', 'keep', 'you', 'in', 'Pakistan', 'What', 'do', 'you', 'want', 'to', 'know', 'Im', 'going', 'to', 'ask', 'you', 'a', 'series', 'of', 'questions', 'based', 'on', 'your', 'knowledge', 'of', 'Al', 'Qaeda', 'and', 'your', 'position', 'as', 'key', 'financier', 'for', 'the', 'organization', 'have', 'dealt', 'with', 'the', 'mukhabarat', 'have', 'no', 'wish', 'to', 'be', 'tortured', 'again', 'Ask', 'me', 'a', 'question', 'can', 'answer', 'it', 'What', 'can', 'you', 'tell', 'me', 'about', 'Atiyah', 'Abd', 'alRahman', 'He', 'works', 'for', 'Zawahiri', 'Hes', 'in', 'charge', 'of', 'military', 'tactics', 'In', 'what', 'context', 'have', 'you', 'ever', 'heard', 'the', 'name', 'Abu', 'Ahmed', 'He', 'works', 'for', 'Faraj', 'and', 'bin', 'Laden', 'He', 'is', 'his', 'most', 'trusted', 'courier', 'Maya', 'works', 'hard', 'to', 'hide', 'how', 'pleased', 'she', 'is', 'to', 'have', 'this', 'confirmation', 'Shes', 'not', 'entirely', 'successful', 'What', 'makes', 'you', 'say', 'that', 'He', 'brought', 'me', 'many', 'messages', 'from', 'the', 'Sheikh', '32', 'Where', 'did', 'you', 'last', 'see', 'him', 'and', 'where', 'is', 'he', 'now', 'You', 'will', 'never', 'find', 'him', 'Why', 'is', 'that', 'Even', 'couldnt', 'find', 'him', 'He', 'always', 'contacted', 'me', 'out', 'of', 'the', 'blue', 'He', 'is', 'one', 'of', 'the', 'disappeared', 'ones', 'TO', 'GARDEN', 'Pakistani', 'families', 'enjoy', 'a', 'fine', 'summer', 'day', 'GARDEN', 'is', 'being', 'strapped', 'to', 'a', 'leg', 'by', 'a', 'URDU', 'You', 'know', 'how', 'this', 'works', 'The', 'man', 'is', 'terrified', 'POLICEMAN', 'CONTD', 'Just', 'act', 'naturally', 'The', 'Policeman', 'finishes', 'securing', 'the', 'bomb', 'and', 'sends', 'the', 'man', 'out', 'the', 'door', 'who', 'we', 'will', 'later', 'deduce', 'is', 'Abu', 'Farajs', 'courier', 'TO', 'GARDEN', 'Farajs', 'Courier', 'walks', 'past', 'playing', 'children', 'while', 'from', 'a', 'nearby', 'tower', 'observes', 'After', 'a', 'moment', 'who', 'we', 'recognize', 'from', 'his', 'photograph', 'appears', 'at', 'the', 'south', 'end', 'of', 'the', 'park', 'Faraj', 'walks', 'in', 'the', 'direction', 'of', 'his', 'courier', 'noting', 'his', 'CHILDREN', 'playing', 'Several', 'people', 'in', '33', 'SUN', 'At', 'last', 'Faraj', 'reaches', 'an', 'open', 'area', 'where', 'he', 'can', 'see', 'his', 'courier', 'face', 'to', 'face', 'They', 'exchange', 'a', 'nervous', 'glance', 'that', 'conveys', 'the', 'danger', 'Its', 'a', 'trap', 'Faraj', 'spins', 'to', 'flee', 'but', 'its', 'too', 'late', 'The', 'black', 'BURKHAS', 'descend', 'on', 'him', 'It', 'turns', 'out', 'they', 'are', 'heavily', 'armed', 'Pakistani', 'agents', 'From', 'on', 'high', 'watches', 'his', 'captured', 'prey', 'TO', 'BLACK', 'SITE', 'and', 'an', 'armed', 'guard', 'escort', 'a', 'hooded', 'and', 'handcuffed', 'Faraj', 'to', 'his', 'cell', 'What', 'do', 'you', 'like', 'Marley', 'Reggae', 'Egyptian', 'music', 'Just', 'let', 'me', 'know', 'if', 'theres', 'music', 'you', 'like', 'can', 'make', 'a', 'call', 'INTERROGATION', 'and', 'the', 'guards', 'take', 'Faraj', 'to', 'a', 'cell', 'laced', 'with', 'barbed', 'wire', 'and', 'lock', 'him', 'inside', 'Can', 'be', 'honest', 'with', 'you', 'Im', 'bad', 'news', 'Im', 'not', 'your', 'friend', 'Im', 'not', 'gonna', 'help', 'you', 'Im', 'gonna', 'break', 'you', 'Beat', 'CONTD', 'Ive', 'done', 'it', 'before', 'Faraj', 'dozes', 'weak', 'Hey', 'wake', 'up', 'You', 'havent', 'eaten', 'in', '18', 'hours', 'weve', 'got', 'to', 'keep', 'your', 'energy', 'up', 'You', 'hungry', 'TO', 'CELL', 'Guards', 'force', 'feed', 'Faraj', 'through', 'a', 'feeding', 'tube', 'TO', '34', 'AMERICAN', 'MAYAS', 'approaches', 'Maya', 'at', 'her', 'cubicle', 'Youre', 'in', 'luck', 'got', 'you', 'a', 'oneon', 'one', 'with', 'Faraj', 'Seriously', 'Thank', 'you', 'Dont', 'thank', 'me', 'until', 'you', 'hear', 'what', 'want', 'for', 'it', 'He', 'drops', 'a', 'folder', 'on', 'her', 'desk', 'CONTD', 'want', 'you', 'to', 'take', 'care', 'of', 'all', 'of', 'this', 'before', 'your', 'favorite', 'subject', 'Deal', 'Dont', 'you', 'want', 'to', 'see', 'whats', 'in', 'the', 'folder', 'You', 'want', 'family', 'ties', 'financial', 'networks', 'media', 'sources', 'disgruntled', 'employees', 'imminent', 'threats', 'homeland', 'plots', 'WALKING', 'Thank', 'you', 'Foreign', 'cells', 'health', 'status', 'trade', 'craft', 'recruiting', 'tactics', 'anything', 'else', 'TO', 'INTERROGATION', 'MORNING', 'Both', 'Maya', 'and', 'Faraj', 'look', 'tired', 'This', 'has', 'been', 'going', 'on', 'for', 'hours', 'lot', 'of', 'brothers', 'told', 'us', 'Abu', 'Ahmed', 'was', 'bin', 'Ladens', 'courier', 'and', 'that', 'he', 'worked', 'very', 'closely', 'with', 'you', '35', 'Youre', 'thinking', 'of', 'Abu', 'Khalid', 'Who', 'Al', 'Buluchi', 'My', 'courier', 'for', 'the', 'Sheikh', 'Okay', 'so', 'youre', 'telling', 'me', 'that', 'all', 'the', 'other', 'brothers', 'are', 'wrong', 'and', 'theres', 'some', 'famous', 'Buluchi', 'guy', 'that', 'is', 'working', 'for', 'you', 'and', 'bin', 'Laden', 'that', 'Ive', 'never', 'even', 'heard', 'of', 'Why', 'should', 'you', 'have', 'heard', 'of', 'him', 'What', 'does', 'this', 'Buluchi', 'guy', 'look', 'like', 'Tall', 'long', 'white', 'beard', 'thin', 'He', 'uses', 'a', 'cane', 'Kind', 'of', 'like', 'Gandolf', 'Who', 'When', 'was', 'the', 'last', 'time', 'you', 'saw', 'him', 'month', 'ago', 'in', 'Karachi', 'but', 'dont', 'know', 'where', 'he', 'is', 'now', 'Sometimes', 'wouldnt', 'even', 'see', 'him', 'he', 'would', 'just', 'tell', 'me', 'where', 'to', 'leave', 'the', 'messages', 'dont', 'believe', 'you', 'The', 'in', 'the', 'room', 'with', 'them', 'leans', 'forward', 'and', 'Faraj', 'across', 'the', 'face', 'Farajs', 'expression', 'doesnt', 'change', 'and', 'Maya', 'herself', 'remains', 'flat', 'and', 'steady', 'unmoved', 'by', 'the', 'violence', 'Shes', 'not', 'quite', 'the', 'same', 'young', 'lady', 'she', 'was', 'a', 'few', 'years', 'ago', '36', 'CONTD', 'Youre', 'not', 'being', 'fulsome', 'in', 'your', 'replies', 'FARAJ', 'You', 'cant', 'force', 'me', 'to', 'tell', 'you', 'something', 'dont', 'know', 'You', 'do', 'realize', 'this', 'is', 'not', 'a', 'normal', 'prison', 'You', 'determine', 'how', 'you', 'are', 'treated', 'and', 'your', 'life', 'will', 'be', 'very', 'uncomfortable', 'until', 'you', 'give', 'me', 'information', 'need', 'The', 'guard', 'slaps', 'Faraj', 'again', 'Faraj', 'is', 'impassive', 'TO', 'INTERROGATION', 'Maya', 'looks', 'on', 'impassively', 'as', 'Faraj', 'is', 'subjected', 'to', 'harsh', 'treatment', 'TO', 'BLACK', 'SITE', 'BATHROOM', 'Maya', 'is', 'retching', 'in', 'the', 'stall', 'TO', 'BLACK', 'SITE', 'PREDAWN', 'Maya', 'walks', 'around', 'the', 'facility', 'quiet', 'at', 'this', 'hour', 'and', 'finds', 'another', 'insomniac', 'by', 'the', 'monkey', 'cage', 'The', 'cage', 'is', 'empty', 'Faraj', 'is', 'completely', 'denying', 'knowing', 'Abu', 'Ahmed', 'and', 'thats', 'using', 'every', 'measure', 'we', 'have', 'Hes', 'either', 'going', 'to', 'withhold', 'or', 'die', 'from', 'the', 'pressure', 'youre', 'putting', 'on', 'him', 'Do', 'you', 'want', 'to', 'take', 'a', 'run', 'at', 'him', 'No', '37', 'No', 'Since', 'when', 'You', 'know', 'Ive', 'been', 'meaning', 'to', 'tell', 'you', 'Im', 'getting', 'outta', 'here', 'What', 'You', 'okay', 'Im', 'fine', 'Ive', 'just', 'seen', 'too', 'many', 'guys', 'naked', 'Its', 'gotta', 'be', 'over', 'a', 'hundred', 'at', 'this', 'point', 'need', 'to', 'go', 'do', 'something', 'normal', 'for', 'awhile', 'Like', 'what', 'Go', 'to', 'Washington', 'do', 'the', 'dance', 'see', 'how', 'that', 'environment', 'works', 'You', 'should', 'come', 'with', 'me', 'Be', 'my', 'number', 'two', 'Youre', 'looking', 'a', 'little', 'strung', 'out', 'yourself', 'Maya', 'looks', 'at', 'Dan', 'No', 'longer', 'the', 'man', 'he', 'once', 'was', 'She', 'doesnt', 'hide', 'her', 'disappointment', 'Im', 'not', 'going', 'to', 'find', 'Abu', 'Ahmed', 'from', 'They', 'both', 'look', 'at', 'the', 'empty', 'cage', 'clocking', 'the', 'irony', 'They', 'killed', 'my', 'monkeys', 'Something', 'about', 'an', 'escape', 'Can', 'you', 'fucking', 'believe', 'that', 'Dan', 'Look', 'Maya', 'you', 'gotta', 'be', 'really', 'careful', 'with', 'detainees', 'now', 'The', 'politics', 'are', 'changing', 'and', 'you', 'dont', 'want', 'to', 'be', 'the', 'last', 'one', 'holding', 'a', 'dog', 'collar', 'when', 'the', 'oversight', 'committee', 'comes', 'know', '38', 'And', 'watch', 'your', 'back', 'when', 'you', 'get', 'back', 'to', 'Pakistan', 'Everyone', 'knows', 'you', 'there', 'now', 'TO', 'ISLAMABAD', 'Back', 'in', 'Pakistan', 'the', 'country', 'has', 'indeed', 'changed', 'to', 'a', 'more', 'militarized', 'police', 'state', 'and', 'as', 'we', 'establish', 'the', 'new', 'environment', 'we', 'find', 'Mayas', 'grey', 'sedan', 'ISLAMABAD', 'The', 'car', 'pulls', 'up', 'to', 'a', 'checkpoint', 'manned', 'by', 'PAKISTANI', 'POLICE', 'The', 'Policeman', 'look', 'at', 'the', 'car', 'look', 'at', 'the', 'plate', 'the', 'plate', 'is', 'diplomatic', 'they', 'walk', 'around', 'the', 'car', 'and', 'stop', 'at', 'the', 'window', 'shine', 'their', 'bright', 'light', 'right', 'into', 'Mayas', 'eyes', 'POLICEMAN', 'motions', 'for', 'her', 'to', 'roll', 'down', 'her', 'window', 'POLICEMAN', 'Where', 'are', 'you', 'going', 'To', 'the', 'Marriott', 'assume', 'you', 'noticed', 'the', 'dip', 'plates', 'POLICEMAN', 'But', 'you', 'have', 'a', 'bag', 'The', 'policeman', 'motions', 'to', 'a', 'resting', 'on', 'the', 'rear', 'seat', 'Its', 'a', 'gym', 'bag', 'Maya', 'does', 'not', 'get', 'out', 'of', 'the', 'car', 'She', 'stares', 'at', 'him', 'defiantly', 'He', 'advances', 'forward', 'a', 'bit', 'She', 'rolls', 'up', 'her', 'window', 'flicks', 'the', 'door', 'lock', 'and', 'starts', 'dialing', 'her', 'cell', 'phone', 'The', 'policeman', 'walks', 'away', 'to', 'rejoin', 'his', 'group', 'The', 'police', 'confer', 'The', 'original', 'policeman', 'returns', 'this', 'time', 'with', 'several', 'other', 'cops', 'They', 'knock', 'on', 'the', 'glass', 'Maya', 'stares', 'straight', 'ahead', 'TO', 'MARRIOTT', 'Jessica', 'is', 'waiting', 'at', 'the', 'table', 'in', 'a', 'beautifully', 'appointed', 'room', '39', 'MARRIOTT', 'ISLAMABAD', 'SEPTEMBER', '20', '2008', 'Maya', 'walks', 'in', 'flustered', 'Fucking', 'checkpoints', 'Maya', 'sits', 'down', 'absorbed', 'in', 'her', 'Maya', 'Yeah', 'Were', 'socializing', 'Be', 'social', 'Maya', 'puts', 'away', 'her', 'blackberry', 'HALFHEARTEDLY', 'Okay', 'Look', 'know', 'Abu', 'Ahmed', 'is', 'your', 'baby', 'but', 'its', 'time', 'to', 'cut', 'the', 'umbilical', 'cord', 'No', 'its', 'not', 'So', 'Faraj', 'went', 'south', 'on', 'you', 'it', 'happens', 'There', 'are', 'still', 'cells', 'in', 'London', 'and', 'Spain', 'planning', 'the', 'next', 'round', 'of', 'attacks', 'can', 'work', 'on', 'it', 'at', 'the', 'same', 'time', 'plus', 'think', 'its', 'a', 'good', 'thing', 'that', 'he', 'lied', 'No', 'not', 'at', 'the', 'expense', 'of', 'protecting', 'the', 'homeland', 'you', 'cant', 'Wait', 'a', 'minute', 'why', 'is', 'it', 'a', 'good', 'thing', 'You', 'sound', 'just', 'like', 'Bradley', 'He', 'doesnt', 'believe', 'in', 'my', 'lead', 'either', '40', 'CONTD', 'Its', 'a', 'good', 'thing', 'because', 'the', 'fact', 'that', 'Faraj', 'withheld', 'on', 'Abu', 'Ahmed', 'is', 'revealing', 'The', 'only', 'other', 'thing', 'he', 'lied', 'about', 'was', 'the', 'location', 'of', 'bin', 'Laden', 'himself', 'That', 'means', 'Faraj', 'thinks', 'Abu', 'Ahmed', 'in', 'as', 'important', 'to', 'protect', 'as', 'bin', 'Laden', 'That', 'confirms', 'my', 'lead', 'Or', 'its', 'confirmation', 'bias', 'Were', 'all', 'just', 'worried', 'about', 'you', 'okay', 'Is', 'that', 'okay', 'to', 'say', 'Maya', 'rubs', 'her', 'eyes', 'not', 'liking', 'where', 'the', 'conversation', 'is', 'going', 'She', 'forces', 'a', 'smile', 'CONTD', 'Wheres', 'Jack', 'Hes', 'probably', 'stuck', 'in', 'some', 'check', 'point', 'somewhere', 'You', 'two', 'hooked', 'up', 'yet', 'Hello', 'work', 'with', 'him', 'Im', 'not', 'that', 'girl', 'that', 'fucks', 'Its', 'unbecoming', 'So', 'little', 'foolin', 'around', 'wouldnt', 'hurt', 'you', 'So', 'no', 'boyfriend', 'Do', 'you', 'have', 'any', 'friends', 'at', 'all', 'She', 'doesnt', 'Jessicas', 'phone', 'rings', 'CONTD', 'Its', 'Jack', 'Hey', 'thats', 'okay', 'AN', 'RIPS', 'RESTAURANT', 'SHATTERS', 'WINDOWS', 'TABLES', '41', 'OTHERS', 'TO', 'GROUND', 'FATALLY', 'FILLS', 'As', 'alarms', 'wail', 'Maya', 'struggles', 'to', 'her', 'feet', 'grabs', 'Jessica', 'by', 'the', 'arm', 'and', 'they', 'stumble', 'to', 'safety', 'MARRIOTT', 'Toward', 'the', 'destroyed', 'kitchen', 'helping', 'each', 'other', 'over', 'obstacles', 'twisted', 'metal', 'gaps', 'in', 'the', 'concrete', 'etc', 'past', 'injured', 'workers', 'and', 'burning', 'flames', 'MARRIOTT', 'HOTEL', 'KITCHEN', 'They', 'continue', 'moving', 'through', 'the', 'debris', 'as', 'the', 'smoke', 'intensifies', 'They', 'find', 'each', 'others', 'hands', 'and', 'grab', 'tightly', 'TO', 'The', 'destroyed', 'Marriott', 'OS', 'The', 'blast', 'left', 'a', 'crater', '10', 'meters', 'wide', 'in', 'front', 'of', 'the', 'hotel', 'The', 'Marriott', 'one', 'of', 'the', 'most', 'popular', 'destinations', 'for', 'locals', 'and', 'Westerners', 'TO', 'BLACK', 'TRIBAL', 'Were', 'high', 'above', 'the', 'wild', 'hinterlands', 'of', 'the', 'Hindu', 'Kush', 'gliding', 'over', 'the', 'rocky', 'slopes', 'and', 'the', 'pine', 'forests', 'TRIBAL', 'NORTHERN', 'We', 'move', 'from', 'peak', 'to', 'peak', 'until', 'we', 'find', 'a', 'remote', 'valley', 'and', 'we', 'zoom', 'down', 'and', 'nestled', 'in', 'the', 'valley', 'we', 'can', 'just', 'make', 'out', 'the', 'barest', 'outlines', 'of', 'a', 'tiny', 'village', 'of', 'mud', 'huts', 'TRIBAL', 'HUT', 'Now', 'we', 'are', 'inside', 'a', 'hut', 'and', 'weve', 'shifted', 'to', 'the', 'perspective', 'of', 'a', 'hand', 'held', 'camera', 'as', 'if', 'someone', 'inside', 'this', 'stone', 'age', 'interior', 'is', 'filming', 'on', 'our', 'behalf', 'and', 'we', 'see', 'a', 'hard', 'floor', 'thin', 'gaps', 'in', 'the', 'walls', 'and', 'TRIBAL', 'talking', 'casually', 'eating', 'and', 'drinking', 'tea', '42', 'We', 'pan', 'across', 'the', 'weathered', 'faces', 'long', 'beards', 'and', 'see', 'a', 'video', 'recorder', 'resting', 'on', 'a', 'ledge', 'TO', 'AMERICAN', 'ISLAMABAD', 'Jessica', 'strides', 'excitedly', 'almost', 'breaking', 'into', 'a', 'run', 'through', 'the', 'warren', 'of', 'cubicles', 'that', 'lead', 'to', 'Mayas', 'desk', 'AMERICAN', 'MAYAS', 'Jessica', 'beaming', 'as', 'she', 'approaches', 'Maya', 'The', 'Jords', 'have', 'a', 'mole', 'What', 'Jessica', 'pops', 'a', 'into', 'Mayas', 'computer', 'loads', 'a', 'file', 'that', 'plays', 'the', 'same', 'video', 'clip', 'we', 'have', 'just', 'seen', 'He', 'made', 'this', 'video', 'to', 'prove', 'his', 'bona', 'fides', 'Shut', 'the', 'fuck', 'up', 'The', 'camera', 'stops', 'on', 'one', 'man', 'Humam', 'Khalil', 'alBalawi', 'hes', 'a', 'Jordanian', 'doctor', 'Hes', 'really', 'motivated', 'Maya', 'practically', 'bolts', 'out', 'of', 'her', 'chair', 'Together', 'they', 'start', 'walking', 'towards', 'Bradleys', 'office', 'This', 'could', 'be', 'it', 'This', 'is', 'it', 'AMERICAN', 'STATION', 'has', 'just', 'finished', 'watching', 'the', 'video', 'Maya', 'and', 'Jessica', 'are', 'in', 'his', 'office', 'waiting', 'for', 'his', 'verdict', '43', 'Hes', 'right', 'there', 'in', 'the', 'inner', 'circle', 'dont', 'buy', 'it', 'Didnt', 'you', 'tell', 'me', 'yourself', 'nobody', 'turns', 'on', 'Al', 'Qaeda', 'The', 'Jords', 'worked', 'him', 'for', 'a', 'year', 'Dinners', 'money', 'Theyve', 'convinced', 'him', 'that', 'its', 'his', 'patriotic', 'duty', 'to', 'turn', 'on', 'Al', 'Qaeda', 'and', 'get', 'rich', 'doing', 'it', 'Yeah', 'so', 'the', 'Jords', 'say', 'TO', 'Youre', 'right', 'We', 'cant', 'rely', 'on', 'the', 'Jords', 'We', 'have', 'to', 'evaluate', 'him', 'face', 'to', 'face', 'CATCHING', 'He', 'may', 'not', 'be', 'that', 'smart', 'He', 'may', 'be', 'full', 'of', 'shit', 'but', 'we', 'have', 'to', 'talk', 'to', 'him', 'to', 'find', 'out', 'The', 'key', 'is', 'to', 'meet', 'him', 'so', 'we', 'can', 'figure', 'out', 'for', 'ourselves', 'what', 'he', 'can', 'actually', 'do', 'He', 'really', 'asked', 'for', 'a', 'dialysis', 'machine', 'You', 'can', 'fill', 'the', 'damn', 'thing', 'with', 'poison', 'TO', 'AMERICAN', 'ISLAMABAD', 'Maya', 'and', 'a', 'few', 'analysts', 'are', 'watching', 'Presidentelect', 'Obama', 'is', 'being', 'interviewed', 'on', '60', 'Minutes', 'when', 'Jessica', 'comes', 'into', 'the', 'room', 'with', 'disappointing', 'news', 'The', 'meeting', 'with', 'Balawi', 'is', 'off', 'He', 'cant', 'come', 'here', 'to', 'Islamabad', 'Cant', 'or', 'wont', '44', 'Hes', 'not', 'going', 'to', 'travel', 'security', 'The', 'interview', 'with', 'Obama', 'reaches', 'the', 'subject', 'of', 'enhanced', 'interrogation', 'and', 'the', 'women', 'pause', 'to', 'listen', 'to', 'the', 'President', 'elect', 'declare', 'America', 'does', 'not', 'torture', 'Then', 'they', 'continue', 'CONTD', 'He', 'wants', 'us', 'to', 'go', 'to', 'him', 'Hell', 'meet', 'in', 'Miram', 'Sha', 'or', 'the', 'tribals', 'He', 'knows', 'were', 'white', 'Youll', 'get', 'kidnapped', 'up', 'there', 'an', 'analyst', 'adds', 'his', 'two', 'cents', 'to', 'the', 'conversation', 'We', 'could', 'do', 'it', 'somewhere', 'else', 'Germany', 'or', 'the', 'Hes', 'got', 'a', 'clean', 'passport', 'Hes', 'not', 'going', 'to', 'travel', 'out', 'of', 'Al', 'Qaeda', 'territory', 'And', 'youre', 'not', 'going', 'to', 'him', 'Im', 'not', 'Believe', 'me', 'Were', 'stuck', 'What', 'about', 'Camp', 'Afghanistan', 'That', 'could', 'be', 'safe', 'territory', 'TO', 'CAMP', 'KHOST', 'AFGHANISTAN', 'We', 'survey', 'the', 'sprawling', 'base', 'from', 'above', 'CAMP', 'KHOST', 'AFGHANISTAN', 'Helicopters', 'and', 'Humvees', 'traverse', 'the', 'base', 'CAMP', 'KITCHEN', 'MORNING', 'Jessica', 'applies', 'icing', 'to', 'a', 'birthday', 'cake', 'as', 'she', 'cradles', 'a', '45', 'This', 'may', 'be', 'going', 'overboard', 'but', 'baked', 'him', 'a', 'cake', 'OS', 'Muslims', 'dont', 'celebrate', 'with', 'cake', 'Dont', 'be', 'so', 'literal', 'Everyone', 'likes', 'cake', 'Its', 'not', 'too', 'late', 'for', 'you', 'to', 'come', 'you', 'know', 'It', 'will', 'be', 'fun', 'TO', 'AMERICAN', 'Maya', 'sits', 'in', 'front', 'of', 'a', 'series', 'of', 'monitors', 'She', 'watches', 'a', 'live', 'Predator', 'feed', 'dont', 'want', 'to', 'be', 'a', 'straphangar', 'Its', 'your', 'show', 'You', 'were', 'the', 'first', 'to', 'see', 'the', 'potential', 'in', 'this', 'OS', 'Come', 'on', 'Weve', 'got', 'lots', 'of', 'wine', 'The', 'target', 'on', 'Mayas', 'monitor', 'disappears', 'in', 'a', 'puff', 'of', 'smoke', 'Cool', 'Bring', 'me', 'back', 'a', 'bottle', 'OS', 'will', 'TO', 'DINING', 'Jessica', 'pours', 'two', 'glasses', 'of', 'wine', 'and', 'raises', 'a', 'toast', 'to', 'her', 'colleague', 'Not', 'to', 'get', 'technical', 'but', 'this', 'guy', 'is', 'actually', 'the', 'first', 'big', 'break', 'weve', 'had', 'since', '911', 'To', 'big', 'breaks', 'and', 'the', 'little', 'people', 'that', 'make', 'them', 'happen', '46', 'CONTD', 'So', 'far', 'everything', 'hes', 'said', 'weve', 'cross', 'checked', 'and', 'its', 'proved', 'legit', 'and', 'think', 'the', 'money', 'is', 'persuasive', '25', 'million', 'dollars', 'That', 'buys', 'a', 'new', 'life', 'Do', 'you', 'think', 'he', 'might', 'be', 'exaggerating', 'his', 'access', 'Possibly', 'But', 'Al', 'Qaeda', 'needs', 'doctors', 'and', 'they', 'are', 'short', 'staffed', 'and', 'that', 'could', 'explain', 'his', 'rise', 'In', 'six', 'months', 'to', 'a', 'year', 'if', 'he', 'doesnt', 'fuck', 'up', 'he', 'could', 'be', 'called', 'in', 'to', 'treat', 'bin', 'Laden', 'And', 'at', 'that', 'moment', 'with', '25', 'mil', 'on', 'the', 'table', 'think', 'he', 'gives', 'up', 'the', 'Big', 'Man', 'And', 'if', 'he', 'doesnt', 'we', 'kill', 'him', 'TO', 'CAMP', 'AFTERNOON', 'The', 'same', 'gathering', 'as', 'the', 'day', 'before', 'waiting', 'under', 'the', 'merciless', 'sun', 'DECEMBER', '30', '2009', 'Jessica', 'turns', 'to', 'her', 'crew', 'which', 'includes', 'a', 'young', 'operative', 'a', 'Jordanian', 'intelligence', 'agent', 'and', 'the', 'bases', 'among', 'others', 'They', 'rehearse', 'the', 'impending', 'meeting', 'So', 'turns', 'to', 'her', 'When', 'he', 'arrives', 'Ill', 'set', 'the', 'tone', 'and', 'then', 'Ill', 'flip', 'it', 'to', 'you', 'and', 'youll', 'talk', 'about', 'asset', 'protection', 'that', 'Then', 'Lauren', 'know', 'you', 'want', 'to', 'get', 'some', 'questions', 'in', 'there', 'but', 'give', 'Balawi', 'time', 'after', 'John', 'speaks', 'Well', 'cover', 'the', 'basics', 'and', 'have', 'his', 'birthday', 'cake', 'then', 'well', 'get', 'to', 'the', 'nitty', 'gritty', '47', 'Jessica', 'turns', 'to', 'Zied', 'CONTD', 'Is', 'that', 'order', 'okay', 'or', 'do', 'you', 'want', 'to', 'introduce', 'everyone', 'Ill', 'introduce', 'you', 'and', 'you', 'introduce', 'your', 'team', 'He', 'knows', 'this', 'is', 'a', 'high', 'level', 'meeting', 'Quick', 'question', 'all', 'is', 'taking', 'place', 'inside', 'our', 'main', 'building', 'JESSICA', 'Right', 'And', 'Lauren', 'Washington', 'will', 'want', 'real', 'time', 'updates', 'so', 'please', 'stay', 'on', 'top', 'of', 'that', 'Be', 'concise', 'The', 'Director', 'is', 'in', 'the', 'loop', 'And', 'wouldnt', 'be', 'surprised', 'if', 'he', 'doesnt', 'update', 'the', 'President', 'Yeah', 'Im', 'on', 'it', 'They', 'take', 'in', 'the', 'possibilities', 'JESSICA', 'Now', 'just', 'need', 'to', 'get', 'Balawis', 'ass', 'down', 'here', 'Waiting', 'and', 'waiting', 'No', 'cars', 'approach', 'The', 'sun', 'beats', 'down', 'TO', 'CAMP', 'TO', 'SOUTH', 'Several', 'hundred', 'yards', 'before', 'the', 'Camp', 'entrance', 'is', 'a', 'beatup', 'The', 'car', 'pulls', 'up', 'to', 'the', 'checkpoint', 'but', 'doesnt', 'proceed', 'JESSICA', 'to', 'the', 'Security', 'Why', 'are', 'there', 'gate', 'guards', 'there', 'We', 'talked', 'about', 'this', 'no', 'one', 'is', 'supposed', 'to', 'be', 'there', 'when', 'my', 'source', 'arrives', 'You', 'might', 'have', 'spooked', 'him', 'already', 'Procedures', 'only', 'work', 'if', 'we', 'follow', 'them', 'every', 'time', '48', 'JESSICA', 'This', 'time', 'is', 'different', 'Im', 'sorry', 'cant', 'explain', 'but', 'its', 'for', 'a', 'good', 'cause', 'GUARD', 'Look', 'Im', 'responsible', 'for', 'everyones', 'safety', 'okay', 'Its', 'not', 'just', 'about', 'you', 'JESSICA', 'just', 'need', 'them', 'to', 'go', 'away', 'for', 'a', 'minute', 'You', 'can', 'search', 'him', 'as', 'soon', 'as', 'he', 'gets', 'here', 'The', 'Security', 'pauses', 'then', 'into', 'his', 'radio', 'GUARD', 'All', 'stations', 'go', 'ahead', 'and', 'stand', 'down', 'GUARD', 'OVER', 'CAMP', 'GUARD', 'The', 'guards', 'move', 'away', 'from', 'their', 'post', 'The', 'sedan', 'drives', 'past', 'the', 'gate', 'into', 'a', 'maze', 'of', 'barriers', 'We', 'follow', 'the', 'car', 'as', 'it', 'navigates', 'the', 'maze', 'of', 'barriers', 'kicking', 'up', 'a', 'cloud', 'of', 'dust', 'CAMP', 'Jessica', 'runs', 'back', 'to', 'her', 'team', 'and', 'flashes', 'a', 'thumbs', 'up', 'She', 'smiles', 'and', 'pulls', 'out', 'her', 'phone', 'sending', 'a', 'text', 'Hes', 'here', 'Brb', 'Cool', 'The', 'car', 'navigates', 'the', 'second', 'set', 'of', 'barriers', 'AMERICAN', 'MAYAS', 'SECONDS', 'Maya', 'types', 'on', 'her', 'computer', 'Wassup', 'you', 'talking', 'yet', '49', 'CAMP', 'Jessica', 'looks', 'up', 'to', 'see', 'the', 'car', 'approaching', 'and', 'puts', 'the', 'phone', 'back', 'in', 'her', 'pocket', 'The', 'sedan', 'is', 'now', '50', 'yards', 'away', 'GUARD', 'Okay', 'hes', 'coming', 'Were', 'gonna', 'search', 'him', 'when', 'he', 'gets', 'here', 'Everyone', 'prepares', 'The', 'car', 'gets', 'closer', 'and', 'closer', 'a', 'driver', 'in', 'front', 'and', 'a', 'passenger', 'in', 'back', 'AMERICAN', 'MAYAS', 'Maya', 'texts', 'again', 'Answer', 'when', 'you', 'can', 'CAMP', 'The', 'sedan', 'pulls', 'to', 'a', 'stop', 'GUARD', 'taps', 'on', 'the', 'backseat', 'window', 'Balawi', 'exits', 'on', 'the', 'passenger', 'side', 'His', 'free', 'hand', 'is', 'in', 'his', 'pocket', 'GUARD', 'to', 'the', 'other', 'guard', 'Is', 'he', 'supposed', 'to', 'limp', 'like', 'that', 'GUARD', 'Take', 'your', 'hand', 'out', 'of', 'your', 'pocket', 'Hey', 'Allahu', 'Akbar', 'Allahu', 'Akbar', 'BLACKWATER', 'GUARD', 'raising', 'his', 'Get', 'you', 'hand', 'out', 'of', 'your', 'pocket', 'Allahu', 'Akbar', 'Jessicas', 'smile', 'fades', 'And', 'Balawi', 'detonates', 'a', 'suicide', 'vest', 'hidden', 'under', 'this', 'jacket', 'and', 'the', 'resulting', 'shrapnel', 'storm', 'pulps', 'the', 'crowd', 'massacring', 'them', 'all', 'TO', '50', 'AMERICAN', 'ISLAMABAD', 'Maya', 'looks', 'at', 'her', 'computer', 'screen', 'She', 'sees', 'her', 'last', 'instant', 'messageAnd', 'waits', 'for', 'a', 'response', 'Beat', 'Maya', 'looks', 'up', 'concern', 'on', 'her', 'face', 'TO', 'CAMP', 'The', 'explosion', 'smoke', 'still', 'hovers', 'over', 'Camp', 'News', 'reporting', 'of', 'the', 'attack', 'plays', 'over', 'the', 'horrific', 'image', 'AMERICAN', 'MAYAS', 'LATER', 'Maya', 'huddles', 'on', 'the', 'floor', 'under', 'the', 'corner', 'of', 'her', 'desk', 'MAYAS', 'LATER', 'The', 'office', 'has', 'thinned', 'out', 'and', 'most', 'people', 'have', 'gone', 'home', 'for', 'the', 'day', 'Maya', 'is', 'crouched', 'in', 'the', 'corner', 'wounded', 'animal', 'Jeremy', 'the', 'case', 'officer', 'from', 'the', 'conference', 'room', 'approaches', 'and', 'gives', 'Maya', 'a', 'computer', 'disc', 'You', 'okay', 'No', 'response', 'CONTD', 'didnt', 'think', 'this', 'day', 'could', 'get', 'any', 'worse', 'but', 'bad', 'news', 'from', 'Saudi', 'intelligence', 'The', 'courier', 'guy', 'Abu', 'Ahmed', 'is', 'dead', 'Its', 'a', 'detainee', 'video', 'Maya', 'still', 'fighting', 'to', 'contain', 'her', 'grief', 'takes', 'the', 'file', 'as', 'an', 'almost', 'welcome', 'distraction', 'She', 'puts', 'the', 'disc', 'into', 'her', 'computer', 'and', 'hits', 'play', 'SCREEN', 'being', 'interviewed', 'by', 'a', 'CASE', 'holds', 'the', 'photo', 'of', 'Abu', 'Ahmed', 'weve', 'seen', 'so', 'many', 'times', 'Hes', 'dead', 'in', 'Afghanistan', '2001', 'buried', 'him', 'with', 'my', 'own', 'hands', 'INTERROGATOR', 'Where', '51', 'Kabul', 'Maya', 'stares', 'at', 'the', 'screen', 'dont', 'believe', 'this', 'Maya', 'always', 'liked', 'this', 'lead', 'Jeremy', 'leaves', 'Maya', 'at', 'her', 'computer', 'She', 'continues', 'to', 'stare', 'at', 'the', 'screen', 'MAYAS', 'Maya', 'is', 'still', 'by', 'herself', 'Her', 'friend', 'Jack', 'approaches', 'CONSOLING', 'Hey', 'just', 'got', 'here', 'What', 'are', 'you', 'gonna', 'do', 'Im', 'going', 'to', 'smoke', 'everybody', 'involved', 'in', 'this', 'op', 'and', 'then', 'Im', 'going', 'to', 'kill', 'bin', 'Laden', 'Off', 'the', 'darkness', 'in', 'her', 'eyes', 'we', 'TO', 'BLACK', 'TO', 'AMERICAN', 'ISLAMABAD', 'LATER', 'The', 'staff', 'has', 'gathered', 'to', 'hear', 'a', 'word', 'from', 'the', 'boss', 'in', 'a', 'large', 'conference', 'room', 'its', 'packed', 'shoulder', 'to', 'shoulder', 'with', 'dozens', 'of', 'people', 'including', 'Maya', 'Jack', 'Hakim', 'and', 'at', 'the', 'front', 'WRIGHT', 'Chief', 'of', 'the', 'Afghanistan', 'Pakistan', 'Department', 'has', 'just', 'flown', 'in', 'from', 'big', 'man', 'striding', 'quickly', 'into', 'the', 'room', 'with', 'the', 'street', 'roll', 'of', 'the', 'Bronx', 'projects', 'he', 'grew', 'up', 'in', 'George', 'looks', 'ready', 'for', 'a', 'brawl', 'want', 'to', 'make', 'something', 'absolutely', 'clear', '52', 'CONTD', 'If', 'you', 'thought', 'there', 'was', 'some', 'secret', 'cell', 'somewhere', 'working', 'Al', 'Qaeda', 'want', 'you', 'to', 'know', 'that', 'youre', 'wrong', 'This', 'is', 'it', 'Theres', 'no', 'working', 'group', 'coming', 'to', 'the', 'rescue', 'He', 'stares', 'at', 'his', 'staff', 'CONTD', 'Theres', 'nobody', 'else', 'hidden', 'away', 'on', 'some', 'other', 'floor', 'There', 'is', 'just', 'us', 'And', 'we', 'are', 'failing', 'Were', 'spending', 'billions', 'of', 'dollars', 'People', 'are', 'dying', 'Were', 'still', 'no', 'closer', 'to', 'defeating', 'our', 'enemy', 'NOW', 'CONTD', 'They', 'attacked', 'us', 'on', 'land', 'in', '98', 'by', 'sea', 'in', '2000', 'and', 'from', 'the', 'air', 'in', '2001', 'They', 'murdered', 'three', 'thousand', 'of', 'our', 'citizens', 'in', 'cold', 'blood', 'and', 'theyve', 'slaughtered', 'our', 'forward', 'deployed', 'And', 'what', 'the', 'fuck', 'have', 'we', 'done', 'about', 'it', 'NOW', 'What', 'have', 'we', 'done', 'We', 'have', 'twenty', 'leadership', 'names', 'and', 'weve', 'only', 'eliminated', 'four', 'of', 'them', 'Beat', 'CONTD', 'want', 'targets', 'Do', 'your', 'fucking', 'jobs', 'bring', 'me', 'people', 'to', 'kill', 'AMERICAN', 'LATER', 'The', 'office', 'has', 'grown', 'bigger', 'and', 'busier', 'and', 'the', 'cubicle', 'maze', 'is', 'filled', 'with', 'many', 'new', 'faces', 'of', 'young', 'agents', 'excited', 'to', 'be', 'in', 'Pakistan', 'Sitting', 'alone', 'at', 'her', 'desk', 'we', 'find', 'Maya', 'just', 'as', 'shes', 'finishing', 'a', 'report', 'She', 'gets', 'up', 'crosses', 'the', 'room', 'and', 'goes', 'to', 'the', 'desk', 'of', 'a', 'young', 'woman', 'who', 'reminds', 'us', 'in', 'her', 'idealistic', 'enthusiasm', 'of', 'the', 'way', 'Maya', 'was', 'six', 'years', 'ago', 'This', 'is', 'Hi', 'painstakingly', 'combed', 'through', 'everything', 'in', 'the', 'system', 'and', 'found', 'this', '53', 'She', 'hands', 'Maya', 'a', 'file', 'CONTD', 'Its', 'him', 'He', 'was', 'one', 'of', 'ten', 'names', 'on', 'a', 'watch', 'list', 'sent', 'to', 'us', 'by', 'the', 'Moroccans', 'after', '911', 'Ibrahim', 'Sayeed', 'They', 'told', 'us', 'to', 'watch', 'out', 'for', 'him', 'apparently', 'they', 'think', 'his', 'whole', 'family', 'and', 'extended', 'family', 'is', 'bad', 'and', 'has', 'ties', 'to', 'KSM', 'He', 'was', 'picked', 'up', 'for', 'fake', 'papers', 'and', 'a', 'doctored', 'exit', 'visa', 'leaving', 'Afghanistan', 'traveling', 'through', 'Morocco', 'en', 'route', 'to', 'Kuwait', 'Abu', 'Ahmed', 'al', 'Kuwaiti', 'This', 'must', 'be', 'Abu', 'Ahmed', 'Doesnt', 'matter', 'but', 'wish', 'had', 'that', 'five', 'years', 'ago', 'How', 'come', 'never', 'saw', 'it', 'before', 'Nobody', 'saw', 'it', 'most', 'likely', 'There', 'was', 'a', 'lot', 'of', 'white', 'noise', 'after', '911', 'countries', 'wanting', 'to', 'help', 'out', 'we', 'got', 'millions', 'of', 'tips', 'and', 'Things', 'got', 'lost', 'in', 'the', 'shuffle', 'Human', 'error', 'Maya', 'turns', 'her', 'attention', 'back', 'to', 'the', 'BOARD', 'and', 'as', 'Debbie', 'keeps', 'talking', 'we', 'follow', 'Mayas', 'gaze', 'across', 'the', 'row', 'of', 'SHOTS', 'of', 'Al', 'Qaeda', 'personnel', 'While', 'a', 'few', 'of', 'the', 'men', 'are', 'African', 'or', 'are', 'distinctive', 'looking', 'for', 'other', 'reasons', 'most', 'of', 'them', 'look', 'fairly', 'similar', 'in', 'that', 'theyre', 'all', 'wearing', 'the', 'same', 'type', 'of', 'clothes', 'and', 'have', 'the', 'same', 'trademark', 'long', 'gnarly', 'beards', 'CONTD', 'ON', 'Anyway', 'thought', 'you', 'should', 'know', 'about', 'it', 'just', 'want', 'to', 'say', 'Ive', 'heard', 'a', 'lot', 'about', 'you', 'You', 'inspired', 'me', 'to', 'come', 'to', 'Pakistan', 'Mayas', 'eyes', 'narrow', 'She', 'keeps', 'looking', 'at', 'the', 'BOARD', 'DEBBIE', 'CONTD', 'Maybe', 'youll', 'let', 'me', 'buy', 'you', 'a', 'kabob', 'sometime', '54', 'DISTRACTEDLY', 'Dont', 'eat', 'out', 'Its', 'too', 'dangerous', 'Maya', 'stares', 'at', 'the', 'Al', 'Quaeda', 'mugshots', 'a', 'thought', 'crosses', 'her', 'mind', 'TO', 'AMERICAN', 'Maya', 'on', 'the', 'speaker', 'phone', 'to', 'We', 'intercut', 'is', 'now', 'a', 'suit', 'in', 'Langley', 'OVER', 'Dan', 'Debbie', 'found', 'Abu', 'Ahmed', 'Fuck', 'Really', 'OVER', 'He', 'was', 'in', 'the', 'files', 'this', 'whole', 'time', 'The', 'family', 'name', 'is', 'Sayeed', 'Ok', 'but', 'hes', 'dead', 'So', 'doesnt', 'that', 'make', 'him', 'a', 'little', 'less', 'interesting', 'to', 'you', 'OS', 'He', 'may', 'not', 'be', 'We', 'now', 'know', 'that', 'Abu', 'Ahmed', 'is', 'one', 'of', 'eight', 'brothers', 'All', 'the', 'brothers', 'in', 'the', 'family', 'look', 'alike', 'Three', 'of', 'them', 'went', 'to', 'Afghanistan', 'Isnt', 'it', 'possible', 'that', 'when', 'the', 'three', 'eldest', 'brothers', 'grew', 'beards', 'in', 'Afghanistan', 'they', 'started', 'to', 'look', 'alike', 'think', 'the', 'one', 'calling', 'himself', 'Abu', 'Ahmed', 'is', 'still', 'alive', 'The', 'picture', 'weve', 'been', 'using', 'is', 'wrong', 'Its', 'of', 'his', 'older', 'brother', 'Habeeb', 'Hes', 'the', 'one', 'thats', 'is', 'dead', 'Okay', 'what', 'are', 'you', 'basing', 'this', 'on', 'BRIEFING', 'We', 'have', 'no', 'intercepts', 'about', 'Abu', 'Ahmed', 'dying', '55', 'CONTD', 'We', 'just', 'have', 'a', 'detainee', 'who', 'buried', 'somebody', 'who', 'looked', 'like', 'Abu', 'Ahmed', 'But', 'if', 'somebody', 'as', 'important', 'as', 'Abu', 'Ahmed', 'had', 'died', 'theyd', 'be', 'talking', 'about', 'it', 'online', 'in', 'chat', 'rooms', 'all', 'over', 'the', 'place', 'Plus', 'the', 'detainee', 'said', 'that', 'Habeeb', 'died', 'in', '2001', 'We', 'know', 'that', 'Abu', 'Ahmed', 'was', 'alive', 'then', 'trying', 'to', 'get', 'into', 'Tora', 'Bora', 'with', 'Ammar', 'That', 'means', 'its', 'probably', 'one', 'of', 'the', 'other', 'brothers', 'thats', 'dead', 'OS', 'In', 'other', 'words', 'you', 'want', 'it', 'to', 'be', 'true', 'Yes', 'fucking', 'want', 'it', 'to', 'be', 'true', 'Maya', 'slams', 'the', 'desk', 'OS', 'Calm', 'down', 'Beat', 'am', 'calm', 'OS', 'State', 'your', 'request', 'Move', 'heaven', 'and', 'earth', 'and', 'bring', 'me', 'this', 'fucking', 'Sayeed', 'familys', 'phone', 'number', 'TO', 'CENTER', 'DAY', 'dark', 'window', 'shades', 'down', 'executive', 'office', 'where', 'in', 'the', 'shadows', 'a', 'white', 'American', 'man', 'in', 'a', 'nice', 'suit', 'is', 'kneeling', 'on', 'a', 'prayer', 'rug', 'and', 'saying', 'the', 'Islamic', 'daily', 'prayers', 'waits', 'as', 'the', 'man', 'recites', 'the', 'prayers', 'and', 'presses', 'his', 'pale', 'forehead', 'to', 'the', 'carpet', 'This', 'is', 'He', 'is', 'the', 'head', 'of', 'the', 'agencys', 'COUNTER', 'TERRORISM', 'CENTER', 'Georges', 'boss', 'AsSalamu', 'alaykum', '56', 'Alaykum', 'salam', 'need', 'a', 'couple', 'hundred', 'thousand', 'Four', 'max', 'Where', 'you', 'gonna', 'get', 'that', 'From', 'you', 'You', 'think', 'so', 'This', 'could', 'crack', 'open', 'the', 'facilitator', 'Mayas', 'been', 'looking', 'for', 'by', 'giving', 'us', 'a', 'phone', 'number', 'Shes', 'your', 'killer', 'Wolf', 'You', 'put', 'her', 'on', 'the', 'field', 'reciting', 'a', 'phrase', 'from', 'the', 'in', 'then', 'loosely', 'TRANSLATING', 'Allah', 'rewards', 'those', 'who', 'strive', 'and', 'fight', 'over', 'those', 'that', 'sit', 'behind', 'a', 'desk', 'nods', 'If', 'the', 'blatant', 'attempt', 'to', 'play', 'on', 'his', 'Muslim', 'belief', 'bothers', 'him', 'he', 'doesnt', 'show', 'it', 'at', 'all', 'As', 'you', 'know', 'Abu', 'Ghraib', 'and', 'Gitmo', 'fucked', 'us', 'The', 'detainee', 'program', 'is', 'now', 'fly', 'paper', 'We', 'got', 'senators', 'jumping', 'out', 'of', 'our', 'asses', 'and', 'the', 'Director', 'is', 'very', 'concerned', 'They', 'will', 'not', 'stop', 'until', 'they', 'have', 'a', 'body', 'There', 'it', 'is', 'The', 'quid', 'pro', 'quo', 'Theres', 'a', 'reason', 'hes', 'called', 'The', 'Wolf', 'considers', 'all', 'that', 'hell', 'go', 'through', 'if', 'he', 'volunteers', 'to', 'be', 'the', 'fall', 'guy', 'for', 'the', 'controversial', 'program', 'ran', 'it', 'Ill', 'defend', 'it', 'TO', '57', 'HOOKER', 'KUWAIT', 'KUWAIT', 'and', 'a', 'BUSINESS', 'in', 'a', 'suit', 'are', 'drinking', 'and', 'ogling', 'the', 'GIRLS', 'prowling', 'the', 'place', 'After', 'a', 'few', 'sips', 'of', 'his', 'drink', 'Its', 'good', 'to', 'be', 'back', 'in', 'Kuwait', 'Its', 'good', 'to', 'see', 'you', 'again', 'its', 'been', 'awhile', 'The', 'businessman', 'doesnt', 'answer', 'CONTD', 'need', 'a', 'favor', 'Why', 'should', 'help', 'you', 'Because', 'were', 'friends', 'BUSINESSMAN', 'You', 'say', 'we', 'are', 'friends', 'How', 'come', 'you', 'only', 'call', 'me', 'when', 'you', 'need', 'help', 'But', 'when', 'need', 'something', 'you', 'are', 'too', 'busy', 'to', 'pick', 'up', 'the', 'phone', 'dont', 'think', 'we', 'are', 'friends', 'Fair', 'enough', 'How', 'about', 'a', 'Lamborghini', 'Hows', 'that', 'for', 'friendship', 'LAMBORGHINI', 'KUWAIT', 'They', 'wait', 'while', 'a', 'Lamborghini', 'disheveled', 'clearly', 'just', 'awakened', 'unlocks', 'the', 'door', 'of', 'the', 'dealership', 'to', 'the', 'Kuwaiti', 'BUSINESSMAN', 'The', 'poor', 'fucker', 'had', 'to', 'get', 'out', 'of', 'bed', 'to', 'the', 'Salesman', 'Assalamu', 'alaykum', 'Thanks', 'my', 'friend', 'LAMBORGHINI', 'They', 'step', 'inside', 'and', 'the', 'salesman', 'flicks', 'on', 'the', 'lights', 'revealing', 'shiny', 'cars', 'displayed', 'like', 'jewels', 'on', 'rotating', '58', 'platforms', 'While', 'the', 'Kuwaiti', 'businessman', 'peers', 'inside', 'a', 'silver', 'model', 'confers', 'with', 'the', 'salesman', 'like', 'hes', 'bought', 'twenty', 'of', 'these', 'cars', 'Is', 'this', 'a', 'Balboni', 'Fuck', 'me', 'This', 'is', 'nice', 'What', 'are', 'you', 'thinking', 'BUSINESSMAN', 'think', 'Ill', 'choose', 'this', 'one', 'The', 'salesman', 'retreats', 'to', 'a', 'back', 'office', 'Thats', 'a', 'nice', 'choice', 'my', 'friend', 'gives', 'the', 'Kuwaiti', 'a', 'slip', 'of', 'paper', 'MAN', 'Who', 'is', 'it', 'Who', 'do', 'you', 'think', 'The', 'guys', 'a', 'terrorist', 'His', 'mother', 'lives', 'here', 'just', 'need', 'her', 'phone', 'number', 'KUWAITI', 'MAN', 'There', 'will', 'be', 'no', 'repercussions', 'in', 'Kuwait', 'Somebody', 'might', 'die', 'at', 'some', 'point', 'in', 'Pakistan', 'They', 'shake', 'hands', 'TO', 'SERVER', 'DAY', 'TRADECRAFT', 'Sound', 'graphs', 'of', 'phone', 'calls', 'fill', 'the', 'screen', 'We', 'cruise', 'through', 'rows', 'upon', 'rows', 'of', 'server', 'facilities', 'a', 'single', 'monitor', 'in', 'front', 'traces', 'a', 'call', 'to', 'Rawalpindi', 'Pakistan', 'TO', 'ISLAMABAD', 'THIRD', 'BALCONY', 'DAY', 'Maya', 'chews', 'on', 'a', 'peanut', 'butter', 'amp', 'jelly', 'sandwich', 'Jack', 'calls', 'her', 'on', 'her', 'cell', 'Hey', 'Jack', '59', 'Youre', 'not', 'gonna', 'like', 'this', 'hes', 'on', 'the', 'phone', 'but', 'theres', 'no', 'team', 'to', 'deploy', 'right', 'now', 'Fuck', 'She', 'dashes', 'out', 'runs', 'down', 'the', 'hall', 'to', 'an', 'Exit', 'sign', 'bursts', 'through', 'the', 'door', 'to', 'a', 'staircase', 'Flies', 'down', 'the', 'staircase', 'down', 'to', 'another', 'floor', 'barges', 'through', 'the', 'door', 'AMERICAN', 'DAY', 'The', 'stations', 'surveillance', 'team', 'leader', 'unstraps', 'his', 'flack', 'vest', 'He', 'looks', 'like', 'the', 'kind', 'of', 'guy', 'you', 'dont', 'mess', 'withso', 'of', 'course', 'Maya', 'barges', 'into', 'his', 'space', 'like', 'a', 'locomotive', 'How', 'come', 'you', 'havent', 'deployed', 'a', 'team', 'to', 'stay', 'in', 'Rawalpindi', 'For', 'one', 'thing', 'its', 'dangerous', 'For', 'another', 'the', 'area', 'is', 'too', 'congested', 'for', 'us', 'to', 'be', 'effective', 'without', 'some', 'predictive', 'intelligence', 'Thats', 'why', 'you', 'should', 'forward', 'deploy', 'so', 'you', 'can', 'shorten', 'your', 'response', 'time', 'Still', 'it', 'wouldnt', 'work', 'Why', 'The', 'guy', 'never', 'stays', 'on', 'the', 'phone', 'long', 'enough', 'You', 'havent', 'tried', 'Look', 'dont', 'have', 'the', 'personnel', '60', 'Thats', 'bullshit', 'As', 'it', 'is', 'my', 'guys', 'dont', 'get', 'any', 'sleep', 'tracking', 'the', 'threats', 'within', 'Pakistan', 'pushes', 'past', 'her', 'to', 'leave', 'and', 'she', 'follows', 'him', 'Right', 'understand', 'But', 'dont', 'really', 'care', 'if', 'your', 'guys', 'get', 'sleep', 'or', 'not', 'Maya', 'looks', 'at', 'Larrys', 'team', 'sleeping', 'on', 'the', 'couch', 'AMERICAN', 'AMERICAN', 'LATER', 'The', 'conversation', 'continues', 'in', 'the', 'bar', 'for', 'Maya', 'has', 'not', 'relented', 'although', 'the', 'tone', 'is', 'softer', 'now', 'She', 'offers', 'a', 'beer', 'He', 'takes', 'it', 'This', 'guy', 'youre', 'obsessed', 'with', 'whats', 'his', 'name', 'again', 'Abu', 'Ahmed', 'al', 'Kuwaiti', 'is', 'the', 'nom', 'de', 'guerre', 'His', 'true', 'name', 'we', 'think', 'is', 'Ibraheem', 'Sayeed', 'His', 'family', 'lives', 'in', 'Kuwait', 'Wasnt', 'it', 'like', 'eight', 'brothers', 'and', 'a', 'million', 'cousins', 'that', 'we', 'know', 'about', 'anyone', 'could', 'be', 'calling', 'home', 'know', 'Its', 'not', 'like', 'hes', 'saying', 'Hey', 'mom', 'its', 'me', 'the', 'terrorist', 'Over', 'the', 'course', 'of', 'two', 'months', 'hes', 'called', 'home', 'from', 'six', 'different', 'pay', 'phones', 'from', 'two', 'different', 'cities', 'never', 'using', 'the', 'same', 'phone', 'twice', 'And', 'when', 'his', 'mother', 'asked', 'him', 'where', 'he', 'was', 'he', 'lied', 'He', 'said', 'that', 'he', 'was', 'in', 'a', 'place', 'in', 'the', 'country', 'with', 'bad', 'cell', 'reception', 'implying', 'he', 'was', 'in', 'the', 'Tribals', 'but', 'he', 'was', 'in', '61', 'CONTD', 'a', 'market', 'in', 'Peshawar', 'Im', 'sorry', 'but', 'thats', 'not', 'normal', 'guy', 'behavior', 'Thats', 'tradecraft', 'Maybe', 'he', 'just', 'doesnt', 'like', 'his', 'mom', 'Look', 'if', 'he', 'talks', 'about', 'an', 'operation', 'or', 'refers', 'to', 'anything', 'remotely', 'fishy', 'Ill', 'get', 'on', 'him', 'Okay', 'No', 'Not', 'okay', 'Look', 'Abu', 'Ahmed', 'is', 'too', 'smart', 'to', 'tip', 'his', 'hand', 'by', 'talking', 'about', 'ops', 'on', 'the', 'phone', 'he', 'works', 'for', 'bin', 'Laden', 'The', 'guys', 'that', 'talk', 'about', 'ops', 'on', 'the', 'phone', 'dont', 'get', 'that', 'job', 'looks', 'away', 'CONTD', 'lot', 'of', 'my', 'friends', 'have', 'died', 'trying', 'to', 'do', 'this', 'believe', 'was', 'spared', 'so', 'could', 'finish', 'the', 'job', 'The', 'girl', 'is', 'a', 'true', 'believer', 'as', 'pure', 'as', 'they', 'come', 'looks', 'at', 'her', 'Her', 'sincerity', 'is', 'persuasive', 'And', 'just', 'like', 'that', 'he', 'decides', 'to', 'help', 'her', 'TO', 'KOTLI', 'CENTER', 'Hakim', 'walks', 'through', 'a', 'crowded', 'call', 'center', 'joins', 'him', 'from', 'a', 'back', 'entrance', 'They', 'look', 'around', 'nothing', 'RAWAL', 'CENTER', 'Hakim', 'parks', 'in', 'front', 'of', 'the', 'Rawal', 'Call', 'Center', 'RAWAL', 'CENTER', 'DAY', 'The', 'call', 'center', 'is', 'arranged', 'into', 'two', 'rows', 'of', 'cubbyholes', 'each', 'separated', 'by', 'a', 'privacy', 'wall', 'Hakim', 'searches', 'the', 'place', 'finds', 'nothing', 'TO', 'TV', 'SCREEN', 'News', 'reports', 'of', 'the', 'attemped', 'bombing', '62', 'OS', 'It', 'is', 'in', 'surveillance', 'video', 'and', 'pictures', 'like', 'this', 'of', 'the', 'explosive', 'laden', 'vehicle', 'just', 'moments', 'before', 'it', 'was', 'parked', 'that', 'police', 'hope', 'to', 'find', 'the', 'man', 'who', 'wanted', 'so', 'badly', 'last', 'night', 'to', 'leave', 'a', 'body', 'count', 'in', 'Times', 'Square', 'TO', 'AMERICAN', 'The', 'TV', 'news', 'report', 'continues', 'playing', 'in', 'the', 'bg', 'is', 'moving', 'as', 'fast', 'down', 'a', 'hallway', 'Coming', 'towards', 'him', 'like', 'a', 'shark', 'from', 'the', 'other', 'end', 'of', 'the', 'hallway', 'Maya', 'looks', 'determined', 'not', 'to', 'deal', 'with', 'her', 'right', 'now', 'and', 'lowers', 'his', 'head', 'but', 'she', 'spreads', 'her', 'arms', 'slightly', 'and', 'basically', 'blocks', 'his', 'passage', 'through', 'the', 'hallway', 'really', 'need', 'to', 'talk', 'to', 'you', 'about', 'beefing', 'up', 'our', 'surveillance', 'operation', 'on', 'the', 'caller', 'We', 'dont', 'have', 'a', 'surveillance', 'operation', 'on', 'the', 'caller', 'turning', 'to', 'Maya', 'Someone', 'just', 'tried', 'to', 'blow', 'up', 'Times', 'Square', 'and', 'youre', 'talking', 'to', 'me', 'about', 'some', 'facilitator', 'who', 'some', 'detainee', 'seven', 'years', 'ago', 'said', 'might', 'have', 'been', 'working', 'with', 'Al', 'Qaeda', 'Maya', 'is', 'practically', 'shaking', 'with', 'zealous', 'rage', 'at', 'her', 'inability', 'to', 'bend', 'to', 'her', 'will', 'Hes', 'the', 'key', 'to', 'bin', 'Laden', 'dont', 'fucking', 'care', 'about', 'bin', 'Laden', 'care', 'about', 'the', 'next', 'attack', 'Youre', 'going', 'to', 'start', 'working', 'on', 'American', 'Al', 'Qaeda', 'cells', 'Protect', 'the', 'homeland', 'bin', 'Laden', 'is', 'the', 'one', 'who', 'keeps', 'telling', 'them', 'to', 'attack', 'the', 'homeland', '63', 'CONTD', 'If', 'it', 'wasnt', 'for', 'him', 'Al', 'Qaeda', 'would', 'still', 'be', 'focused', 'on', 'overseas', 'targets', 'If', 'you', 'really', 'want', 'to', 'protect', 'the', 'homeland', 'you', 'need', 'to', 'get', 'bin', 'Laden', 'ANGRY', 'This', 'guy', 'never', 'met', 'bin', 'Laden', 'This', 'guy', 'is', 'a', 'free', 'lancer', 'working', 'off', 'the', 'fucking', 'internet', 'No', 'one', 'has', 'even', 'talked', 'to', 'bin', 'Laden', 'in', 'four', 'years', 'hes', 'out', 'of', 'the', 'game', 'he', 'may', 'well', 'even', 'be', 'dead', 'but', 'you', 'know', 'what', 'youre', 'doing', 'Youre', 'chasing', 'a', 'ghost', 'while', 'the', 'whole', 'fucking', 'network', 'grows', 'all', 'around', 'you', 'For', 'a', 'moment', 'she', 'is', 'silenced', 'by', 'Bradleys', 'reprimand', 'but', 'then', 'Mayas', 'obsession', 'speaks', 'for', 'her', 'and', 'like', 'a', 'woman', 'possessed', 'she', 'recklessly', 'goes', 'at', 'him', 'You', 'just', 'want', 'me', 'to', 'nail', 'some', 'low', 'level', 'Mullahcrackadulla', 'so', 'that', 'you', 'can', 'check', 'that', 'box', 'on', 'your', 'resume', 'that', 'says', 'while', 'you', 'were', 'in', 'Pakistan', 'you', 'got', 'a', 'real', 'terrorist', 'But', 'the', 'truth', 'is', 'you', 'dont', 'understand', 'Pakistan', 'and', 'you', 'dont', 'know', 'Al', 'Qaeda', 'Either', 'give', 'me', 'the', 'team', 'need', 'to', 'follow', 'this', 'lead', 'or', 'the', 'other', 'thing', 'youre', 'gonna', 'have', 'on', 'your', 'resume', 'is', 'being', 'the', 'first', 'Station', 'Chief', 'to', 'be', 'called', 'before', 'a', 'congressional', 'committee', 'for', 'subverting', 'the', 'efforts', 'to', 'capture', 'or', 'kill', 'bin', 'Laden', 'BRADLEY', 'Youre', 'fucking', 'out', 'of', 'your', 'mind', 'need', 'four', 'techs', 'in', 'a', 'safe', 'house', 'in', 'Rawalpindi', 'and', 'four', 'techs', 'in', 'a', 'safe', 'house', 'in', 'Peshawar', 'Either', 'send', 'them', 'out', 'or', 'send', 'me', 'back', 'to', 'and', 'explain', 'to', 'the', 'Director', 'why', 'you', 'did', 'it', 'TO', 'AMERICAN', 'AMERICAN', 'NIGHT', 'Maya', 'despondent', 'sits', 'at', 'the', 'bar', 'drinking', 'a', 'beer', '64', 'Jack', 'approaches', 'Fuck', 'the', 'mom', 'we', 'got', 'the', 'man', 'himself', 'Jack', 'puts', 'a', 'cell', 'phone', 'down', 'on', 'the', 'counter', 'CONTD', 'Yesterday', 'your', 'caller', 'bought', 'himself', 'a', 'cell', 'phone', 'And', 'every', 'time', 'his', 'phone', 'rings', 'he', 'taps', 'the', 'cell', 'PHONE', 'This', 'phone', 'will', 'ring', 'Did', 'hook', 'you', 'up', 'Maya', 'throws', 'her', 'arms', 'around', 'him', 'love', 'you', 'TO', 'RAWALPINDI', 'ROAD', 'DAY', 'drives', 'his', 'team', 'around', 'the', 'narrow', 'streets', 'of', 'Rawalpindi', 'In', 'the', 'backseat', 'the', 'studies', 'his', 'laptoplike', 'tracking', 'device', 'OS', 'My', 'guess', 'is', 'that', 'he', 'lives', 'close', 'to', 'where', 'hes', 'making', 'the', 'calls', 'and', 'it', 'makes', 'sense', 'hed', 'be', 'living', 'in', 'Rawalpindi', 'because', 'theres', 'an', 'Al', 'Jezerra', 'office', 'there', 'AMERICAN', 'BRIEFING', 'We', 'focus', 'on', 'a', 'of', 'Pakistan', 'on', 'the', 'wall', 'Maya', 'is', 'indicating', 'neighborhoods', 'in', 'Rawalpindi', 'Shes', 'briefing', 'Hakim', 'and', 'a', 'few', 'other', 'people', 'It', 'would', 'be', 'convenient', 'for', 'him', 'to', 'drop', 'tapes', 'off', 'if', 'hes', 'sending', 'either', 'from', 'bin', 'Laden', 'or', 'from', 'an', 'intermediary', 'When', 'he', 'wants', 'to', 'make', 'a', 'call', 'he', 'leaves', 'the', 'house', 'walks', 'a', 'few', 'blocks', 'then', 'switches', 'on', 'the', 'phone', 'We', 'need', 'to', 'keep', 'canvassing', 'the', 'neighborhood', 'until', 'we', 'find', 'him', '65', 'RAWALPINDI', 'is', 'at', 'the', 'wheel', 'moving', 'slowly', 'through', 'a', 'dangerous', 'part', 'of', 'town', 'The', 'streets', 'narrow', 'Two', 'motorcycles', 'suddenly', 'pull', 'around', 'in', 'front', 'of', 'Larrys', 'van', 'and', 'stop', 'The', 'riders', 'pull', 'out', 'guns', 'MINIVAN', 'We', 'got', 'a', 'shooter', 'tries', 'reversing', 'but', 'a', 'compact', 'car', 'wheels', 'in', 'right', 'behind', 'them', 'and', 'slams', 'on', 'the', 'brakes', 'The', 'raises', 'an', 'Were', 'blocked', 'Let', 'me', 'talk', 'to', 'them', 'STREETS', 'RAWALPINDI', 'Hakim', 'gets', 'out', 'of', 'the', 'car', 'and', 'walks', 'toward', 'the', 'men', 'We', 'cant', 'hear', 'what', 'theyre', 'saying', 'At', 'last', 'Hakim', 'comes', 'back', 'to', 'the', 'car', 'MINIVAN', 'They', 'said', 'white', 'faces', 'dont', 'belong', 'here', 'If', 'they', 'dont', 'move', 'shoot', 'them', 'tense', 'beat', 'while', 'the', 'men', 'stare', 'then', 'finally', 'leave', 'ISLAMABAD', 'MAZE', 'DAY', 'On', 'a', 'large', 'wall', 'map', 'Maya', 'circles', 'Peshawar', 'in', 'red', 'TO', 'ROADSHIGHWAY', 'Larrys', 'speeds', 'onto', 'a', 'highway', 'weaving', 'in', 'and', 'out', 'of', 'dense', 'traffic', 'PAKISTAN', 'In', 'the', 'backseat', 'the', 'Computer', 'Tech', 'is', 'getting', 'tossed', 'around', 'trying', 'to', 'hang', 'onto', 'the', 'Geo', 'Locating', 'device', 'in', 'his', 'lap', 'The', 'Geo', 'Locator', 'starts', 'to', 'a', 'blinking', 'red', 'light', '66', 'Hes', 'east', 'of', 'us', 'Try', 'the', 'market', 'MINIVAN', 'The', 'congestion', 'thickens', 'They', 'slow', 'to', 'a', 'crawl', 'The', 'stuck', 'in', 'traffic', 'Cant', 'move', 'leaps', 'out', 'of', 'the', 'car', 'and', 'heads', 'into', 'an', 'open', 'air', 'market', 'OPEN', 'MARKET', 'Its', 'packed', 'All', 'most', 'with', 'traditional', 'beards', 'worn', 'by', 'Al', 'Qaeda', 'members', 'many', 'talking', 'on', 'cell', 'phones', 'Impossible', 'to', 'tell', 'who', 'is', 'who', 'Impossible', 'to', 'find', 'this', 'needle', 'in', 'a', 'haystack', 'TO', 'MARKET', 'AFTERNOON', 'ANOTHER', 'DAY', 'The', 'search', 'continues', 'Hakim', 'prowls', 'a', 'back', 'alley', 'Then', 'goes', 'up', 'on', 'a', 'rooftop', 'to', 'survey', 'the', 'activity', 'below', 'STREETS', 'ROAD', 'LATER', 'Hakim', 'is', 'on', 'a', 'street', 'corner', 'conducting', 'surveillance', 'We', 'follow', 'him', 'into', 'a', 'crowd', 'and', 'then', 'lose', 'sight', 'We', 'find', 'him', 'again', 'another', 'street', 'another', 'fruitless', 'search', 'As', 'Hakim', 'goes', 'from', 'street', 'to', 'street', 'we', 'hear', 'OS', 'We', 'got', 'a', 'signal', 'on', 'Tipu', 'Road', 'for', 'ten', 'minutes', 'Then', 'he', 'went', 'to', 'Umar', 'Road', 'for', 'five', 'minutes', 'Nogaza', 'Road', 'Darya', 'Abad', 'Thats', 'in', 'the', 'Umar', 'Road', 'area', 'In', 'Rawalpindi', 'Haider', 'Road', 'Roomi', 'Road', 'He', 'went', 'to', 'the', 'Convoy', 'Road', 'which', 'is', 'near', 'the', 'hospital', 'So', 'thats', 'Haider', 'Roomi', 'Road', 'Said', 'No', 'Gaza', 'Taimur', 'He', 'made', 'a', 'call', 'from', 'Haifa', 'Street', 'thats', 'the', 'spice', 'district', 'TO', 'US', 'ISLAMABAD', 'MAYAS', 'Jack', 'and', 'Maya', 'click', 'through', 'the', 'tracking', 'maps', 'on', 'her', 'computer', 'screen', '67', 'Lahore', 'street', 'which', 'is', 'also', 'in', 'Pesh', 'thirty', 'minutes', 'Wazir', 'Bag', 'Road', 'five', 'Nishterabad', 'five', 'Phandu', 'Road', 'five', 'minutes', 'the', 'Grand', 'Trunk', 'Road', 'forty', 'five', 'seconds', 'Theres', 'no', 'pattern', 'Sometimes', 'he', 'calls', 'every', 'two', 'weeks', 'sometimes', 'every', 'three', 'theres', 'no', 'consistency', 'cant', 'predict', 'when', 'hes', 'gonna', 'make', 'another', 'call', 'because', 'the', 'guys', 'erratic', 'Do', 'you', 'think', 'its', 'intentional', 'It', 'might', 'be', 'Maybe', 'it', 'just', 'looks', 'erratic', 'to', 'us', 'just', 'cant', 'tell', 'MAYAS', 'ISLAMABAD', 'Wearing', 'a', 'black', 'burkha', 'Maya', 'walks', 'into', 'her', 'house', 'and', 'sinks', 'into', 'the', 'couch', 'She', 'pulls', 'off', 'the', 'head', 'covering', 'but', 'doesnt', 'bother', 'to', 'remove', 'the', 'burkha', 'She', 'switches', 'on', 'the', 'TV', 'If', 'you', 'didnt', 'know', 'her', 'better', 'youd', 'think', 'shed', 'gone', 'native', 'AMERICAN', 'ISLAMABAD', 'Find', 'Maya', 'driving', 'up', 'to', 'a', 'check', 'point', 'mobbed', 'with', 'carrying', 'signs', 'Joseph', 'SPY', 'is', 'etc', 'OS', 'Meanwhile', 'our', 'chief', 'foreign', 'correspondent', 'Engel', 'confirms', 'the', 'CIAs', 'top', 'spy', 'in', 'Pakistan', 'has', 'been', 'pulled', 'out', 'of', 'there', 'MAYAS', 'The', 'have', 'blocked', 'the', 'embassy', 'check', 'point', 'Its', 'going', 'to', 'take', 'a', 'long', 'time', 'to', 'get', 'through', 'OS', 'Hes', 'been', 'receiving', 'death', 'threats', 'after', 'being', 'named', 'publicly', 'in', 'a', 'lawsuit', 'by', 'the', 'family', 'of', 'a', 'victim', 'of', 'a', 'US', 'drone', 'attack', '68', 'MAYAS', 'Several', 'protesters', 'notice', 'her', 'they', 'move', 'to', 'her', 'car', 'and', 'start', 'banging', 'on', 'it', 'TO', 'AMERICAN', 'STATION', 'OFFICE', 'LATER', 'Maya', 'and', 'and', 'several', 'other', 'watch', 'the', 'protest', 'through', 'a', 'window', 'AMERICAN', 'EMBASSY', 'The', 'grows', 'larger', 'and', 'more', 'unruly', 'STATION', 'OFFICE', 'ISI', 'fucked', 'you', 'Im', 'so', 'sorry', 'Joseph', 'Its', 'the', 'first', 'time', 'shes', 'addressed', 'him', 'by', 'his', 'first', 'name', 'Startling', 'to', 'hear', 'kindness', 'in', 'her', 'voice', 'Joseph', 'turns', 'to', 'reply', 'then', 'thinks', 'better', 'of', 'it', 'and', 'walks', 'away', 'TO', 'MINIVAN', 'STREETS', 'OF', 'PESHAWAR', 'MORNING', 'Larrys', 'minivan', 'chugs', 'through', 'the', 'crowded', 'markets', 'Still', 'on', 'tower', 'three', 'Five', 'Signal', 'getting', 'stronger', 'Ten', 'continues', 'driving', 'straight', 'down', 'the', 'main', 'road', 'CONTD', 'Fifteen', 'Ten', 'Signals', 'getting', 'weaker', 'We', 'lost', 'him', 'no', 'signal', 'Heading', 'South', 'The', 'van', 'passes', 'horsedrawn', 'carts', 'men', 'on', 'cell', 'phones', 'fruit', 'stands', 'The', 'Tech', 'studies', 'his', 'screen', '69', 'Hes', 'up', 'at', 'five', 'again', 'Fifteen', 'Twenty', 'Weaker', 'now', 'hes', 'shifted', 'Were', 'back', 'to', 'five', 'dont', 'get', 'it', 'Hes', 'driving', 'in', 'circles', 'now', 'drives', 'very', 'fast', 'back', 'to', 'the', 'main', 'road', 'CONTD', 'No', 'change', 'No', 'ROAD', 'And', 'now', 'stops', 'in', 'the', 'middle', 'of', 'the', 'market', 'Lets', 'hope', 'he', 'comes', 'back', 'around', 'Beat', 'Twenty', 'Thirty', 'Forty', 'Fifty', 'were', 'within', 'ten', 'meters', 'of', 'him', 'scans', 'the', 'street', 'sees', 'a', 'half', 'dozen', 'guys', 'on', 'cell', 'phones', 'TECH', 'CONTD', 'Hes', 'really', 'close', 'Look', 'at', 'the', 'cars', 'Hes', 'in', 'a', 'vehicle', 'spots', 'something', 'CONTD', 'The', 'guy', 'with', 'the', 'phone', 'in', 'the', 'white', 'They', 'snap', 'a', 'photograph', 'of', 'a', 'CONTD', 'Is', 'that', 'him', 'TECH', 'Could', 'be', '70', 'You', 'got', 'him', 'TECH', 'got', 'him', 'Im', 'breaking', 'off', 'The', 'grey', 'minivan', 'pulls', 'away', 'TO', 'AMERICAN', 'EMBASSY', 'MAYAS', 'DAY', 'Larrys', 'photograph', 'of', 'the', 'plops', 'on', 'Mayas', 'desk', 'Is', 'this', 'what', 'think', 'it', 'is', 'LARRY', 'The', 'guy', 'youve', 'been', 'looking', 'for', 'geo', 'located', 'on', 'his', 'cell', 'phone', 'in', 'his', 'white', 'car', 'Thank', 'you', 'LARRY', 'If', 'youre', 'right', 'the', 'whole', 'worlds', 'gonna', 'want', 'in', 'on', 'this', 'so', 'you', 'gotta', 'stick', 'to', 'your', 'guns', 'now', 'TO', 'AMERICAN', 'EMBASSY', 'SECTION', 'STATION', 'OFFICE', 'The', 'new', 'Chief', 'of', 'Station', 'barely', 'looks', 'up', 'from', 'his', 'desk', 'as', 'Maya', 'enters', 'PHONE', 'Im', 'amazed', 'that', 'youre', 'still', 'here', 'looks', 'at', 'his', 'watch', 'PHONE', 'When', 'can', 'we', 'grab', 'lunch', 'He', 'sees', 'that', 'Maya', 'who', 'hovers', 'annoyingly', 'over', 'his', 'desk', 'isnt', 'gonna', 'wait', 'need', 'a', 'picket', 'line', 'along', 'the', 'highway', 'and', 'men', 'spaced', 'at', 'intervals', 'along', 'the', 'road', 'and', 'at', 'every', 'exit', '71', 'Maya', 'know', 'So', 'you', 'agree', 'with', 'me', 'now', 'This', 'is', 'important', 'No', 'Ive', 'just', 'learned', 'from', 'my', 'predecessor', 'that', 'life', 'is', 'better', 'when', 'dont', 'disagree', 'with', 'you', 'TO', 'GRAND', 'ROAD', 'PAKISTAN', 'DAY', 'two', 'lane', 'highway', 'Tucked', 'on', 'the', 'side', 'of', 'the', 'road', 'is', 'an', 'MAN', 'with', 'a', 'cart', 'of', 'mangoes', 'VO', 'Our', 'current', 'hypothesis', 'is', 'that', 'he', 'lives', 'somewhere', 'along', 'the', 'highway', 'in', 'one', 'of', 'the', 'towns', 'or', 'a', 'medium', 'sized', 'city', 'called', 'Abbottabod', 'or', 'up', 'near', 'Kashmir', 'mango', 'cart', 'Nestled', 'among', 'the', 'fruit', 'is', 'a', 'BLACK', 'FARTHER', 'GRAND', 'ROADHIGHWAY', 'Squatting', 'in', 'the', 'dirt', 'near', 'a', 'bus', 'stop', 'is', 'another', 'MAN', 'watching', 'passengers', 'disembark', 'from', 'a', 'bus', 'VO', 'Kashmir', 'is', 'interesting', 'because', 'its', 'a', 'way', 'station', 'for', 'the', 'Tribals', 'We', 'stay', 'with', 'the', 'old', 'man', 'for', 'a', 'while', 'At', 'last', 'the', 'white', 'drives', 'past', 'He', 'makes', 'a', 'note', 'in', 'his', 'pad', 'TO', 'HIGHWAY', 'EXIT', 'DAY', 'nut', 'seller', 'another', 'CIA', 'look', 'out', 'scoops', 'a', 'handful', 'of', 'nuts', 'into', 'a', 'bag', 'for', 'a', 'as', 'he', 'keeps', 'an', 'eye', 'on', 'exiting', 'the', 'highway', 'He', 'takes', 'note', 'as', 'the', 'white', 'POTAHAR', 'passes', 'him', '72', 'VO', 'Abbottabod', 'is', 'interesting', 'because', 'we', 'know', 'from', 'detainee', 'reporting', 'that', 'Faraj', 'stayed', 'there', 'briefly', 'in', '2003', 'TO', 'PAKISTANI', 'STREET', 'DAY', 'The', 'street', 'is', 'filled', 'with', 'compact', 'cars', 'VO', 'The', 'good', 'news', 'is', 'hes', 'driving', 'a', 'white', 'SUVs', 'are', 'actually', 'pretty', 'rare', 'in', 'Pakistan', 'If', 'he', 'was', 'driving', 'a', 'sedan', 'or', 'a', 'compact', 'wed', 'be', 'fucked', 'TO', 'AMERICAN', 'EMBASSY', 'CIA', 'SECTION', 'MAYAS', 'CUBICLE', 'NIGHT', 'VO', 'Obviously', 'this', 'assumes', 'he', 'doesnt', 'change', 'vehicles', 'Maya', 'at', 'her', 'desk', 'working', 'and', 'we', 'realize', 'that', 'she', 'has', 'been', 'typing', 'all', 'this', 'in', 'a', 'cable', 'she', 'will', 'email', 'to', 'Washington', 'TO', 'MAYAS', 'BUILDING', 'ISLAMABAD', 'PRE', 'The', 'building', 'GUARD', 'sees', 'Maya', 'heading', 'out', 'to', 'her', 'car', 'GUARD', 'Good', 'morning', 'Good', 'morning', 'Amad', 'Maya', 'gets', 'in', 'her', 'car', 'The', 'gate', 'opens', 'As', 'she', 'starts', 'pulling', 'out', 'onto', 'the', 'street', 'suddenly', 'a', 'car', 'drives', 'up', 'in', 'front', 'of', 'her', 'and', 'come', 'out', 'and', 'hammer', 'Mayas', 'Toyota', 'MAYAS', 'Bullets', 'spider', 'webbing', 'the', 'glass', 'as', 'Maya', 'slams', 'the', 'car', 'into', 'reverse', 'MAYAS', 'Mayas', 'guard', 'starts', 'returning', 'fire', 'but', 'his', 'aim', 'is', 'terrible', 'SHOOTERS', 'bear', 'down', 'on', 'Maya', 'pumping', 'bullets', 'into', 'her', 'armored', 'car', '73', 'The', 'gate', 'closes', 'saving', 'her', 'at', 'the', 'last', 'possible', 'moment', 'MAYAS', 'Maya', 'shakes', 'inside', 'her', 'vehicle', 'PRELAP', 'Any', 'American', 'in', 'Pakistan', 'is', 'a', 'target', 'they', 'dont', 'necessarily', 'know', 'Im', 'CIA', 'TO', 'AMERICAN', 'EMBASSY', 'STATION', 'CHIEFS', 'OFFICE', 'ISLAMABAD', 'MORNING', 'ALEXANDER', 'Doesnt', 'matter', 'Youre', 'on', 'a', 'list', 'Next', 'time', 'there', 'might', 'not', 'be', 'bulletproof', 'glass', 'to', 'save', 'you', 'Yeah', 'ALEXANDER', 'And', 'you', 'of', 'all', 'people', 'should', 'know', 'that', 'once', 'you', 'are', 'on', 'their', 'list', 'you', 'never', 'get', 'off', 'Well', 'keep', 'up', 'on', 'the', 'surveillance', 'as', 'best', 'we', 'can', 'TO', 'RESIDENTIAL', 'PAKISTAN', 'DAY', 'Hakim', 'paces', 'on', 'a', 'street', 'as', 'the', 'POTAHAR', 'weve', 'been', 'following', 'drives', 'past', 'him', 'Hakim', 'watches', 'the', 'vehicle', 'enter', 'a', 'gated', 'TO', 'CIA', 'PREDATOR', 'LANGLEY', 'The', 'Langley', 'Predator', 'Bay', 'is', 'an', 'impressive', 'sight', 'a', 'command', 'center', 'bristling', 'with', 'hightech', 'equipment', 'The', 'room', 'is', 'filled', 'with', 'George', 'is', 'in', 'the', 'center', 'where', 'he', 'belongs', 'directing', 'traffic', 'People', 'come', 'up', 'and', 'give', 'him', 'new', 'pieces', 'of', 'information', 'The', 'big', 'screen', 'displays', 'a', 'single', 'image', 'The', 'overhead', 'satellite', 'image', 'of', 'the', 'compound', 'in', 'Abbottabod', '74', 'PREDATOR', 'CIA', 'From', 'the', 'back', 'of', 'the', 'room', 'Maya', 'enters', 'and', 'watches', 'the', 'activity', 'unfold', 'without', 'her', 'without', 'her', 'input', 'George', 'notices', 'her', 'gives', 'a', 'thumbs', 'up', 'and', 'then', 'turns', 'back', 'to', 'his', 'troops', 'early', '40s', 'a', 'senior', 'manager', 'and', 'one', 'of', 'Georges', 'top', 'deputies', 'joins', 'Maya', 'Basically', 'we', 'had', 'a', 'guy', 'who', 'rolled', 'with', 'Al', 'Qaeda', 'and', 'did', 'services', 'for', 'them', 'We', 'lost', 'him', 'for', 'seven', 'years', 'and', 'now', 'we', 'found', 'him', 'again', 'and', 'boy', 'does', 'he', 'have', 'a', 'really', 'nice', 'house', 'Is', 'that', 'it', 'Pretty', 'much', 'Okay', 'lets', 'go', 'talk', 'to', 'the', 'boss', 'TO', 'LANGLEY', 'BRIEFING', 'Maya', 'and', 'are', 'the', 'first', 'to', 'arrive', 'in', 'the', 'wood', 'panelled', 'conference', 'room', 'detailed', 'TOP', 'of', 'the', 'compound', 'sits', 'in', 'the', 'center', 'of', 'the', 'conference', 'table', 'right', 'next', 'to', 'a', 'postersized', 'satellite', 'image', 'of', 'the', 'compound', 'She', 'starts', 'to', 'sit', 'in', 'one', 'of', 'the', 'chairs', 'GENTLE', 'You', 'should', 'sit', 'back', 'theresorry', 'points', 'her', 'to', 'the', 'back', 'of', 'the', 'room', 'CONTD', 'Theyre', 'gonna', 'ask', 'if', 'bin', 'Laden', 'is', 'at', 'the', 'end', 'of', 'this', 'rainbow', 'is', 'the', 'Pak', 'military', 'with', 'him', 'The', 'question', 'isnt', 'are', 'the', 'Paks', 'protecting', 'bin', 'Laden', '75', 'CONTD', 'The', 'question', 'is', 'would', 'he', 'allow', 'himself', 'to', 'be', 'protected', 'by', 'the', 'Paks', 'I', 'mean', 'why', 'would', 'he', 'trust', 'them', 'He', 'tried', 'to', 'kill', 'Musharaf', 'considers', 'a', 'reply', 'but', 'the', 'meeting', 'principals', 'are', 'filing', 'in', 'including', 'and', 'when', 'sees', 'the', 'CIA', 'DIRECTOR', 'enter', 'the', 'room', 'he', 'clears', 'the', 'head', 'of', 'the', 'table', 'CIA', 'DIRECTOR', 'Go', 'ahead', 'If', 'you', 'take', 'a', 'right', 'out', 'of', 'Islamabad', 'and', 'drive', 'about', 'fortyfive', 'minutes', 'North', 'youll', 'find', 'yourself', 'here', 'in', 'Abbottabad', 'middle', 'class', 'community', 'some', 'exmilitary', 'not', 'particularly', 'interesting', 'to', 'us', 'Except', 'we', 'did', 'find', 'this', 'compound', 'which', 'is', 'unique', 'We', 'got', 'a', 'sixteen', 'foot', 'wall', 'around', 'the', 'entire', 'perimeter', 'the', 'windows', 'are', 'blacked', 'out', 'Its', 'a', 'fortress', 'CIA', 'DIRECTOR', 'Cant', 'you', 'put', 'a', 'camera', 'somewhere', 'in', 'the', 'trees', 'to', 'get', 'a', 'look', 'into', 'the', 'main', 'house', 'It', 'will', 'probably', 'be', 'discovered', 'CIA', 'DIRECTOR', 'We', 'have', 'to', 'get', 'a', 'look', 'into', 'the', 'house', 'The', 'Director', 'moves', 'to', 'the', 'satellite', 'image', 'CIA', 'DIRECTOR', 'CONTD', 'Alright', 'whats', 'this', 'This', 'cluster', 'of', 'buildings', 'down', 'here', 'The', 'The', 'Pakistan', 'Military', 'Academy', 'Its', 'their', 'West', 'Point', 'CIA', 'DIRECTOR', 'And', 'how', 'close', 'is', 'that', 'to', 'the', 'house', 'About', 'a', 'mile', 'WOMANS', 'voice', 'from', 'the', 'back', 'of', 'the', 'room', '76', 'OS', '4221', 'feet', 'Its', 'closer', 'to', 'eight', 'tenths', 'of', 'a', 'mile', 'CIA', 'DIRECTOR', 'Who', 'are', 'you', 'Im', 'the', 'motherfucker', 'that', 'found', 'this', 'place', 'Sir', 'The', 'boss', 'studies', 'her', 'for', 'a', 'moment', 'then', 'turns', 'back', 'to', 'the', 'model', 'CIA', 'DIRECTOR', 'I', 'want', 'to', 'know', 'more', 'about', 'whos', 'inside', 'this', 'house', 'by', 'the', 'end', 'of', 'the', 'week', 'The', 'brass', 'files', 'out', 'leaving', 'and', 'Maya', 'Motherfucker', 'Really', 'TO', 'CIA', 'AFPAK', 'DAY', 'Maya', 'sits', 'at', 'her', 'desk', 'frustrated', 'then', 'walks', 'down', 'the', 'aisle', 'of', 'cubicles', 'to', 'the', 'glass', 'wall', 'of', 'Georges', 'office', 'She', 'grabs', 'a', 'red', 'marker', 'through', 'the', 'glass', 'Morning', 'George', 'In', 'red', 'magic', 'marker', 'Maya', 'writes', 'the', 'number', '21', 'on', 'the', 'glass', 'Then', 'circles', 'it', 'George', 'looks', 'up', 'CONTD', 'Twentyone', 'days', 'Its', 'been', 'twenty', 'one', 'days', 'since', 'we', 'found', 'the', 'house', 'and', 'nothings', 'happened', 'CIA', 'PREDATOR', 'NIGHT', 'We', 'see', 'a', 'dronefed', 'overhead', 'of', 'the', 'bin', 'Laden', 'house', 'in', 'real', 'time', 'with', 'a', 'resolution', 'of', '100', 'feet', 'Maya', 'stares', 'at', 'the', 'screen', 'trying', 'to', 'decipher', 'the', 'shapes', 'moving', 'beneath', 'her', 'thousands', 'of', 'miles', 'away', '77', 'The', 'move', 'in', 'increments', 'shadows', 'lengthen', 'TO', 'CIA', 'AFPAK', 'DAY', 'Maya', 'erases', 'the', '51', 'on', 'Georges', 'wall', 'and', 'replaces', 'it', 'with', '52', 'George', 'looks', 'away', 'CIA', 'MAYAS', 'LATER', 'Maya', 'sits', 'at', 'her', 'desk', 'Her', 'phone', 'rings', 'PHONE', 'Yeah', 'CIA', 'PREDATOR', 'stares', 'at', 'drone', 'image', 'of', 'the', 'which', 'is', 'under', 'the', 'joystick', 'control', 'of', 'an', 'Swing', 'by', 'I', 'want', 'to', 'show', 'you', 'something', 'CIA', 'MAYAS', 'DESK', 'Maya', 'jumps', 'up', 'from', 'her', 'desk', 'CIA', 'PREDATOR', 'BAY', 'MOMENTS', 'LATER', 'Maya', 'walks', 'in', 'shows', 'her', 'images', 'on', 'the', 'large', 'monitor', 'This', 'is', 'from', 'a', 'few', 'minutes', 'ago', 'Weve', 'got', 'two', 'males', 'two', 'females', 'and', 'seven', 'kids', 'Maya', 'points', 'to', 'one', 'of', 'the', 'shapes', 'in', 'the', 'courtyard', 'Whos', 'that', 'Im', 'saying', 'thats', 'Bushra', 'The', 'brothers', 'wife', 'How', 'do', 'you', 'know', 'the', 'gender', '78', 'points', 'on', 'screen', 'to', 'a', 'thin', 'line', 'This', 'is', 'a', 'clothesline', 'here', 'for', 'laundry', 'Men', 'dont', 'mess', 'with', 'the', 'wash', 'We', 'watch', 'that', 'shape', 'move', 'away', 'from', 'the', 'clothesline', 'and', 'back', 'to', 'the', 'house', 'CONTD', 'It', 'takes', 'her', 'about', 'four', 'seconds', 'to', 'move', 'from', 'there', 'to', 'the', 'front', 'door', 'So', 'shes', 'on', 'the', 'older', 'side', 'Whats', 'that', 'up', 'there', 'pointing', 'to', 'the', 'other', 'Those', 'are', 'kids', 'Theyre', 'shuffling', 'around', 'swordfighting', 'or', 'something', 'with', 'sticks', 'AGAIN', 'You', 'can', 'see', 'their', 'height', 'relative', 'to', 'this', 'these', 'are', 'cows', 'so', 'theyre', 'probably', 'between', 'seven', 'and', 'nine', 'Boys', 'Another', 'comes', 'out', 'of', 'the', 'house', 'and', 'moves', 'to', 'the', 'clothes', 'line', 'and', 'grabs', 'some', 'laundry', 'Your', 'female', 'is', 'moving', 'fast', 'Thats', 'what', 'I', 'wanted', 'to', 'show', 'you', 'to', 'the', 'Imagery', 'TECHNICIAN', 'Can', 'we', 'pause', 'this', 'please', 'TO', 'Thats', 'not', 'the', 'same', 'lady', 'Thats', 'female', '3', 'So', 'you', 'found', 'two', 'males', 'three', 'females', 'STEVE', 'Thats', 'correct', 'Maya', 'suddenly', 'gets', 'it', '79', 'Youre', 'missing', 'a', 'male', 'STEVE', 'Yes', 'we', 'are', 'Wow', 'COUNCIL', 'George', 'is', 'on', 'one', 'side', 'of', 'a', 'conference', 'table', 'on', 'the', 'other', 'side', 'is', 'the', 'THE', 'TO', 'THE', 'SECURITY', 'and', 'the', 'SECURITY', 'If', 'there', 'are', 'three', 'females', 'there', 'ought', 'to', 'be', 'three', 'males', 'Observant', 'Muslim', 'women', 'either', 'live', 'with', 'parents', 'or', 'with', 'their', 'husbands', 'We', 'think', 'theres', 'a', 'third', 'family', 'living', 'in', 'the', 'house', 'SITUATION', 'THE', 'WHITE', 'SECURITY', 'So', 'this', 'third', 'male', 'that', 'youve', 'identified', 'as', 'possibly', 'being', 'bin', 'Laden', 'do', 'I', 'just', 'give', 'up', 'all', 'hope', 'of', 'ever', 'seeing', 'a', 'photograph', 'of', 'him', 'Hope', 'Hope', 'is', 'not', 'a', 'targeting', 'layer', 'You', 'give', 'up', 'your', 'hope', 'right', 'now', 'We', 'scanned', 'for', 'heat', 'signatures', 'but', 'we', 'cant', 'validate', 'if', 'its', 'a', 'man', 'or', 'a', 'woman', 'up', 'there', 'We', 'found', 'a', 'safe', 'house', 'but', 'we', 'cant', 'get', 'a', 'vantage', 'point', 'to', 'fire', 'a', 'telescope', 'over', 'the', 'balcony', 'wall', 'ABBOTTABAD', 'MORNING', 'DOCTOR', 'comes', 'to', 'the', 'compound', 'offering', 'immunizations', 'One', 'of', 'the', 'women', 'lets', 'him', 'in', 'and', 'he', 'offers', 'polio', 'vaccines', 'to', 'the', 'children', 'We', 'talked', 'about', 'burrowing', 'a', 'pin', 'hole', 'camera', 'but', 'theres', 'a', 'high', 'risk', 'of', 'discovery', '80', 'CONTD', 'We', 'have', 'explored', 'the', 'possibility', 'of', 'digging', 'tunnels', 'of', 'sending', 'hot', 'air', 'balloons', 'of', 'rerouting', 'supply', '130s', 'to', 'take', 'a', 'peek', 'but', 'that', 'might', 'be', 'too', 'alerting', 'Weve', 'looked', 'for', 'ways', 'of', 'collecting', 'available', 'from', 'his', 'trash', 'you', 'know', 'looking', 'for', 'his', 'toothbrush', 'but', 'they', 'burn', 'the', 'trash', 'We', 'started', 'a', 'vaccination', 'program', 'we', 'sent', 'a', 'doctor', 'to', 'the', 'house', 'to', 'see', 'if', 'he', 'could', 'pull', 'blood', 'lady', 'in', 'a', 'black', 'burkha', 'rushes', 'out', 'and', 'angrily', 'shoos', 'the', 'doctor', 'away', 'CONTD', 'That', 'didnt', 'work', 'out', 'We', 'thought', 'about', 'sending', 'a', 'guy', 'with', 'a', 'bucket', 'to', 'pull', 'a', 'sample', 'from', 'the', 'sewer', 'to', 'analyze', 'his', 'fecal', 'matter', 'ASSISTANT', 'TO', 'THE', 'What', 'was', 'wrong', 'with', 'that', 'exactly', 'He', 'looks', 'up', 'What', 'was', 'wrong', 'with', 'that', 'The', 'sample', 'would', 'be', 'too', 'diluted', 'SECURITY', 'And', 'its', 'asking', 'too', 'much', 'to', 'get', 'a', 'voice', 'confirmation', 'with', 'him', 'on', 'the', 'phone', 'They', 'dont', 'make', 'telephone', 'calls', 'from', 'the', 'compound', 'We', 'pulled', 'the', 'cell', 'tower', 'nearby', 'SECURITY', 'And', 'Im', 'also', 'going', 'to', 'give', 'up', 'hope', 'that', 'he', 'might', 'ever', 'get', 'in', 'that', 'white', 'SUV', 'and', 'drive', 'around', 'a', 'bit', 'and', 'we', 'could', 'see', 'him', 'Dont', 'they', 'get', 'groceries', 'The', 'unidentified', 'third', 'male', 'does', 'not', 'get', 'groceries', 'He', 'does', 'not', 'leave', 'the', 'compound', 'He', 'does', 'not', 'present', 'himself', 'for', 'photographs', '81', 'CONTD', 'When', 'he', 'needs', 'fresh', 'air', 'he', 'paces', 'around', 'beneath', 'a', 'grape', 'arbor', 'but', 'the', 'leaves', 'are', 'so', 'thick', 'they', 'obscure', 'our', 'satellite', 'views', 'This', 'is', 'a', 'professional', 'attempt', 'to', 'avoid', 'detection', 'real', 'tradecraft', 'The', 'only', 'people', 'weve', 'seen', 'behave', 'this', 'way', 'are', 'other', 'top', 'level', 'Al', 'Qaeda', 'operatives', 'The', 'National', 'Security', 'Advisor', 'nods', 'to', 'his', 'Special', 'Assistant', 'who', 'slides', 'a', 'big', 'folder', 'across', 'his', 'desk', 'to', 'George', 'SECURITY', 'We', 'did', 'a', 'Red', 'Team', 'on', 'your', 'analysis', 'According', 'to', 'them', 'this', 'behavior', 'could', 'belong', 'to', 'someone', 'other', 'than', 'Al', 'Qaeda', 'SECURITY', 'They', 'did', 'give', 'a', 'forty', 'percent', 'chance', 'that', 'the', 'unidentified', 'third', 'man', 'is', 'a', 'senior', 'Al', 'Qaeda', 'operative', 'But', 'they', 'also', 'said', 'theres', 'a', 'thirtyfive', 'percent', 'chance', 'hes', 'a', 'Saudi', 'drug', 'reading', 'from', 'the', 'fifteen', 'percent', 'chance', 'that', 'hes', 'a', 'Kuwaiti', 'arms', 'smuggler', 'a', 'ten', 'percent', 'chance', 'that', 'hes', 'one', 'of', 'the', 'relatives', 'of', 'the', 'brothers', 'SPECIAL', 'ASSISTANT', 'TO', 'THE', 'Basically', 'we', 'agree', 'with', 'you', 'the', 'house', 'screams', 'security', 'it', 'screams', 'someone', 'who', 'wants', 'privacy', 'it', 'even', 'screams', 'bad', 'guy', 'but', 'it', 'does', 'not', 'scream', 'bin', 'Laden', 'SECURITY', 'You', 'get', 'the', 'point', 'If', 'you', 'cant', 'prove', 'its', 'bin', 'Laden', 'at', 'least', 'prove', 'its', 'not', 'somebody', 'else', 'like', 'a', 'drug', 'dealer', 'Beat', 'The', 'meeting', 'is', 'adjourned', 'As', 'they', 'walk', 'out', '82', 'You', 'know', 'we', 'lost', 'our', 'ability', 'to', 'prove', 'that', 'when', 'we', 'lost', 'the', 'detainee', 'program', 'BEAT', 'Who', 'the', 'hell', 'am', 'I', 'supposed', 'to', 'ask', 'Some', 'guy', 'in', 'Gitmo', 'who', 'is', 'all', 'lawyered', 'up', 'Hell', 'just', 'tell', 'his', 'lawyer', 'to', 'warn', 'bin', 'Laden', 'SECURITY', 'Youll', 'think', 'of', 'something', 'TO', 'CIA', 'AFPAK', 'DAY', 'Maya', 'is', 'back', 'at', 'Georges', 'office', 'keeping', 'track', 'of', 'time', 'for', 'us', 'by', 'writing', 'each', 'passing', 'day', 'on', 'the', 'window', 'of', 'Georges', 'office', 'We', 'watch', 'as', 'she', 'erases', 'the', 'numbers', 'in', 'red', 'and', 'writes', 'new', 'ones', '78', 'Time', 'passes', '98', '99', '100', '100', 'days', 'She', 'underscores', 'the', 'numerals', 'in', 'thick', 'magic', 'marker', 'TO', 'WHITE', 'SECURITY', 'COUNCIL', 'DAY', 'The', 'same', 'group', 'around', 'the', 'same', 'conference', 'table', 'Hed', 'be', 'the', 'first', 'successful', 'drug', 'dealer', 'never', 'to', 'have', 'dealt', 'drugs', 'He', 'has', 'no', 'internet', 'access', 'to', 'the', 'house', 'He', 'makes', 'no', 'phone', 'calls', 'either', 'in', 'or', 'out', 'Whos', 'he', 'selling', 'to', 'whos', 'he', 'buying', 'from', 'hows', 'he', 'making', 'his', 'money', 'And', 'if', 'youre', 'going', 'to', 'say', 'hes', 'retired', 'Id', 'say', 'wheres', 'his', 'swimming', 'pool', 'wheres', 'the', 'gold', 'cage', 'with', 'the', 'falcons', 'And', 'why', 'does', 'he', 'send', 'his', 'courier', 'to', 'the', 'two', 'cities', 'in', 'Pakistan', 'we', 'most', 'associate', 'with', 'Al', 'Qaeda', 'that', 'have', 'nothing', 'particularly', 'to', 'do', 'with', 'heroin', 'production', 'The', 'National', 'Security', 'Advisor', 'taps', 'his', 'pencil', 'impatiently', '83', 'NATIONAL', 'SECURITY', 'The', 'President', 'is', 'a', 'thoughtful', 'analytical', 'guy', 'He', 'needs', 'proof', 'TO', 'WHITE', 'The', 'National', 'Security', 'Advisor', 'and', 'his', 'team', 'file', 'out', 'George', 'approaches', 'I', 'have', 'to', 'admit', 'I', 'just', 'dont', 'get', 'the', 'rhythms', 'of', 'politics', 'NATIONAL', 'SECURITY', 'You', 'think', 'this', 'is', 'political', 'If', 'this', 'was', 'political', 'wed', 'be', 'having', 'this', 'conversation', 'in', 'October', 'when', 'theres', 'an', 'election', 'bump', 'This', 'is', 'pure', 'risk', 'Based', 'on', 'deductive', 'reasoning', 'inference', 'supposition', 'and', 'the', 'only', 'human', 'reporting', 'you', 'have', 'is', 'six', 'years', 'old', 'from', 'detainees', 'who', 'are', 'questioned', 'under', 'duress', 'The', 'political', 'move', 'here', 'is', 'to', 'tell', 'you', 'to', 'go', 'fuck', 'yourself', 'and', 'remind', 'you', 'that', 'I', 'was', 'in', 'the', 'room', 'when', 'your', 'old', 'boss', 'pitched', 'Iraqat', 'least', 'there', 'you', 'guys', 'brought', 'photographs', 'You', 'know', 'youre', 'right', 'I', 'agree', 'with', 'everything', 'you', 'just', 'said', 'What', 'I', 'meant', 'was', 'a', 'man', 'in', 'your', 'position', 'how', 'do', 'you', 'evaluate', 'the', 'risk', 'of', 'not', 'doing', 'something', 'the', 'risk', 'of', 'potentially', 'letting', 'bin', 'Laden', 'slip', 'through', 'your', 'fingers', 'George', 'shakes', 'his', 'head', 'with', 'an', 'aww', 'shucks', 'kind', 'of', 'shake', 'CONTD', 'That', 'is', 'a', 'fascinating', 'question', 'George', 'walks', 'away', 'After', 'a', 'beat', 'the', 'National', 'Security', 'advisor', 'calls', 'after', 'him', 'NATIONAL', 'SECURITY', 'ADVISOR', 'Hey', 'George', 'turns', 'around', 'The', 'National', 'Security', 'Advisor', 'approaches', 'him', '84', 'NATIONAL', 'SECURITY', 'ADVISOR', 'CONTD', 'lowering', 'his', 'voice', 'Im', 'not', 'saying', 'were', 'gonna', 'do', 'it', 'But', 'the', 'President', 'wants', 'to', 'know', 'if', 'we', 'were', 'going', 'to', 'act', 'how', 'would', 'we', 'do', 'it', 'Give', 'us', 'options', 'TO', 'AIR', 'DAY', 'SUPERIMPOSE', 'AREA', '51', 'NEVADA', 'Doors', 'of', 'a', 'HANGAR', 'open', 'in', 'front', 'of', 'a', 'large', 'crowd', 'that', 'includes', 'several', 'White', 'House', 'guys', 'a', 'General', 'and', 'a', 'squadron', 'of', 'Navy', 'SEALs', 'including', 'and', 'some', 'members', 'of', 'the', 'AfPak', 'department', 'George', 'Hakim', 'and', 'of', 'course', 'Maya', 'The', 'doors', 'grind', 'open', 'to', 'reveal', 'I', 'actually', 'tried', 'to', 'kill', 'this', 'program', 'a', 'couple', 'of', 'times', 'Theyve', 'gone', 'through', 'an', 'initial', 'round', 'of', 'testing', 'and', 'they', 'have', 'excellent', 'radar', 'defeat', 'we', 'just', 'havent', 'tested', 'them', 'with', 'people', 'in', 'them', 'yet', 'The', 'General', 'continues', 'his', 'briefing', 'GENERAL', 'CONTD', 'Youll', 'notice', 'these', 'stealth', 'panels', 'similar', 'to', 'what', 'we', 'use', 'on', 'the', 'pointing', 'to', 'the', 'rotors', 'The', 'rotors', 'have', 'been', 'muffled', 'with', 'decibel', 'killers', 'its', 'slower', 'than', 'a', 'Blackhawk', 'and', 'lacks', 'the', 'offense', 'But', 'it', 'can', 'hide', 'Excuse', 'me', 'Can', 'I', 'ask', 'a', 'question', 'What', 'do', 'we', 'need', 'this', 'for', 'in', 'Libya', 'Gaddafis', 'antiair', 'is', 'virtually', 'non', 'existent', 'Maya', 'looks', 'over', 'not', 'sure', 'what', 'to', 'say', 'Gentlemen', 'can', 'I', 'have', 'your', 'attention', 'My', 'name', 'is', 'George', 'I', 'run', 'the', 'AfPak', 'division', 'at', 'and', 'Im', 'primary', 'on', 'this', 'for', 'the', 'agency', 'This', 'is', 'a', 'title', 'fifty', 'operation', '85', 'CONTD', 'Some', 'of', 'us', 'have', 'worked', 'together', 'before', 'This', 'is', 'a', 'good', 'one', 'Maya', 'do', 'you', 'want', 'to', 'brief', 'them', 'Maya', 'looks', 'at', 'the', 'SEALs', 'Folds', 'her', 'arms', 'This', 'isnt', 'going', 'to', 'be', 'easy', 'There', 'are', 'two', 'narratives', 'about', 'the', 'location', 'of', 'Osama', 'bin', 'Laden', 'This', 'registers', 'on', 'the', 'SEALs', 'CONTD', 'The', 'one', 'that', 'youre', 'most', 'familiar', 'with', 'is', 'that', 'is', 'hiding', 'in', 'a', 'cave', 'in', 'the', 'Tribal', 'Areas', 'that', 'hes', 'surrounded', 'by', 'a', 'large', 'contingent', 'of', 'loyal', 'fighters', 'Beat', 'CONTD', 'But', 'that', 'narrative', 'is', 'pre', '911', 'understanding', 'of', 'The', 'second', 'narrative', 'is', 'that', 'hes', 'living', 'in', 'a', 'city', 'living', 'in', 'a', 'city', 'with', 'multiple', 'points', 'of', 'egress', 'and', 'entries', 'and', 'with', 'access', 'to', 'communications', 'so', 'that', 'he', 'can', 'keep', 'in', 'touch', 'with', 'the', 'organization', 'You', 'cant', 'run', 'a', 'global', 'network', 'of', 'inter', 'connected', 'cells', 'from', 'a', 'cave', 'Beat', 'CONTD', 'Weve', 'located', 'an', 'individual', 'we', 'believe', 'based', 'on', 'detainee', 'reporting', 'is', 'bin', 'Ladens', 'courier', 'Hes', 'living', 'in', 'a', 'house', 'in', 'Abbottabod', 'Pakistan', 'And', 'we', 'assess', 'that', 'one', 'of', 'the', 'other', 'occupants', 'of', 'the', 'house', 'is', 'Excuse', 'me', 'You', 'got', 'an', 'intel', 'source', 'on', 'the', 'ground', 'No', '86', 'No', 'Okay', 'so', 'how', 'do', 'you', 'know', 'its', 'bin', 'Laden', 'Weve', 'been', 'on', 'this', 'op', 'before', 'you', 'know', 'Bin', 'Laden', 'uses', 'a', 'courier', 'to', 'interact', 'with', 'the', 'outside', 'world', 'By', 'locating', 'the', 'courier', 'weve', 'located', 'bin', 'Laden', 'Thats', 'really', 'the', 'intel', 'Thats', 'it', 'Quite', 'frankly', 'I', 'didnt', 'even', 'want', 'to', 'use', 'you', 'guys', 'with', 'your', 'dip', 'and', 'your', 'velcro', 'and', 'all', 'your', 'gear', 'bullshit', 'I', 'wanted', 'to', 'drop', 'a', 'bomb', 'but', 'people', 'didnt', 'believe', 'in', 'this', 'lead', 'enough', 'to', 'drop', 'a', 'bomb', 'so', 'theyre', 'using', 'you', 'guys', 'as', 'canaries', 'on', 'the', 'theory', 'that', 'if', 'bin', 'Laden', 'isnt', 'there', 'you', 'can', 'sneak', 'away', 'and', 'no', 'one', 'will', 'be', 'the', 'wiser', 'BEAT', 'But', 'bin', 'Laden', 'is', 'there', 'and', 'youre', 'going', 'to', 'kill', 'him', 'for', 'me', 'SOFTENING', 'Bullets', 'are', 'cheap', 'TO', 'CIA', 'GEORGES', 'OFFICE', 'DAY', 'George', 'is', 'shaking', 'his', 'head', 'as', 'he', 'talks', 'to', 'Wolf', 'They', 'are', 'nervous', 'downtown', 'I', 'dont', 'think', 'well', 'get', 'approval', 'this', 'decision', 'cycle', 'They', 'look', 'up', 'and', 'notice', 'that', 'Maya', 'is', 'standing', 'outside', 'Georges', 'office', 'staring', 'at', 'them', 'through', 'the', 'glass', 'She', 'angrily', 'wipes', 'the', 'number', '128', 'off', 'the', 'window', 'and', 'changes', 'it', 'to', '129', 'Wolf', 'nods', 'Its', 'her', 'against', 'the', 'world', '87', 'Oh', 'yeah', 'TO', 'CIA', 'DAY', 'George', 'is', 'pulling', 'his', 'tray', 'away', 'from', 'the', 'food', 'service', 'court', 'when', 'Maya', 'ambushes', 'him', 'Weve', 'spun', 'up', 'the', 'SEALs', 'weve', 'done', 'everything', 'humanly', 'possible', 'to', 'collect', 'on', 'the', 'compound', 'and', 'the', 'collection', 'is', 'not', 'going', 'to', 'get', 'any', 'better', 'We', 'have', 'to', 'keep', 'working', 'it', 'Youre', 'going', 'to', 'come', 'into', 'work', 'one', 'day', 'and', 'theres', 'going', 'to', 'be', 'a', 'black', 'moving', 'van', 'and', 'a', 'for', 'sale', 'sign', 'in', 'front', 'of', 'that', 'compound', 'George', 'drops', 'his', 'tray', 'down', 'Maya', 'you', 'didnt', 'prove', 'it', 'CIA', '7TH', 'CONFERENCE', 'DAY', 'Sitting', 'around', 'the', 'table', 'are', 'the', 'CIA', 'Director', 'Wolf', 'the', 'DIRECTOR', 'George', 'Steve', 'and', 'a', 'few', 'other', 'people', 'we', 'dont', 'know', 'At', 'the', 'far', 'end', 'of', 'the', 'table', 'are', 'back', 'benchers', 'including', 'Maya', 'CIA', 'DIRECTOR', 'Im', 'about', 'to', 'go', 'look', 'the', 'President', 'in', 'the', 'eye', 'and', 'what', 'Id', 'like', 'to', 'know', 'no', 'fucking', 'bullshit', 'is', 'where', 'everyone', 'stands', 'on', 'this', 'thing', 'Now', 'very', 'simply', 'Is', 'he', 'there', 'or', 'is', 'he', 'not', 'fucking', 'there', 'He', 'looks', 'to', 'the', 'Deputy', 'Director', 'DIRECTOR', 'We', 'all', 'come', 'at', 'this', 'through', 'the', 'filter', 'of', 'our', 'own', 'past', 'experiences', 'I', 'remember', 'Iraq', 'very', 'clearly', 'I', 'fronted', 'that', 'and', 'I', 'can', 'tell', 'you', 'the', 'case', 'for', 'that', 'was', 'much', 'stronger', 'than', 'this', 'case', '88', 'CIA', 'DIRECTOR', 'Yes', 'or', 'no', 'DIRECTOR', 'We', 'dont', 'deal', 'in', 'certainty', 'we', 'deal', 'in', 'probability', 'Id', 'say', 'theres', 'a', 'sixty', 'percent', 'probability', 'hes', 'there', 'The', 'CIA', 'Director', 'points', 'to', 'Wolf', 'I', 'concur', 'Sixty', 'percent', 'Im', 'at', 'eighty', 'percent', 'Their', 'is', 'what', 'convinces', 'me', 'CIA', 'DIRECTOR', 'You', 'guys', 'ever', 'agree', 'on', 'anything', 'Well', 'I', 'agree', 'with', 'sixty', 'were', 'basing', 'this', 'mostly', 'on', 'detainee', 'reporting', 'and', 'I', 'spent', 'a', 'bunch', 'of', 'time', 'in', 'those', 'rooms', 'who', 'knows', 'Maya', 'shoots', 'Daniel', 'a', 'look', 'What', 'a', 'traitor', 'DANIEL', 'CONTD', 'Id', 'say', 'its', 'a', 'soft', 'sixty', 'sir', 'Im', 'virtually', 'certain', 'theres', 'some', 'high', 'value', 'target', 'there', 'Im', 'just', 'not', 'sure', 'its', 'bin', 'Laden', 'The', 'CIA', 'Director', 'leans', 'back', 'in', 'his', 'chair', 'CIA', 'DIRECTOR', 'This', 'is', 'a', 'clusterfuck', 'isnt', 'it', 'Id', 'like', 'to', 'know', 'what', 'Maya', 'thinks', 'DEPUTY', 'DIRECTOR', 'Were', 'all', 'incorporating', 'her', 'assessment', 'into', 'ours', 'Maya', 'cant', 'take', 'it', 'anymore', 'One', 'hundred', 'percent', 'hes', 'there', 'okay', 'fine', 'ninetyfive', 'percent', 'because', 'I', 'know', 'certainty', 'freaks', 'you', 'guys', 'out', 'but', 'its', 'a', 'hundred', '89', 'CIA', 'HEADQUARTERS', '7TH', 'HALLWAY', 'The', 'CIA', 'Director', 'walks', 'with', 'Jeremy', 'towards', 'the', 'elevator', 'CIA', 'DIRECTOR', 'Theyre', 'all', 'cowed', 'What', 'do', 'you', 'think', 'of', 'the', 'girl', 'JEREMY', 'I', 'think', 'shes', 'fucking', 'smart', 'As', 'the', 'door', 'closes', 'CIA', 'DIRECTOR', 'Were', 'all', 'smart', 'Jeremy', 'LANGELY', 'CAFETERIA', 'Maya', 'is', 'eating', 'lunch', 'by', 'herself', 'when', 'shes', 'startled', 'to', 'see', 'the', 'CIA', 'Director', 'standing', 'by', 'her', 'table', 'CIA', 'DIRECTOR', 'May', 'I', 'join', 'you', 'She', 'nods', 'gulps', 'CIA', 'DIRECTOR', 'CONTD', 'SITTING', 'How', 'long', 'have', 'you', 'worked', 'for', 'the', 'CIA', 'Twelve', 'years', 'I', 'was', 'recruited', 'out', 'of', 'high', 'school', 'CIA', 'DIRECTOR', 'Do', 'you', 'know', 'why', 'we', 'did', 'that', 'I', 'dont', 'think', 'I', 'can', 'answer', 'that', 'question', 'sir', 'I', 'dont', 'think', 'Im', 'allowed', 'to', 'answer', 'CIA', 'DIRECTOR', 'What', 'else', 'have', 'you', 'done', 'for', 'us', 'besides', 'bin', 'Laden', 'Nothing', 'Ive', 'done', 'nothing', 'else', 'He', 'evaluates', 'her', 'weighing', 'her', 'certainty', 'against', 'his', 'decades', 'of', 'Washington', 'experience', '90', 'CIA', 'DIRECTOR', 'Well', 'you', 'certainly', 'have', 'a', 'flare', 'for', 'it', 'TO', 'BLACK', 'SUPERIMPOSE', 'THE', 'CANARIES', 'AFGHANISTAN', 'DAY', 'Jalalabad', 'Airfield', 'nestled', 'against', 'the', 'rugged', 'mountains', 'of', 'the', 'Pakistan', 'border', 'SUPERIMPOSE', 'AFGHANISTAN', '1', '2011', 'Everything', 'in', 'motion', 'CONTRACTORS', 'ASSETS', 'coming', 'and', 'going', 'AFTERNOON', 'and', 'Justin', 'are', 'playing', 'horseshoes', 'Maya', 'happy', 'for', 'the', 'first', 'time', 'since', 'weve', 'met', 'her', 'watches', 'them', 'So', 'be', 'honest', 'with', 'me', 'You', 'really', 'believe', 'this', 'story', 'TO', 'No', 'offense', 'I', 'do', 'What', 'part', 'convinced', 'you', 'motions', 'to', 'Maya', 'Her', 'confidence', 'Maya', 'smiles', 'laughs', 'Really', 'Okay', 'Thats', 'the', 'kind', 'of', 'concrete', 'data', 'point', 'Im', 'looking', 'for', 'He', 'shakes', 'his', 'head', 'CONTD', 'If', 'her', 'confidence', 'is', 'the', 'one', 'thing', 'thats', 'keeping', 'me', 'from', 'getting', 'ass', 'raped', 'in', 'a', 'Pakistani', 'prisonI', 'dont', 'know', 'Im', 'gonna', 'be', 'honest', 'with', 'you', 'though', 'I', 'guess', 'Im', 'cool', 'with', 'it', '91', 'They', 'bump', 'fists', 'laughing', 'Mayas', 'cell', 'phone', 'rings', 'She', 'moves', 'aside', 'to', 'answer', 'it', 'We', 'with', 'George', 'in', 'his', 'Langley', 'office', 'Maya', 'I', 'wanted', 'you', 'to', 'hear', 'it', 'first', 'You', 'know', 'that', 'thing', 'we', 'talked', 'about', 'Its', 'going', 'to', 'happen', 'When', 'GEORGE', 'Tonight', 'Good', 'luck', 'She', 'hangs', 'up', 'turns', 'back', 'to', 'the', 'SEALs', 'who', 'are', 'still', 'playing', 'horseshoes', 'with', 'the', 'grace', 'of', 'young', 'guys', 'in', 'their', 'prime', 'Their', 'lives', 'are', 'in', 'her', 'hands', 'TO', 'ASSAULT', 'CENTER', 'BASE', 'DAY', 'The', 'small', 'space', 'is', 'filled', 'with', 'personnel', 'and', 'telecommunications', 'gear', 'At', 'the', 'back', 'of', 'the', 'room', 'Maya', 'sits', 'quietly', 'adjusting', 'a', 'headset', 'and', 'speaking', 'calmly', 'into', 'a', 'secure', 'line', 'From', 'the', 'corner', 'Hakim', 'watches', 'her', 'Testing', 'testing', '1', '2', '3', 'with', 'his', 'com', 'set', 'on', 'gives', 'her', 'the', 'thumbs', 'up', 'She', 'looks', 'around', 'at', 'all', 'the', 'impressive', 'technology', 'in', 'the', 'makeshift', 'Command', 'Center', 'She', 'walks', 'over', 'to', 'Hakim', 'and', 'they', 'leave', 'together', 'FORWARD', 'BASE', 'DUSK', 'MAYA', 'Thank', 'you', 'for', 'coming', 'with', 'me', 'Of', 'course', 'Ill', 'go', 'with', 'you', 'where', 'ever', 'you', 'want', 'few', 'hundred', 'feet', 'in', 'front', 'of', 'them', 'they', 'can', 'see', 'SEALs', 'preparing', 'their', 'gear', 'MAYA', 'Fuck', 'Hakim', 'what', 'if', 'Im', 'wrong', '92', 'MAYA', 'CONTD', 'I', 'wish', 'we', 'could', 'have', 'just', 'dropped', 'a', 'bomb', 'Please', 'dont', 'drop', 'it', 'while', 'were', 'in', 'the', 'house', 'MAYA', 'Im', 'serious', 'Me', 'too', 'Dont', 'drop', 'anything', 'while', 'Im', 'inside', 'Off', 'her', 'anxious', 'smile', 'TO', 'FORWARD', 'BASE', 'AFGHANISTAN', 'NIGHT', 'Blinding', 'white', 'lights', 'rigged', 'to', 'chain', 'link', 'fencing', 'like', 'a', 'space', 'shuttle', 'launch', 'Silhouetted', 'shapes', 'behind', 'the', 'lights', 'and', 'the', 'thumpthump', 'thump', 'of', 'highdollar', 'helicopters', 'Now', 'push', 'through', 'the', 'glare', 'and', 'the', 'fence', 'into', 'FORWARD', 'BASE', 'AFGHANISTAN', 'A', 'topsecret', 'LZ', 'Where', 'twentytwo', 'SEALs', 'in', 'full', 'battle', 'rattle', 'and', 'an', 'attack', 'load', 'into', 'STEALTH', 'helicopters', 'Moving', 'fast', 'wordlessly', 'loading', 'weapons', 'and', 'gear', 'under', 'the', 'intense', 'bright', 'white', 'light', 'then', 'Doors', 'slam', 'engines', 'whine', 'Fifty', 'yards', 'away', 'Maya', 'stands', 'alone', 'looking', 'on', 'And', 'the', 'rise', 'above', 'the', 'lights', 'and', 'disappear', 'into', 'the', 'night', 'STEALTH', 'HELICOPTER', '52', 'Hands', 'feather', 'the', 'controls', 'as', 'the', 'pilot', 'one', 'the', 'famed', 'Nightstalkers', 'from', 'the', 'Special', 'Operations', 'Aviation', 'Regiment', 'SOAR', '160th', 'flies', 'without', 'lights', 'using', 'only', 'his', 'NODs', 'for', 'night', 'vision', '93', 'STEALTH', '51', '52', 'Flying', 'in', 'formation', 'barely', 'visible', 'in', 'the', 'moonless', 'sky', 'no', 'flying', 'lights', 'The', 'helos', 'near', 'the', 'Tora', 'Bora', 'mountain', 'range', 'dimly', 'visible', 'bulks', 'rising', 'in', 'front', 'of', 'the', 'helos', '51', 'The', 'SEALs', 'gently', 'bounce', 'inside', 'the', 'bellies', 'of', 'the', 'churning', 'beasts', '51', 'Thirty', 'seconds', 'to', 'first', 'turn', 'Hey', 'Justin', 'what', 'are', 'you', 'listening', 'to', 'Tony', 'Robbins', 'Tony', 'Robbins', 'You', 'should', 'listen', 'to', 'it', 'I', 'got', 'plans', 'for', 'after', 'this', 'I', 'want', 'to', 'talk', 'to', 'you', 'guys', 'about', 'it', 'Its', 'not', 'selling', 'You', 'become', 'a', 'representative', 'Everyone', 'chuckles', '51', 'left', '51', '52', 'IN', 'The', 'stealths', 'take', 'a', 'sharp', 'turn', 'Skimming', 'the', 'mountain', 'Who', 'heres', 'been', 'in', 'a', 'helo', 'crash', 'before', 'Everyone', 'raises', 'their', 'hands', 'CONTD', 'Okay', 'so', 'were', 'all', 'good', 'TO', '94', 'ASSAULT', 'CENTER', 'FORWARD', 'BASE', 'Technicians', 'track', 'the', 'helos', 'on', 'an', 'array', 'of', 'computer', 'screens', '52', 'OVER', 'Now', 'entering', 'Pakistan', 'Maya', 'is', 'here', 'too', 'working', 'Shes', 'always', 'working', 'MAYA', 'Pakistani', 'coms', 'no', 'chatter', 'TORA', 'MOUNTAINS', 'LATER', 'Find', 'the', 'navigating', 'tight', 'mountain', 'passes', 'Throughout', 'the', 'flying', 'sequence', 'that', 'follows', 'the', 'helicopters', 'fly', 'very', 'close', 'to', 'the', 'ground', 'with', 'a', 'margin', 'of', 'error', 'less', 'then', 'twenty', 'feet', 'TO', 'The', 'terrain', 'zooms', 'by', 'as', 'we', 'travel', 'through', 'a', 'twisty', 'mountain', 'Looming', 'straight', 'ahead', 'on', 'a', 'collision', 'course', 'is', 'a', 'MOUNTAIN', 'They', 'zoom', 'closer', 'We', 'can', 'see', 'individual', 'rocks', 'now', '51', '51', 'Big', 'left', 'TORA', 'MOUNTAINS', 'Seconds', 'before', 'impact', 'the', 'HELICOPTERS', 'bank', 'into', 'a', 'hard', 'left', 'turn', 'blows', 'off', 'the', 'mountain', 'TO', '51', 'LATER', 'The', 'dog', 'sitting', 'in', 'its', 'handlers', 'lap', 'in', 'the', 'dim', 'cabin', 'Ten', 'minutes', 'TO', '95', '51', 'LATER', 'Three', 'mikes', 'to', 'target', 'Standby', 'for', 'doors', 'open', 'Inside', 'the', 'dim', 'interior', 'illuminated', 'by', 'only', 'blinking', 'instrumentation', 'the', 'men', 'are', 'tense', 'quiet', 'We', 'pass', 'slowly', 'from', 'face', 'to', 'face', 'noting', 'each', 'SEALs', 'contemplation', 'of', 'the', 'mission', 'that', 'lies', 'ahead', 'Some', 'of', 'them', 'are', 'anonymous', 'soldiers', 'Many', 'weve', 'come', 'to', 'know', 'Justin', 'joyfully', 'bobbing', 'his', 'head', 'grooving', 'to', 'his', 'iPod', 'Sabers', 'eyes', 'fixed', 'on', 'a', 'thousandyard', 'stare', 'Hakim', 'struggles', 'to', 'get', 'comfortable', 'and', 'control', 'his', 'anxiety', 'wipes', 'away', 'sweat', 'checks', 'his', 'gear', 'for', 'the', 'hundredth', 'time', 'Two', 'minutes', 'STEALTH', 'PRINCE', '51', 'PRINCE', '52', 'Outside', 'Darknessjust', 'a', 'THUMP', 'And', 'then', 'we', 'see', 'them', 'flying', 'in', 'tight', 'formation', 'the', 'oddly', 'rectangular', 'helos', 'with', 'their', 'black', 'stealth', 'panels', 'and', 'sharp', 'edges', 'like', 'two', 'alien', 'spaceships', 'advancing', 'STEALTH', 'NIGHT', 'OVER', 'INTERCOM', 'Should', 'be', 'coming', 'up', 'just', 'off', 'our', 'nose', '3', 'oclock', 'Everyone', 'grabs', 'onto', 'their', 'gear', 'getting', 'ready', 'to', 'fast', 'rope', 'flings', 'open', 'the', 'side', 'door', 'Night', 'wind', 'rushes', 'in', 'ABBOTTABAD', 'PAKISTAN', 'NIGHT', 'Small', 'cottages', 'mixed', 'in', 'with', 'larger', 'suburban', 'homes', 'Among', 'them', 'swimming', 'pools', 'The', 'water', 'shimmering', 'Surreal', 'Then', 'rows', 'of', 'green', 'fields', 'A', 'stand', 'of', 'trees', 'It', 'appears', '1', 'It', 'is', 'massive', 'six', 'or', 'seven', 'times', 'larger', 'than', 'any', 'other', 'nearby', 'structure', 'with', 'sixteen', 'foot', 'high', 'walls', 'and', 'a', 'gated', 'interior', 'A', 'fortress', '96', 'PRINCE', '51', 'Thirty', 'seconds', 'leans', 'out', 'for', 'a', 'visual', 'as', 'the', 'wind', 'rips', 'his', 'face', 'PRINCE', '51', 'PRINCE', '52', 'The', 'helos', 'circle', 'the', 'kicking', 'up', 'dust', 'and', 'begin', 'to', 'descend', 'STEALTH', 'BLACKHAWK', 'HELICOPTER', 'PRINCE', '51', 'NIGHT', 'Cross', 'cutting', 'all', 'that', 'follows', 'At', 'thirty', 'feet', 'above', 'the', 'ground', 'the', 'helicopter', 'begins', 'to', 'shudder', 'and', 'lose', 'stability', 'Instead', 'of', 'descending', 'in', 'a', 'straight', 'path', 'the', 'bird', 'drifts', 'sideways', 'shouting', 'to', 'pilot', 'Hey', 'Slide', 'right', 'Then', 'lurches', 'down', 'falling', 'to', 'within', '15', 'feet', 'of', 'the', 'swirling', 'ground', 'rotors', 'churning', 'the', 'dust', 'creating', 'near', 'conditions', 'a', 'dust', 'hurricane', 'PRINCE', '51', 'CU', 'Pilot', 'finessing', 'the', 'controls', 'not', 'good', 'enough', 'PRINCE', '51', 'Power', 'COMPOUND', 'NIGHT', 'rear', 'rotor', 'blades', 'edging', 'closer', 'to', 'the', 'wall', 'inch', 'by', 'inch', 'Engines', 'straining', 'in', 'the', 'thin', 'hot', 'air', 'The', 'bird', 'loses', 'control', 'to', 'a', 'hard', 'landing', 'PRINCE', '51', 'ECU', 'Pilot', 'thrusts', 'stick', 'COMPOUND', 'crashes', 'hard', 'on', 'the', 'in', 'a', 'awful', 'screech', 'of', 'twisting', 'metal', 'and', 'sheared', 'concrete', '97', 'PRINCE', '51', 'Tossing', 'the', 'men', 'inside', 'the', 'helo', 'around', 'like', 'rag', 'dolls', 'TO', 'ASSAULT', 'CENTER', 'FORWARD', 'BASE', 'The', 'command', 'tent', 'watches', 'the', 'helicopter', 'crash', 'PRINCE', '52', 'OS', 'Prince', '51', 'is', 'down', 'Blackhawk', 'down', 'in', 'the', 'animal', 'pen', 'Maya', 'stands', 'crestfallen', 'HELO', 'The', 'dust', 'settles', 'to', 'reveala', 'twisted', 'wreck', 'PRINCE', '51', 'has', 'crash', 'landed', 'into', 'a', 'precarious', 'position', 'with', 'the', 'back', 'half', 'of', 'the', 'helicopter', 'wedged', 'into', 'the', 'top', 'of', 'the', 'wall', 'and', 'the', 'front', 'of', 'it', 'in', 'the', 'ground', 'leaving', 'the', 'passengers', 'inside', 'suspended', 'more', 'then', 'ten', 'feet', 'off', 'the', 'ground', 'PRINCE', '51', 'Although', 'hes', 'wearing', 'a', 'heavy', 'pack', 'and', 'carrying', 'gear', 'jumps', 'down', 'landing', 'with', 'a', 'kneeshattering', 'combat', 'roll', 'Several', 'SEALs', 'follow', 'him', 'INNER', 'pulls', 'out', 'of', 'his', 'roll', 'and', 'turns', 'around', 'to', 'face', 'the', 'house', 'looming', 'ominously', 'ahead', 'of', 'him', 'ASSAULT', 'CENTER', 'JALALABAD', 'FORWARD', 'OPERATING', 'BASE', 'PRINCE', '52', 'OVER', 'This', 'mission', 'is', 'still', 'a', 'go', 'Off', 'Mayas', 'relief', 'PRINCE', '52', 'The', 'second', 'helo', 'passes', 'over', 'but', 'a', 'storm', 'of', 'debris', 'and', 'garbage', 'from', 'the', 'rooftop', 'creates', 'another', 'flight', 'risk', 'and', 'the', 'helo', 'banks', 'away', 'TO', '98', 'COMPOUND', 'GATE', 'Justin', 'and', 'other', 'SEALs', 'cluster', 'near', 'the', 'First', 'Gate', 'in', 'the', 'animal', 'pen', 'One', 'of', 'the', 'SEALs', 'places', 'a', 'charge', 'on', 'the', 'gate', 'while', 'others', 'check', 'the', 'Prayer', 'Room', 'Boom', 'The', 'charge', 'partially', 'blows', 'open', 'the', 'metal', 'swing', 'doors', 'of', 'the', 'gate', 'leaving', 'a', 'very', 'narrow', 'gap', 'Not', 'ideal', 'The', 'SEALs', 'muscle', 'and', 'squeeze', 'their', 'way', 'through', 'the', 'narrow', 'opening', 'in', 'the', 'jagged', 'metal', 'as', 'the', 'climbs', 'up', 'on', 'the', 'roof', 'of', 'the', 'prayer', 'room', 'GUEST', 'NIGHT', 'and', 'Jared', 'arrive', 'at', 'the', 'guest', 'house', 'but', 'cant', 'see', 'inside', 'the', 'windows', 'and', 'doors', 'are', 'covered', 'with', 'sheets', 'kneels', 'down', 'to', 'place', 'a', 'charge', 'at', 'the', 'front', 'door', 'handle', 'when', 'the', 'door', 'erupts', 'with', 'gunfire', 'Bullets', 'fly', 'out', 'of', 'the', 'wooden', 'door', 'One', 'skims', 'Patricks', 'shoulder', 'as', 'he', 'kneels', 'lower', 'fires', 'back', 'at', 'the', 'house', 'putting', 'a', 'dozen', 'rounds', 'inside', 'A', 'moment', 'passes', 'They', 'wait', 'for', 'a', 'response', 'The', 'door', 'handle', 'unlocks', 'AHMEDS', 'appears', 'at', 'the', 'doorway', 'and', 'walks', 'out', 'Irfah', 'eedek', 'AHMEDS', 'IN', 'You', 'killed', 'him', 'GUEST', 'CONTINUOUS', 'The', 'SEALs', 'peer', 'inside', 'and', 'see', 'AHMED', 'lying', 'dead', 'in', 'a', 'pool', 'of', 'blood', 'and', 'Jared', 'pump', 'safety', 'rounds', 'into', 'the', 'body', 'KIDS', 'are', 'cowering', 'in', 'the', 'corner', 'Jared', 'moves', 'them', 'out', 'of', 'the', 'house', 'COMPOUND', 'CONTINUOUS', 'The', 'rest', 'of', 'the', 'SEALS', 'breach', 'a', 'gate', 'to', 'the', 'courtyard', 'of', 'the', 'Main', 'House', 'The', 'gate', 'flies', 'open', 'in', 'a', 'fiery', 'ball', 'TO', '99', 'COMPOUND', 'OUTSIDE', 'GATE', 'CONTINUOUS', 'SEALs', 'jump', 'out', 'of', 'rush', 'to', 'the', 'outer', 'wall', 'and', 'set', 'breaching', 'charges', 'on', 'a', 'gate', 'While', 'Hakim', 'the', 'HANDLER', 'and', 'another', 'peel', 'off', 'down', 'the', 'block', 'Saber', 'and', 'his', 'team', 'stand', 'by', 'as', 'The', 'gate', 'charges', 'go', 'offonly', 'to', 'reveal', 'a', 'WALL', 'behind', 'the', 'gate', 'Thats', 'not', 'a', 'door', 'Failed', 'breach', 'They', 'hustle', 'to', 'the', 'next', 'entry', 'way', 'and', 'prepare', 'another', 'breach', 'TO', 'MAIN', 'The', 'hears', 'that', 'the', 'SEALs', 'outside', 'are', 'preparing', 'a', 'charge', 'radios', 'in', 'OS', 'This', 'is', 'Echo', '11', 'were', 'going', 'to', 'breach', 'the', 'main', 'gate', 'INTO', 'Negative', 'Im', 'internal', 'Ill', 'let', 'you', 'in', 'The', 'Commanding', 'Officer', 'opens', 'the', 'gate', 'and', 'the', 'other', 'SEALs', 'walk', 'inside', 'As', 'a', 'group', 'they', 'move', 'towards', 'the', 'main', 'house', 'arriving', 'at', 'the', 'South', 'side', 'front', 'door', 'The', 'door', 'is', 'open', 'and', 'they', 'enter', 'MAIN', 'FIRST', 'CONTINUOUS', 'Piercing', 'the', 'first', 'floor', 'darkness', 'with', 'their', 'infra', 'red', 'lights', 'the', 'SEALs', 'advance', 'slowly', 'into', 'the', 'first', 'floor', 'hallway', 'Piles', 'of', 'household', 'clutter', 'stacked', 'high', 'in', 'bizarre', 'shapes', 'greet', 'them', 'like', 'the', 'innards', 'of', 'a', 'haunted', 'house', 'One', 'of', 'the', 'SEALs', 'catches', 'movement', 'A', 'figure', 'with', 'an', 'scrambling', 'through', 'clutter', 'then', 'disappearing', 'around', 'a', 'corner', 'Abrar', 'The', 'figure', 'Abu', 'Ahmeds', 'brother', 'reappears', 'at', 'the', 'end', 'of', 'the', 'hallway', 'He', 'pokes', 'his', 'head', 'out', '100', 'And', 'is', 'shot', 'by', 'Justin', 'He', 'falls', 'out', 'of', 'view', 'whimpering', 'in', 'pain', 'MAIN', 'FIRST', 'HALLWAY', 'CONTINUOUS', 'Justin', 'walks', 'quickly', 'to', 'Abrar', 'MAIN', 'FIRST', 'SIDE', 'CONTINUOUS', 'is', 'down', 'bleeding', 'Justin', 'fires', 'another', 'round', 'into', 'Abrar', 'as', 'WIFE', 'comes', 'flying', 'in', 'from', 'the', 'sleeping', 'quarters', 'and', 'shields', 'him', 'with', 'her', 'body', 'Justin', 'shoots', 'her', 'She', 'fallsAbrar', 'is', 'underneath', 'her', 'he', 'is', 'still', 'breathing', 'gasping', 'and', 'Justin', 'shoots', 'him', 'again', 'silencing', 'him', 'Then', 'looks', 'to', 'his', 'wife', 'and', 'assesses', 'her', 'condition', 'Badly', 'wounded', 'faint', 'breathing', 'life', 'fading', 'from', 'her', 'eyes', 'Justin', 'turns', 'away', 'MAIN', 'FIRST', 'HALLWAY', 'CONTINUOUS', 'Justin', 'and', 'a', 'proceed', 'down', 'the', 'hall', 'to', 'the', 'heavy', 'gate', 'that', 'blocks', 'access', 'to', 'the', 'stairway', 'while', 'another', 'stays', 'behind', 'Somewhere', 'children', 'are', 'screaming', 'Shut', 'those', 'fucking', 'kids', 'up', 'OS', 'the', 'kids', 'quiet', 'down', 'CONTD', 'Talk', 'to', 'me', 'Theres', 'no', 'fucking', 'way', 'we', 'want', 'to', 'blow', 'this', 'thing', 'The', 'gate', 'is', 'solid', 'MIKE', 'OS', 'OVER', 'This', 'is', 'Echo', '11', 'were', 'at', 'our', 'primary', 'set', 'point', 'prepping', 'to', 'breach', 'INTO', 'Wait', 'Echo', '11', 'were', 'internal', 'on', 'the', 'south', 'side', 'this', 'is', 'a', 'negative', 'breach', '101', 'MIKE', 'OVER', 'Were', 'ready', 'to', 'make', 'our', 'entry', 'out', 'here', 'INTO', 'RADIO', 'that', 'were', 'coming', 'to', 'meet', 'you', 'to', 'the', 'Breacher', 'Stay', 'with', 'these', 'kids', 'Dont', 'let', 'them', 'in', 'the', 'back', 'room', 'TO', 'MAIN', 'A', 'LATER', 'In', 'the', 'regrouping', 'that', 'occurs', 'on', 'the', 'side', 'of', 'the', 'main', 'house', 'Justin', 'and', 'find', 'themselves', 'side', 'by', 'side', 'and', 'the', 'old', 'friends', 'take', 'a', 'moment', 'to', 'reconnect', 'while', 'the', 'rest', 'of', 'the', 'team', 'places', 'charges', 'and', 'prepares', 'for', 'the', 'next', 'phase', 'of', 'the', 'assault', 'QUIETLY', 'You', 'good', 'Yeah', 'I', 'forgotwere', 'we', 'supposed', 'to', 'crash', 'that', 'helo', 'allows', 'himself', 'a', 'smile', 'Ibrahim', 'tried', 'to', 'shoot', 'me', 'through', 'the', 'door', 'I', 'popped', 'him', 'from', 'the', 'outside', 'I', 'fucking', 'smoked', 'Abrar', 'and', 'his', 'wife', 'TONE', 'alt', 'I', 'think', 'she', 'was', 'Still', 'alive', 'Shes', 'gonna', 'bleed', 'out', 'What', 'a', 'fuckin', 'mess', 'The', 'door', 'blows', 'and', 'they', 'keep', 'moving', '102', 'MAIN', 'FIRST', 'HALLWAY', 'CONTINUOUS', 'The', 'SEALs', 'reach', 'the', 'staircase', 'which', 'is', 'sealed', 'off', 'by', 'a', 'separate', 'metal', 'gate', 'than', 'the', 'one', 'inside', 'the', 'hallway', 'Breacher', 'up', 'A', 'charge', 'is', 'prepared', 'Justin', 'who', 'is', 'now', 'inside', 'one', 'of', 'the', 'side', 'rooms', 'sees', 'Jared', 'standing', 'close', 'to', 'the', 'door', 'Hey', 'man', 'move', 'Jared', 'moves', 'just', 'as', 'MAIN', 'FIRST', 'HALLWAY', 'CONTINUOUS', 'Boooom', 'The', 'door', 'like', 'a', 'missile', 'right', 'into', 'where', 'Jared', 'had', 'been', 'standing', 'TO', 'Thanks', 'Yeah', 'TO', 'MAIN', 'STAIRCASE', 'TO', 'CONTINUOUS', 'Saber', 'goes', 'up', 'the', 'staircase', 'following', 'closely', 'behind', 'him', 'climbing', 'up', 'to', 'see', 'MAIN', 'CONTINUOUS', 'A', 'man', 'ducks', 'out', 'of', 'sight', 'Saber', 'calls', 'to', 'him', 'Khaled', 'Saber', 'waits', 'with', 'his', 'carbine', 'raised', 'Anxiety', 'crosses', 'his', 'face', 'Hes', 'vulnerable', 'here', 'an', 'easy', 'target', 'if', 'Khaled', 'were', 'to', 'come', 'out', 'blasting', 'CONTD', 'TO', '103', 'HALLWAY', 'Khaled', 'hears', 'his', 'name', 'being', 'called', 'from', 'below', 'A', 'few', 'feet', 'away', 'from', 'him', 'in', 'the', 'dimly', 'lit', 'hall', 'is', 'a', 'loaded', 'He', 'goes', 'to', 'the', 'gun', 'and', 'picks', 'it', 'up', 'He', 'hears', 'his', 'name', 'again', 'Khaled', 'And', 'the', 'voice', 'sounds', 'friendly', 'urgent', 'Perhaps', 'thinking', 'that', 'he', 'can', 'surrender', 'peacefully', 'Khaled', 'puts', 'the', 'gun', 'down', 'resting', 'it', 'against', 'a', 'wall', 'and', 'turns', 'and', 'heads', 'back', 'to', 'the', 'sound', 'of', 'his', 'name', 'Saber', 'sees', 'Khaled', 'poke', 'his', 'head', 'around', 'the', 'corner', 'of', 'the', 'stairway', 'and', 'fires', 'killing', 'him', 'instantly', 'Saber', 'pushes', 'past', 'the', 'body', 'following', 'and', 'they', 'climb', 'the', 'staircase', 'leading', 'to', 'the', 'third', 'floor', 'TO', 'COMPOUND', 'STREET', 'The', 'neighborhood', 'awakened', 'by', 'the', 'crash', 'and', 'gunfire', 'stirs', 'to', 'life', 'Hakim', 'and', 'the', 'SEALs', 'notice', 'LIGHTS', 'flipping', 'on', 'And', 'down', 'the', 'block', 'a', 'group', 'of', 'several', 'young', 'men', 'appear', 'on', 'a', 'roof', 'raising', 'his', 'weapon', 'This', 'is', 'Echo', '05', 'Ive', 'got', 'unknowns', 'gathering', 'on', 'the', 'Southwest', 'Rooftops', 'Hakim', 'move', 'those', 'guys', 'back', 'speaking', 'in', 'Pashto', 'Go', 'back', 'brothers', 'this', 'is', 'official', 'government', 'business', 'and', 'there', 'is', 'nothing', 'to', 'see', 'here', 'Im', 'going', 'to', 'start', 'wasting', 'them', 'Please', 'They', 'will', 'kill', 'you', 'The', 'onlookers', 'pause', 'aiming', 'lasers', 'dance', 'across', 'their', 'chests', 'CONTD', 'They', 'will', 'kill', 'you', 'They', 'turn', 'and', 'go', '104', 'MAIN', 'SECOND', 'HALLWAY', 'SEALs', 'clear', 'the', 'SECOND', 'floor', 'as', 'women', 'and', 'children', 'flow', 'into', 'the', 'hallway', 'A', 'grabs', 'one', 'of', 'the', 'wives', 'and', 'pulls', 'her', 'out', 'into', 'the', 'hallway', 'while', 'another', 'female', 'disappears', 'behind', 'a', 'large', 'and', 'he', 'grabs', 'her', 'too', 'ROOM', 'SECOND', 'CONTINUOUS', 'Justin', 'opens', 'a', 'file', 'cabinet', 'stuffed', 'with', 'documents', 'MAIN', 'SECOND', 'TO', 'THIRD', 'STAIRWAY', 'Saber', 'is', 'climbing', 'the', 'stairs', 'gun', 'up', 'towards', 'the', 'third', 'floor', 'when', 'he', 'sees', 'a', 'flash', 'of', 'movement', 'across', 'the', 'landing', 'above', 'him', 'He', 'stops', 'climbing', 'and', 'CALLING', 'Osama', 'Osama', 'Beat', 'Beat', 'Sweat', 'on', 'Sabers', 'face', 'CONTD', 'Osama', 'A', 'man', 'appears', 'at', 'the', 'end', 'of', 'the', 'third', 'floor', 'hallway', 'Ssssht', 'a', 'bullet', 'strikes', 'him', 'in', 'the', 'head', 'knocking', 'him', 'back', 'into', 'a', 'bedroom', 'Saber', 'fires', 'again', 'missing', 'And', 'proceeds', 'down', 'the', 'hallway', 'going', 'full', 'speed', 'now', 'right', 'behind', 'him', 'sprinting', 'into', 'the', 'bedroom', 'MAIN', 'OSAMAS', 'QUARTERS', 'Two', 'women', 'stand', 'at', 'the', 'entrance', 'of', 'the', 'room', 'Saber', 'rushes', 'them', 'and', 'with', 'a', 'football', 'tackle', 'slams', 'them', 'into', 'the', 'wall', 'enters', 'the', 'room', 'and', 'fires', 'several', 'rounds', 'into', 'the', 'man', 'on', 'the', 'floor', 'INTO', 'RADIO', 'Possible', 'jackpot', 'The', 'women', 'Saber', 'is', 'restraining', 'are', 'wailing', 'struggling', 'to', 'get', 'to', 'their', 'husband', 'as', 'a', 'ten', 'yearold', 'boy', 'rushes', 'up', 'to', 'the', 'body', '105', 'pushes', 'him', 'away', 'and', 'kneels', 'down', 'to', 'get', 'a', 'better', 'look', 'at', 'the', 'body', 'CONTD', 'TO', 'Dude', 'do', 'you', 'realize', 'what', 'you', 'just', 'did', 'TO', 'MAIN', 'THIRD', 'ROOM', 'HALLWAY', 'questions', 'the', 'wives', 'IN', 'Who', 'is', 'he', 'He', 'is', 'al', 'Noori', 'Hasan', 'shouting', 'back', 'to', 'She', 'says', 'its', 'not', 'him', 'PATRICK', 'Talk', 'to', 'a', 'kid', 'Jared', 'kneels', 'down', 'next', 'to', 'a', 'nine', 'yearold', 'girl', 'huddled', 'in', 'the', 'corner', 'and', 'snaps', 'open', 'a', 'chem', 'light', 'He', 'gives', 'her', 'the', 'glowing', 'green', 'wand', 'JARED', 'IN', 'Daughter', 'what', 'is', 'his', 'name', 'The', 'girl', 'makes', 'no', 'reply', 'TO', 'ASSAULT', 'CENTER', 'JALALABAD', 'FORWARD', 'OPERATING', 'BASE', 'OS', 'through', 'the', 'radio', 'For', 'God', 'and', 'Country', 'Geronimo', 'Maya', 'gasps', 'DIEGO', 'CONTINUOUS', 'The', 'Commanding', 'Officer', 'issues', 'orders', '106', 'OFFICER', 'INTO', 'RADIO', 'All', 'Stations', 'target', 'secure', 'target', 'secure', 'THIRD', 'MASTER', 'PATRICK', 'INTO', 'RADIO', 'Copy', 'Target', 'Secure', 'OFFICER', 'OS', 'Target', 'Secure', 'commence', 'SECOND', 'ROOM', 'Justin', 'flicks', 'on', 'the', 'lights', 'Moving', 'fast', 'he', 'picks', 'up', 'a', 'COMPUTER', 'tower', 'and', 'throws', 'it', 'to', 'the', 'floor', 'cracking', 'it', 'open', 'rips', 'out', 'the', 'DRIVE', 'and', 'tosses', 'that', 'into', 'the', 'bag', 'As', 'we', 'pull', 'back', 'and', 'realize', 'the', 'enormity', 'of', 'the', 'task', 'in', 'front', 'of', 'him', 'The', 'lights', 'show', 'an', 'organized', 'office', 'crammed', 'with', 'information', 'stacks', 'of', 'files', 'disks', 'video', 'equipment', 'Twenty', 'years', 'of', 'jihad', 'to', 'his', 'team', 'Do', 'not', 'leave', 'a', 'hard', 'drive', 'The', 'SEALs', 'gather', 'everything', 'they', 'can', 'MAIN', 'THIRD', 'TO', 'SECOND', 'STAIRWAY', 'Saber', 'walks', 'down', 'the', 'staircase', 'in', 'a', 'daze', 'We', 'stay', 'with', 'him', 'as', 'he', 'descends', 'noting', 'the', 'faraway', 'look', 'in', 'his', 'eyes', 'MAIN', 'SECOND', 'MEDIA', 'ROOM', 'Saber', 'walks', 'into', 'the', 'office', 'where', 'the', 'Sensitive', 'Sight', 'Exploitation', 'is', 'underway', 'TO', 'SABER', 'Whats', 'up', 'SABER', 'I', 'shot', 'the', 'third', 'floor', 'guy', 'Good', 'for', 'you', 'You', 'want', 'to', 'help', '107', 'Justin', 'tosses', 'him', 'an', 'bag', 'TO', 'ASSAULT', 'CENTER', 'JALALABAD', 'FORWARD', 'OPERATING', 'BASE', 'EVENING', 'The', 'command', 'team', 'studies', 'their', 'monitors', 'PRINCE', '52', 'OS', 'OVER', 'RADIO', 'inbound', 'TO', 'DIEGO', 'The', 'OFFICER', 'is', 'talking', 'on', 'two', 'radios', 'at', 'once', 'one', 'to', 'his', 'men', 'the', 'other', 'to', 'brass', 'back', 'at', 'Jalalabad', 'base', 'COMMANDING', 'OFFICER', 'INTO', 'RADIO', 'Echo', '05', 'this', 'is', 'Red', '02', 'how', 'long', 'do', 'you', 'need', 'for', 'SECOND', 'MEDIA', 'ROOM', 'JUSTIN', 'INTO', 'RADIO', 'At', 'least', 'ten', 'minutes', 'DIEGO', 'COMMANDING', 'OFFICER', 'INTO', 'RADIO', 'You', 'have', 'four', 'SECOND', 'MEDIA', 'ROOM', 'JUSTIN', 'INTO', 'RADIO', 'This', 'is', 'a', 'gold', 'mine', 'I', 'need', 'more', 'time', 'than', 'that', 'DIEGO', 'CORRIDOR', 'COMMANDING', 'OFFICER', 'INTO', 'RADIO', 'If', 'youre', 'not', 'at', 'the', 'LZ', 'in', 'four', 'Im', 'going', 'to', 'leave', 'your', 'ass', 'behind', 'INT', 'SECOND', 'MEDIA', 'ROOM', 'Justin', 'yells', 'to', 'his', 'team', '108', 'JUSTIN', 'Four', 'minutes', 'TO', 'HELO', 'Hakim', 'arrives', 'at', 'the', 'crashed', 'helo', 'He', 'crawls', 'into', 'the', 'interior', 'and', 'finds', 'a', 'BLACK', 'We', 'follow', 'this', 'bag', 'INT', 'MAIN', 'HOUSE', 'FIRST', 'Hakim', 'jogs', 'into', 'the', 'main', 'house', 'with', 'the', 'and', 'through', 'his', 'POV', 'we', 'see', 'slow', 'down', 'for', 'the', 'first', 'time', 'since', 'the', 'raid', 'began', 'noting', 'the', 'destruction', 'blood', 'stains', 'on', 'the', 'walls', 'Bodies', 'pierced', 'with', 'bullets', 'Wailing', 'children', 'INTO', 'Where', 'do', 'you', 'need', 'the', 'bag', 'OS', 'Third', 'floor', 'CUT', 'TO', 'INT', 'THIRD', 'FLOOR', 'MASTER', 'SEALs', 'roll', 'the', 'body', 'into', 'the', 'BAG', 'as', 'and', 'another', 'SEAL', 'collect', 'articles', 'of', 'interest', 'Two', 'SEALs', 'zip', 'up', 'the', 'bag', 'and', 'carry', 'it', 'out', 'Just', 'as', 'INT', 'MEDIA', 'ROOM', 'SECOND', 'FLOOR', 'Justins', 'team', 'leaves', 'the', 'office', 'MAIN', 'COURTYARD', 'A', 'LATER', 'The', 'body', 'bag', 'is', 'laid', 'in', 'the', 'courtyard', 'HELO', 'CONTINUOUS', 'The', 'SEAL', 'slides', 'into', 'the', 'belly', 'of', 'Prince', '51', 'While', 'he', 'places', 'charges', 'another', 'SEAL', 'climbs', 'up', 'to', 'affix', 'charges', 'to', 'the', 'roof', 'and', 'rotors', 'and', 'like', 'a', 'tight', 'roper', 'he', 'walks', 'out', 'on', 'the', 'tail', 'of', 'the', 'helicopter', 'when', 'suddenly', 'his', 'foot', 'slips', 'piercing', 'the', 'tails', 'thin', 'skin', 'and', 'he', 'nearly', 'falls', 'off', 'He', 'manages', 'to', 'place', 'a', 'last', 'charge', 'but', 'the', 'remainder', 'of', 'the', 'tail', 'piece', 'will', 'not', 'be', 'detonated', '109', 'COMPOUND', 'FIELD', 'Back', 'at', 'the', 'whirling', 'helicopter', 'the', 'SEALs', 'shove', 'the', 'BODY', 'BAG', 'into', 'the', 'interior', 'compartment', 'and', 'jump', 'in', 'after', 'it', 'The', 'helo', 'rises', 'into', 'the', 'night', 'CUT', 'TO', 'HELO', 'CONTINUOUS', 'PRINCE', '51', 'explodes', 'sending', 'shrapnel', 'and', 'a', 'fireball', 'high', 'into', 'the', 'air', 'PRINCE', '52', 'CONTINUOUS', 'The', 'SEALs', 'watch', 'the', 'flames', 'as', 'the', 'compound', 'shrinks', 'beneath', 'EXT', 'COMPOUND', 'ANIMAL', 'CONTINUOUS', 'The', 'fire', 'of', 'the', 'exploded', 'crashed', 'helo', 'blazes', 'in', 'the', 'night', 'INT', 'PRINCE', '52', 'A', 'MOMENT', 'LATER', 'The', 'SEALs', 'sit', 'silent', 'in', 'the', 'cabin', 'body', 'bag', 'at', 'their', 'feet', 'CUT', 'TO', 'EXT', 'LANDING', 'JALALABAD', 'FORWARD', 'OPERATING', 'BASE', 'LATER', 'Bathed', 'in', 'the', 'bright', 'white', 'lights', 'Maya', 'waits', 'for', 'the', 'helo', 'Concern', 'on', 'her', 'face', 'At', 'last', 'she', 'hears', 'it', 'A', 'moment', 'later', 'PRINCE', '52', 'hovers', 'into', 'view', 'and', 'lands', 'and', 'several', 'SEALs', 'run', 'out', 'carrying', 'the', 'bag', 'INT', 'HANGAR', 'The', 'place', 'is', 'swarming', 'with', 'SEALs', 'and', 'agents', 'with', 'large', 'biometric', 'scanners', 'loud', 'shouting', 'everywhere', 'mark', 'media', 'first', 'floor', 'who', 'has', 'a', 'pen', 'etc', 'EXT', 'LANDING', 'Maya', 'makes', 'her', 'way', 'towards', 'the', 'hangar', 'tent', 'INT', 'HANGAR', 'She', 'pushes', 'through', 'the', 'busy', 'SEALs', 'Maya', 'sees', 'it', 'now', 'way', 'in', 'the', 'corner', 'of', 'the', 'hangar', '110', 'She', 'walks', 'and', 'walks', 'towards', 'the', 'bag', 'She', 'is', 'alone', 'with', 'it', 'now', 'She', 'unzips', 'the', 'BAG', 'CU', 'Maya', 'Seven', 'years', 'telescoping', 'to', 'this', 'moment', 'The', 'end', 'of', 'a', 'journey', 'She', 'stares', 'at', 'the', 'body', 'for', 'a', 'moment', 'then', 'turns', 'to', 'look', 'across', 'the', 'room', 'where', 'MCRAVEN', 'meets', 'her', 'eye', 'She', 'nods', 'MCRAVEN', 'INTO', 'PHONE', 'Sir', 'the', 'agency', 'expert', 'gave', 'a', 'visual', 'confirmation', 'Yes', 'Sir', 'the', 'girl', 'Hundred', 'percent', 'Maya', 'gazes', 'at', 'the', 'bloodied', 'face', 'then', 'turns', 'away', 'and', 'zips', 'the', 'bagand', 'leaves', 'the', 'tent', 'Her', 'eyes', 'afire', 'CUT', 'TO', 'EXT', 'JALALABAD', 'EARLY', 'Maya', 'waits', 'on', 'the', 'tarmac', 'alone', 'A', 'C17', 'one', 'of', 'the', 'largest', 'most', 'impressive', 'planes', 'in', 'the', 'American', 'fleet', 'rolls', 'to', 'a', 'stop', 'and', 'the', 'hatch', 'opens', 'She', 'climbs', 'the', 'ladder', 'INT', 'C17', 'CONTINUOUS', 'The', 'cavernous', 'cargo', 'plane', 'is', 'empty', 'of', 'passengers', 'The', 'pilot', 'motions', 'to', 'the', 'seats', 'Are', 'you', 'Maya', 'MAYA', 'Yeah', 'PILOT', 'Thats', 'the', 'only', 'name', 'they', 'gave', 'me', 'You', 'can', 'sit', 'wherever', 'you', 'want', 'youre', 'the', 'only', 'one', 'on', 'the', 'manifest', '111', 'Maya', 'sits', 'down', 'buckles', 'in', 'The', 'PILOT', 'heads', 'back', 'to', 'the', 'CABIN', 'PILOT', 'CONTD', 'You', 'must', 'be', 'pretty', 'important', 'you', 'got', 'the', 'whole', 'plane', 'to', 'yourself', 'Beat', 'PILOT', 'CONTD', 'Where', 'do', 'you', 'want', 'to', 'go', 'Shes', 'speechless', 'Overwhelmed', 'Finally', 'she', 'lets', 'go', 'Those', 'luminous', 'eyes', 'become', 'pools', 'of', 'relief', 'and', 'pain', 'CUT', 'TO', 'BLACK', 'Zero', 'Dark', 'Thirty', 'Writers', 'nbspnbspMark', 'Boal', 'Genres', 'nbspnbspDramanbspnbspThriller', 'User', 'Comments', 'Back', 'to', 'IMSDb']\n"
     ]
    }
   ],
   "source": [
    "print(x_scrtext_2[436])"
   ]
  },
  {
   "cell_type": "code",
   "execution_count": 12,
   "metadata": {
    "collapsed": false
   },
   "outputs": [
    {
     "name": "stdout",
     "output_type": "stream",
     "text": [
      "('This many done: ', 50)\n",
      "('This many done: ', 100)\n",
      "('This many done: ', 150)\n",
      "('This many done: ', 200)\n",
      "('This many done: ', 250)\n",
      "('This many done: ', 300)\n",
      "('This many done: ', 350)\n",
      "('This many done: ', 400)\n"
     ]
    }
   ],
   "source": [
    "# do it one more time\n",
    "x_scrtext_3 = preprocessing_removeScene(x_scrtext_2)"
   ]
  },
  {
   "cell_type": "code",
   "execution_count": 13,
   "metadata": {
    "collapsed": false
   },
   "outputs": [
    {
     "name": "stdout",
     "output_type": "stream",
     "text": [
      "18019\n",
      "18019\n"
     ]
    }
   ],
   "source": [
    "print(len(x_scrtext_2[436]))\n",
    "print(len(x_scrtext_3[436]))"
   ]
  },
  {
   "cell_type": "code",
   "execution_count": 14,
   "metadata": {
    "collapsed": true
   },
   "outputs": [],
   "source": [
    "stop_words = set(stopwords.words('english'))"
   ]
  },
  {
   "cell_type": "code",
   "execution_count": 15,
   "metadata": {
    "collapsed": false
   },
   "outputs": [],
   "source": [
    "def preprocessing_stemmer(movie_text):\n",
    "    movie_text4 = []\n",
    "    stemmer = PorterStemmer()\n",
    "    for movie in movie_text:\n",
    "        tmp_movie = []\n",
    "        for w in movie:\n",
    "            w = w.lower()\n",
    "            if w not in stop_words:\n",
    "                tmp_movie.append(stemmer.stem(w))\n",
    "        movie_text4.append(tmp_movie)\n",
    "    print(len(movie_text4))\n",
    "    print(type(movie_text4))\n",
    "    return movie_text4"
   ]
  },
  {
   "cell_type": "code",
   "execution_count": 16,
   "metadata": {
    "collapsed": false
   },
   "outputs": [
    {
     "name": "stdout",
     "output_type": "stream",
     "text": [
      "437\n",
      "<type 'list'>\n"
     ]
    }
   ],
   "source": [
    "x_scrtext_4 = preprocessing_stemmer(x_scrtext_3)"
   ]
  },
  {
   "cell_type": "code",
   "execution_count": 17,
   "metadata": {
    "collapsed": false
   },
   "outputs": [
    {
     "name": "stdout",
     "output_type": "stream",
     "text": [
      "18019\n",
      "10035\n"
     ]
    }
   ],
   "source": [
    "print(len(x_scrtext_3[436]))\n",
    "print(len(x_scrtext_4[436]))"
   ]
  },
  {
   "cell_type": "code",
   "execution_count": 5,
   "metadata": {
    "collapsed": false,
    "scrolled": false
   },
   "outputs": [],
   "source": [
    "#print(x_scrtext_4[436])"
   ]
  },
  {
   "cell_type": "markdown",
   "metadata": {},
   "source": [
    "### 2. Compute Similarities\n",
    "- Create the dictionary and corpus\n",
    "- Apply LSA methodology"
   ]
  },
  {
   "cell_type": "code",
   "execution_count": 51,
   "metadata": {
    "collapsed": true
   },
   "outputs": [],
   "source": [
    "# Create the dictionary\n",
    "dictionary = corpora.Dictionary(x_scrtext_4)"
   ]
  },
  {
   "cell_type": "code",
   "execution_count": 52,
   "metadata": {
    "collapsed": false
   },
   "outputs": [
    {
     "data": {
      "text/plain": [
       "[(u'fawn', 5331),\n",
       " (u'circuitri', 20598),\n",
       " (u'mmmpossibl', 79999),\n",
       " (u'schlegel', 9287),\n",
       " (u'sonji', 12699),\n",
       " (u'auggi', 83467),\n",
       " (u'mustachio', 43063),\n",
       " (u'woodi', 17913),\n",
       " (u'grandkid', 54710),\n",
       " (u'alrahman', 85306)]"
      ]
     },
     "execution_count": 52,
     "metadata": {},
     "output_type": "execute_result"
    }
   ],
   "source": [
    "list(itertools.islice(dictionary.token2id.items(), 0, 10))"
   ]
  },
  {
   "cell_type": "code",
   "execution_count": 54,
   "metadata": {
    "collapsed": false
   },
   "outputs": [],
   "source": [
    "# Creating corpus\n",
    "corpus = [dictionary.doc2bow(text) for text in x_scrtext_4]"
   ]
  },
  {
   "cell_type": "code",
   "execution_count": 55,
   "metadata": {
    "collapsed": false
   },
   "outputs": [
    {
     "name": "stdout",
     "output_type": "stream",
     "text": [
      "[(0, 1), (1, 8), (2, 1), (3, 11), (4, 1), (5, 1), (6, 1), (7, 2), (8, 1), (9, 11)]\n"
     ]
    }
   ],
   "source": [
    "print(corpus[0][:10])"
   ]
  },
  {
   "cell_type": "code",
   "execution_count": 56,
   "metadata": {
    "collapsed": false
   },
   "outputs": [
    {
     "data": {
      "text/plain": [
       "u'enjoy'"
      ]
     },
     "execution_count": 56,
     "metadata": {},
     "output_type": "execute_result"
    }
   ],
   "source": [
    "dictionary[24]"
   ]
  },
  {
   "cell_type": "code",
   "execution_count": 21,
   "metadata": {
    "collapsed": true
   },
   "outputs": [],
   "source": [
    "# Apply tf-idf transformation"
   ]
  },
  {
   "cell_type": "code",
   "execution_count": 57,
   "metadata": {
    "collapsed": true
   },
   "outputs": [],
   "source": [
    "tfidf = models.TfidfModel(corpus)\n",
    "corpus_tfidf = tfidf[corpus]"
   ]
  },
  {
   "cell_type": "code",
   "execution_count": 58,
   "metadata": {
    "collapsed": false
   },
   "outputs": [
    {
     "name": "stdout",
     "output_type": "stream",
     "text": [
      "[(0, 0.00023454463167326504), (1, 0.0018155088528265197), (2, 0.014476316160116187), (3, 0.007628791419793525), (4, 0.008366429014692997), (5, 0.0016735061875926688), (6, 0.011650254164639015), (7, 0.013497337656869264), (8, 0.010200649417867285), (9, 0.0007060137287942953)]\n"
     ]
    }
   ],
   "source": [
    "print(corpus_tfidf[0][:10])"
   ]
  },
  {
   "cell_type": "code",
   "execution_count": 65,
   "metadata": {
    "collapsed": true
   },
   "outputs": [],
   "source": [
    "# Creating LSA Model:\n",
    "lsi = models.LsiModel(corpus_tfidf, id2word = dictionary, num_topics = 30)\n",
    "index = similarities.MatrixSimilarity(lsi[corpus_tfidf])\n",
    "\n",
    "# Make it into dataframe\n",
    "movie = pd.DataFrame(\n",
    "    {'title': movie_title,\n",
    "     'boxoffice': y_boxoffice,\n",
    "     'text': x_scrtext_4\n",
    "    })"
   ]
  },
  {
   "cell_type": "code",
   "execution_count": 85,
   "metadata": {
    "collapsed": false
   },
   "outputs": [],
   "source": [
    "# Add similarity score\n",
    "\n",
    "movie['similarity'] = 'unknown'\n",
    "movie['size_similar'] = 0\n",
    "total_sims = [] # storage of all similarity vectors to analysis\n",
    "threshold = 0.2\n",
    "for i, doc in enumerate(corpus_tfidf):\n",
    "    vec_lsi = lsi[doc] # convert the vector to LSI space\n",
    "    sims = index[vec_lsi] # perform a similarity vector against the corpus\n",
    "    total_sims = np.concatenate([total_sims, sims])\n",
    "    similarity = [] # Create a list with movie_id and similarity value\n",
    "    for j, x in enumerate(movie.title):\n",
    "        if sims[j] > threshold:\n",
    "            similarity.append((x, sims[j]))\n",
    "    similarity = sorted(similarity, key=lambda item: -item[1])\n",
    "    movie = movie.set_value(i, 'similarity', similarity)\n",
    "    movie = movie.set_value(i, 'size_similar', len(similarity))"
   ]
  },
  {
   "cell_type": "code",
   "execution_count": 86,
   "metadata": {
    "collapsed": true
   },
   "outputs": [],
   "source": [
    "db_similarity = movie[['title', 'similarity']]\n",
    "db_similarity.to_csv('625_similarity.csv', sep = '|') #Store"
   ]
  },
  {
   "cell_type": "markdown",
   "metadata": {
    "collapsed": true
   },
   "source": [
    "### 3. Predict Movie Revenue\n",
    "- Transform movie revenue into 3 scale (3 being hit, 1 being flop)\n",
    "- Create BOW\n",
    "- Train RF and predict movie revenue"
   ]
  },
  {
   "cell_type": "code",
   "execution_count": 18,
   "metadata": {
    "collapsed": true
   },
   "outputs": [],
   "source": [
    "def hit_or_flop(boxoffice):\n",
    "    boxoffice_range = copy.copy(boxoffice)\n",
    "    for idx,b in enumerate(boxoffice_range):\n",
    "        if boxoffice_range[idx] > '300000000':\n",
    "            boxoffice_range[idx] = 3\n",
    "        elif boxoffice_range[idx] > '100000000' and boxoffice_range[idx] < '300000000':\n",
    "            boxoffice_range[idx] = 2\n",
    "        elif boxoffice_range[idx] < '100000000':\n",
    "            boxoffice_range[idx] = 1\n",
    "    return boxoffice_range"
   ]
  },
  {
   "cell_type": "code",
   "execution_count": 19,
   "metadata": {
    "collapsed": false
   },
   "outputs": [],
   "source": [
    "boxoffice_range = hit_or_flop(y_boxoffice)"
   ]
  },
  {
   "cell_type": "code",
   "execution_count": 20,
   "metadata": {
    "collapsed": false
   },
   "outputs": [],
   "source": [
    "#print(boxoffice_range)"
   ]
  },
  {
   "cell_type": "code",
   "execution_count": 21,
   "metadata": {
    "collapsed": true
   },
   "outputs": [],
   "source": [
    "class train_and_test:\n",
    "    def __init__(self,scrtext, boxoffice_range, movieList):\n",
    "        self.x = scrtext\n",
    "        self.y = boxoffice_range\n",
    "        self.movieList = movieList\n",
    "        \n",
    "    def split_train_test(self,train_portion):\n",
    "        self.train_set_x = self.x[:train_portion]\n",
    "        self.test_set_x = self.x[train_portion:]\n",
    "        self.train_set_y = self.y[:train_portion]\n",
    "        self.test_set_y = self.y[train_portion:]\n",
    "        self.train_movieList = self.movieList[:train_portion]\n",
    "        self.test_movieList = self.movieList[train_portion:]\n",
    "        print(\"Train set %f\" %len(self.train_set_x))\n",
    "        print(\"Test set %f\" % len(self.test_set_x))\n",
    "\n",
    "    def feature_extraction(self):\n",
    "        vectorizer = CountVectorizer(analyzer= 'word',\n",
    "                                     tokenizer= None,\n",
    "                                     preprocessor= None,\n",
    "                                     stop_words= 'english',\n",
    "                                     max_features= 700)\n",
    "\n",
    "        self.train_data_features = vectorizer.fit_transform(self.train_set_x)\n",
    "        self.train_data_features = self.train_data_features.toarray()\n",
    "        \n",
    "        self.test_data_features = vectorizer.fit_transform(self.test_set_x)\n",
    "        self.test_data_features = self.test_data_features.toarray()\n",
    "        print(\"Training data array looks like this:\", self.train_data_features.shape)\n",
    "        print(\"Test data array looks like this:\", self.test_data_features.shape)\n",
    "\n",
    "    def train_randomForest(self):\n",
    "        # Initialize RF with 100 trees\n",
    "        forest = RandomForestClassifier(n_estimators=300)\n",
    "\n",
    "        # Fit the forest to the training set, using the bag of words as features\n",
    "        # and box office labels as the response variable\n",
    "        self.forest = forest.fit(self.train_data_features, self.train_set_y)\n",
    "        print(\"Finished training the data\")\n",
    "\n",
    "    def make_prediction(self): \n",
    "        self.result = self.forest.predict(self.test_data_features)\n",
    "        self.output = pd.DataFrame(data={\"box-office\": self.result})\n",
    "        print(self.output)\n",
    "    \n",
    "    def score(self):\n",
    "        self.pscore = metrics.accuracy_score(self.test_set_y, self.result)\n",
    "        #self.pscore_train = metrics.accuracy_score(y_train, pred_train)\n",
    "        print(self.pscore)"
   ]
  },
  {
   "cell_type": "code",
   "execution_count": 22,
   "metadata": {
    "collapsed": false
   },
   "outputs": [],
   "source": [
    "movie_text = []\n",
    "for movie in x_scrtext_4:\n",
    "    results = \" \".join([w for w in movie])\n",
    "    #print(len(results))\n",
    "    movie_text.append(results)"
   ]
  },
  {
   "cell_type": "code",
   "execution_count": 23,
   "metadata": {
    "collapsed": false
   },
   "outputs": [
    {
     "name": "stdout",
     "output_type": "stream",
     "text": [
      "437\n"
     ]
    }
   ],
   "source": [
    "print(len(movie_text))"
   ]
  },
  {
   "cell_type": "code",
   "execution_count": 24,
   "metadata": {
    "collapsed": false
   },
   "outputs": [
    {
     "name": "stdout",
     "output_type": "stream",
     "text": [
      "Train set 300.000000\n",
      "Test set 137.000000\n",
      "('Training data array looks like this:', (300, 700))\n",
      "('Test data array looks like this:', (137, 700))\n"
     ]
    }
   ],
   "source": [
    "job = train_and_test(movie_text, boxoffice_range, movie_title)\n",
    "job.split_train_test(300)\n",
    "job.feature_extraction()"
   ]
  },
  {
   "cell_type": "code",
   "execution_count": 25,
   "metadata": {
    "collapsed": false
   },
   "outputs": [
    {
     "name": "stdout",
     "output_type": "stream",
     "text": [
      "Finished training the data\n"
     ]
    }
   ],
   "source": [
    "job.train_randomForest()"
   ]
  },
  {
   "cell_type": "code",
   "execution_count": 26,
   "metadata": {
    "collapsed": false
   },
   "outputs": [
    {
     "name": "stdout",
     "output_type": "stream",
     "text": [
      "     box-office\n",
      "0             2\n",
      "1             3\n",
      "2             2\n",
      "3             2\n",
      "4             3\n",
      "5             3\n",
      "6             2\n",
      "7             3\n",
      "8             3\n",
      "9             2\n",
      "10            3\n",
      "11            2\n",
      "12            2\n",
      "13            3\n",
      "14            3\n",
      "15            2\n",
      "16            3\n",
      "17            3\n",
      "18            2\n",
      "19            3\n",
      "20            2\n",
      "21            2\n",
      "22            2\n",
      "23            3\n",
      "24            3\n",
      "25            3\n",
      "26            2\n",
      "27            3\n",
      "28            2\n",
      "29            2\n",
      "..          ...\n",
      "107           2\n",
      "108           2\n",
      "109           2\n",
      "110           2\n",
      "111           3\n",
      "112           3\n",
      "113           2\n",
      "114           3\n",
      "115           2\n",
      "116           3\n",
      "117           2\n",
      "118           2\n",
      "119           3\n",
      "120           3\n",
      "121           3\n",
      "122           2\n",
      "123           3\n",
      "124           2\n",
      "125           3\n",
      "126           3\n",
      "127           2\n",
      "128           3\n",
      "129           3\n",
      "130           3\n",
      "131           3\n",
      "132           2\n",
      "133           3\n",
      "134           3\n",
      "135           3\n",
      "136           2\n",
      "\n",
      "[137 rows x 1 columns]\n"
     ]
    }
   ],
   "source": [
    "job.make_prediction()"
   ]
  },
  {
   "cell_type": "code",
   "execution_count": 27,
   "metadata": {
    "collapsed": false
   },
   "outputs": [
    {
     "name": "stdout",
     "output_type": "stream",
     "text": [
      "0.583941605839\n"
     ]
    }
   ],
   "source": [
    "job.score()"
   ]
  }
 ],
 "metadata": {
  "anaconda-cloud": {},
  "kernelspec": {
   "display_name": "Python [default]",
   "language": "python",
   "name": "python2"
  },
  "language_info": {
   "codemirror_mode": {
    "name": "ipython",
    "version": 2
   },
   "file_extension": ".py",
   "mimetype": "text/x-python",
   "name": "python",
   "nbconvert_exporter": "python",
   "pygments_lexer": "ipython2",
   "version": "2.7.12"
  }
 },
 "nbformat": 4,
 "nbformat_minor": 1
}
